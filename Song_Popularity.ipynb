{
  "cells": [
    {
      "cell_type": "markdown",
      "metadata": {
        "id": "view-in-github",
        "colab_type": "text"
      },
      "source": [
        "<a href=\"https://colab.research.google.com/github/Shavva-Satya196/Song_Popularity/blob/main/Song_Popularity.ipynb\" target=\"_parent\"><img src=\"https://colab.research.google.com/assets/colab-badge.svg\" alt=\"Open In Colab\"/></a>"
      ]
    },
    {
      "cell_type": "markdown",
      "metadata": {
        "id": "gvqlenC1_hfc"
      },
      "source": [
        "## Introduction\n",
        "Currently, being able to predict that something might be popular beforehand is an important research subject for every industry. It also has recently became a very important subject for the growing and competitive music industry as well. Since wide use of digital music platforms (Spotify, Billboard, Lastfm), data can be easily reached and the listening behaviors of the listeners can be easily observed. This provides convenience in forecasting techniques and it is also frequently used in recommendation systems."
      ]
    },
    {
      "cell_type": "markdown",
      "metadata": {
        "id": "QR8_uKWVC60v"
      },
      "source": [
        "## Import Libraries\n",
        "\n",
        "\n"
      ]
    },
    {
      "cell_type": "code",
      "execution_count": 1,
      "metadata": {
        "id": "0ytnN9e891Su"
      },
      "outputs": [],
      "source": [
        "# This Python 3 environment comes with many helpful analytics libraries installed\n",
        "# It is defined by the kaggle/python docker image: https://github.com/kaggle/docker-python\n",
        "# For example, here's several helpful packages to load in \n",
        "import numpy as np # linear algebra\n",
        "import pandas as pd # data processing, CSV file I/O (e.g. pd.read_csv)\n",
        "import matplotlib.pyplot as plt\n",
        "import seaborn as sns\n",
        "\n",
        "# Input data files are available in the \"../input/\" directory.\n",
        "# For example, running this (by clicking run or pressing Shift+Enter) will list all files under the input directory\n",
        "import os\n",
        "for dirname, _, filenames in os.walk('/content/song_data.csv'):\n",
        "    for filename in filenames:\n",
        "        print(os.path.join(dirname, filename))\n",
        "# Any results you write to the current directory are saved as output.\n",
        "import warnings\n",
        "warnings.filterwarnings(\"ignore\")\n"
      ]
    },
    {
      "cell_type": "code",
      "execution_count": 2,
      "metadata": {
        "id": "kQPfc2DMAB4H"
      },
      "outputs": [],
      "source": [
        "#load the data\n",
        "spotify_song_data= pd.read_csv(\"/content/song_data.csv\")\n",
        "spotify_song_info= pd.read_csv(\"/content/song_info.csv\") "
      ]
    },
    {
      "cell_type": "code",
      "execution_count": 3,
      "metadata": {
        "id": "bxJWpEuBEf2N"
      },
      "outputs": [],
      "source": [
        "song_info=spotify_song_info.copy()"
      ]
    },
    {
      "cell_type": "code",
      "execution_count": 4,
      "metadata": {
        "id": "_eDdSd4iEkjZ",
        "colab": {
          "base_uri": "https://localhost:8080/",
          "height": 240
        },
        "outputId": "f911d6b4-983e-4aa1-a7c3-7b38b891ae4c"
      },
      "outputs": [
        {
          "output_type": "execute_result",
          "data": {
            "text/plain": [
              "                    song_name  song_popularity  song_duration_ms  \\\n",
              "0  Boulevard of Broken Dreams               73            262333   \n",
              "1                  In The End               66            216933   \n",
              "2           Seven Nation Army               76            231733   \n",
              "\n",
              "   acousticness  danceability  energy  instrumentalness  key  liveness  \\\n",
              "0       0.00552         0.496   0.682          0.000029    8    0.0589   \n",
              "1       0.01030         0.542   0.853          0.000000    3    0.1080   \n",
              "2       0.00817         0.737   0.463          0.447000    0    0.2550   \n",
              "\n",
              "   loudness  audio_mode  speechiness    tempo  time_signature  audio_valence  \n",
              "0    -4.095           1       0.0294  167.060               4          0.474  \n",
              "1    -6.407           0       0.0498  105.256               4          0.370  \n",
              "2    -7.828           1       0.0792  123.881               4          0.324  "
            ],
            "text/html": [
              "\n",
              "  <div id=\"df-eee0d172-9699-4a34-ba38-4e98cbed44df\">\n",
              "    <div class=\"colab-df-container\">\n",
              "      <div>\n",
              "<style scoped>\n",
              "    .dataframe tbody tr th:only-of-type {\n",
              "        vertical-align: middle;\n",
              "    }\n",
              "\n",
              "    .dataframe tbody tr th {\n",
              "        vertical-align: top;\n",
              "    }\n",
              "\n",
              "    .dataframe thead th {\n",
              "        text-align: right;\n",
              "    }\n",
              "</style>\n",
              "<table border=\"1\" class=\"dataframe\">\n",
              "  <thead>\n",
              "    <tr style=\"text-align: right;\">\n",
              "      <th></th>\n",
              "      <th>song_name</th>\n",
              "      <th>song_popularity</th>\n",
              "      <th>song_duration_ms</th>\n",
              "      <th>acousticness</th>\n",
              "      <th>danceability</th>\n",
              "      <th>energy</th>\n",
              "      <th>instrumentalness</th>\n",
              "      <th>key</th>\n",
              "      <th>liveness</th>\n",
              "      <th>loudness</th>\n",
              "      <th>audio_mode</th>\n",
              "      <th>speechiness</th>\n",
              "      <th>tempo</th>\n",
              "      <th>time_signature</th>\n",
              "      <th>audio_valence</th>\n",
              "    </tr>\n",
              "  </thead>\n",
              "  <tbody>\n",
              "    <tr>\n",
              "      <th>0</th>\n",
              "      <td>Boulevard of Broken Dreams</td>\n",
              "      <td>73</td>\n",
              "      <td>262333</td>\n",
              "      <td>0.00552</td>\n",
              "      <td>0.496</td>\n",
              "      <td>0.682</td>\n",
              "      <td>0.000029</td>\n",
              "      <td>8</td>\n",
              "      <td>0.0589</td>\n",
              "      <td>-4.095</td>\n",
              "      <td>1</td>\n",
              "      <td>0.0294</td>\n",
              "      <td>167.060</td>\n",
              "      <td>4</td>\n",
              "      <td>0.474</td>\n",
              "    </tr>\n",
              "    <tr>\n",
              "      <th>1</th>\n",
              "      <td>In The End</td>\n",
              "      <td>66</td>\n",
              "      <td>216933</td>\n",
              "      <td>0.01030</td>\n",
              "      <td>0.542</td>\n",
              "      <td>0.853</td>\n",
              "      <td>0.000000</td>\n",
              "      <td>3</td>\n",
              "      <td>0.1080</td>\n",
              "      <td>-6.407</td>\n",
              "      <td>0</td>\n",
              "      <td>0.0498</td>\n",
              "      <td>105.256</td>\n",
              "      <td>4</td>\n",
              "      <td>0.370</td>\n",
              "    </tr>\n",
              "    <tr>\n",
              "      <th>2</th>\n",
              "      <td>Seven Nation Army</td>\n",
              "      <td>76</td>\n",
              "      <td>231733</td>\n",
              "      <td>0.00817</td>\n",
              "      <td>0.737</td>\n",
              "      <td>0.463</td>\n",
              "      <td>0.447000</td>\n",
              "      <td>0</td>\n",
              "      <td>0.2550</td>\n",
              "      <td>-7.828</td>\n",
              "      <td>1</td>\n",
              "      <td>0.0792</td>\n",
              "      <td>123.881</td>\n",
              "      <td>4</td>\n",
              "      <td>0.324</td>\n",
              "    </tr>\n",
              "  </tbody>\n",
              "</table>\n",
              "</div>\n",
              "      <button class=\"colab-df-convert\" onclick=\"convertToInteractive('df-eee0d172-9699-4a34-ba38-4e98cbed44df')\"\n",
              "              title=\"Convert this dataframe to an interactive table.\"\n",
              "              style=\"display:none;\">\n",
              "        \n",
              "  <svg xmlns=\"http://www.w3.org/2000/svg\" height=\"24px\"viewBox=\"0 0 24 24\"\n",
              "       width=\"24px\">\n",
              "    <path d=\"M0 0h24v24H0V0z\" fill=\"none\"/>\n",
              "    <path d=\"M18.56 5.44l.94 2.06.94-2.06 2.06-.94-2.06-.94-.94-2.06-.94 2.06-2.06.94zm-11 1L8.5 8.5l.94-2.06 2.06-.94-2.06-.94L8.5 2.5l-.94 2.06-2.06.94zm10 10l.94 2.06.94-2.06 2.06-.94-2.06-.94-.94-2.06-.94 2.06-2.06.94z\"/><path d=\"M17.41 7.96l-1.37-1.37c-.4-.4-.92-.59-1.43-.59-.52 0-1.04.2-1.43.59L10.3 9.45l-7.72 7.72c-.78.78-.78 2.05 0 2.83L4 21.41c.39.39.9.59 1.41.59.51 0 1.02-.2 1.41-.59l7.78-7.78 2.81-2.81c.8-.78.8-2.07 0-2.86zM5.41 20L4 18.59l7.72-7.72 1.47 1.35L5.41 20z\"/>\n",
              "  </svg>\n",
              "      </button>\n",
              "      \n",
              "  <style>\n",
              "    .colab-df-container {\n",
              "      display:flex;\n",
              "      flex-wrap:wrap;\n",
              "      gap: 12px;\n",
              "    }\n",
              "\n",
              "    .colab-df-convert {\n",
              "      background-color: #E8F0FE;\n",
              "      border: none;\n",
              "      border-radius: 50%;\n",
              "      cursor: pointer;\n",
              "      display: none;\n",
              "      fill: #1967D2;\n",
              "      height: 32px;\n",
              "      padding: 0 0 0 0;\n",
              "      width: 32px;\n",
              "    }\n",
              "\n",
              "    .colab-df-convert:hover {\n",
              "      background-color: #E2EBFA;\n",
              "      box-shadow: 0px 1px 2px rgba(60, 64, 67, 0.3), 0px 1px 3px 1px rgba(60, 64, 67, 0.15);\n",
              "      fill: #174EA6;\n",
              "    }\n",
              "\n",
              "    [theme=dark] .colab-df-convert {\n",
              "      background-color: #3B4455;\n",
              "      fill: #D2E3FC;\n",
              "    }\n",
              "\n",
              "    [theme=dark] .colab-df-convert:hover {\n",
              "      background-color: #434B5C;\n",
              "      box-shadow: 0px 1px 3px 1px rgba(0, 0, 0, 0.15);\n",
              "      filter: drop-shadow(0px 1px 2px rgba(0, 0, 0, 0.3));\n",
              "      fill: #FFFFFF;\n",
              "    }\n",
              "  </style>\n",
              "\n",
              "      <script>\n",
              "        const buttonEl =\n",
              "          document.querySelector('#df-eee0d172-9699-4a34-ba38-4e98cbed44df button.colab-df-convert');\n",
              "        buttonEl.style.display =\n",
              "          google.colab.kernel.accessAllowed ? 'block' : 'none';\n",
              "\n",
              "        async function convertToInteractive(key) {\n",
              "          const element = document.querySelector('#df-eee0d172-9699-4a34-ba38-4e98cbed44df');\n",
              "          const dataTable =\n",
              "            await google.colab.kernel.invokeFunction('convertToInteractive',\n",
              "                                                     [key], {});\n",
              "          if (!dataTable) return;\n",
              "\n",
              "          const docLinkHtml = 'Like what you see? Visit the ' +\n",
              "            '<a target=\"_blank\" href=https://colab.research.google.com/notebooks/data_table.ipynb>data table notebook</a>'\n",
              "            + ' to learn more about interactive tables.';\n",
              "          element.innerHTML = '';\n",
              "          dataTable['output_type'] = 'display_data';\n",
              "          await google.colab.output.renderOutput(dataTable, element);\n",
              "          const docLink = document.createElement('div');\n",
              "          docLink.innerHTML = docLinkHtml;\n",
              "          element.appendChild(docLink);\n",
              "        }\n",
              "      </script>\n",
              "    </div>\n",
              "  </div>\n",
              "  "
            ]
          },
          "metadata": {},
          "execution_count": 4
        }
      ],
      "source": [
        "song_data=spotify_song_data.copy()\n",
        "song_data.head(3)"
      ]
    },
    {
      "cell_type": "code",
      "execution_count": 5,
      "metadata": {
        "id": "VdS2MHugEmu0",
        "colab": {
          "base_uri": "https://localhost:8080/"
        },
        "outputId": "54f7d0f8-57c2-4b6d-c582-1c9d9a9ca6f5"
      },
      "outputs": [
        {
          "output_type": "execute_result",
          "data": {
            "text/plain": [
              "(18835, 15)"
            ]
          },
          "metadata": {},
          "execution_count": 5
        }
      ],
      "source": [
        "song_data.shape"
      ]
    },
    {
      "cell_type": "markdown",
      "metadata": {
        "id": "fJqBzlADEsgN"
      },
      "source": [
        "## Cleaning Data"
      ]
    },
    {
      "cell_type": "code",
      "execution_count": 6,
      "metadata": {
        "id": "98ceBs_IEplx",
        "colab": {
          "base_uri": "https://localhost:8080/"
        },
        "outputId": "85148e8c-f154-45ce-9610-573d182db5b2"
      },
      "outputs": [
        {
          "output_type": "execute_result",
          "data": {
            "text/plain": [
              "Index([], dtype='object')"
            ]
          },
          "metadata": {},
          "execution_count": 6
        }
      ],
      "source": [
        "song_data.columns[song_data.isnull().any()]"
      ]
    },
    {
      "cell_type": "code",
      "execution_count": 7,
      "metadata": {
        "id": "R5-95bBAEwyW",
        "colab": {
          "base_uri": "https://localhost:8080/"
        },
        "outputId": "7086d0db-63b7-42cf-e5b6-07a5530c7267"
      },
      "outputs": [
        {
          "output_type": "execute_result",
          "data": {
            "text/plain": [
              "song_name           0\n",
              "song_popularity     0\n",
              "song_duration_ms    0\n",
              "acousticness        0\n",
              "danceability        0\n",
              "energy              0\n",
              "instrumentalness    0\n",
              "key                 0\n",
              "liveness            0\n",
              "loudness            0\n",
              "audio_mode          0\n",
              "speechiness         0\n",
              "tempo               0\n",
              "time_signature      0\n",
              "audio_valence       0\n",
              "dtype: int64"
            ]
          },
          "metadata": {},
          "execution_count": 7
        }
      ],
      "source": [
        "song_data.isnull().sum()"
      ]
    },
    {
      "cell_type": "markdown",
      "metadata": {
        "id": "znV4JO_ZE51f"
      },
      "source": [
        "## Analysis"
      ]
    },
    {
      "cell_type": "code",
      "execution_count": 8,
      "metadata": {
        "id": "9z596L6xEyxu",
        "colab": {
          "base_uri": "https://localhost:8080/"
        },
        "outputId": "f4889ef7-3275-4977-9378-78194b8081a1"
      },
      "outputs": [
        {
          "output_type": "stream",
          "name": "stdout",
          "text": [
            "<class 'pandas.core.frame.DataFrame'>\n",
            "RangeIndex: 18835 entries, 0 to 18834\n",
            "Data columns (total 15 columns):\n",
            " #   Column            Non-Null Count  Dtype  \n",
            "---  ------            --------------  -----  \n",
            " 0   song_name         18835 non-null  object \n",
            " 1   song_popularity   18835 non-null  int64  \n",
            " 2   song_duration_ms  18835 non-null  int64  \n",
            " 3   acousticness      18835 non-null  float64\n",
            " 4   danceability      18835 non-null  float64\n",
            " 5   energy            18835 non-null  float64\n",
            " 6   instrumentalness  18835 non-null  float64\n",
            " 7   key               18835 non-null  int64  \n",
            " 8   liveness          18835 non-null  float64\n",
            " 9   loudness          18835 non-null  float64\n",
            " 10  audio_mode        18835 non-null  int64  \n",
            " 11  speechiness       18835 non-null  float64\n",
            " 12  tempo             18835 non-null  float64\n",
            " 13  time_signature    18835 non-null  int64  \n",
            " 14  audio_valence     18835 non-null  float64\n",
            "dtypes: float64(9), int64(5), object(1)\n",
            "memory usage: 2.2+ MB\n"
          ]
        }
      ],
      "source": [
        "song_data.info()"
      ]
    },
    {
      "cell_type": "code",
      "execution_count": 9,
      "metadata": {
        "id": "y-iZGDqVE-WR"
      },
      "outputs": [],
      "source": [
        "song_data.song_duration_ms= song_data.song_duration_ms.astype(float)\n",
        "song_data.time_signature= song_data.time_signature.astype(float)\n",
        "song_data.audio_mode= song_data.audio_mode.astype(float)"
      ]
    },
    {
      "cell_type": "code",
      "execution_count": 10,
      "metadata": {
        "id": "hme8fTErFCYg",
        "colab": {
          "base_uri": "https://localhost:8080/",
          "height": 364
        },
        "outputId": "307af3d6-ff2a-4b51-bdd9-5cac9fef2177"
      },
      "outputs": [
        {
          "output_type": "execute_result",
          "data": {
            "text/plain": [
              "       song_popularity  song_duration_ms  acousticness  danceability  \\\n",
              "count     18835.000000      1.883500e+04  18835.000000  18835.000000   \n",
              "mean         52.991877      2.182116e+05      0.258539      0.633348   \n",
              "std          21.905654      5.988754e+04      0.288719      0.156723   \n",
              "min           0.000000      1.200000e+04      0.000001      0.000000   \n",
              "25%          40.000000      1.843395e+05      0.024100      0.533000   \n",
              "50%          56.000000      2.113060e+05      0.132000      0.645000   \n",
              "75%          69.000000      2.428440e+05      0.424000      0.748000   \n",
              "max         100.000000      1.799346e+06      0.996000      0.987000   \n",
              "\n",
              "             energy  instrumentalness           key      liveness  \\\n",
              "count  18835.000000      18835.000000  18835.000000  18835.000000   \n",
              "mean       0.644995          0.078008      5.289196      0.179650   \n",
              "std        0.214101          0.221591      3.614595      0.143984   \n",
              "min        0.001070          0.000000      0.000000      0.010900   \n",
              "25%        0.510000          0.000000      2.000000      0.092900   \n",
              "50%        0.674000          0.000011      5.000000      0.122000   \n",
              "75%        0.815000          0.002570      8.000000      0.221000   \n",
              "max        0.999000          0.997000     11.000000      0.986000   \n",
              "\n",
              "           loudness    audio_mode   speechiness         tempo  time_signature  \\\n",
              "count  18835.000000  18835.000000  18835.000000  18835.000000    18835.000000   \n",
              "mean      -7.447435      0.628139      0.102099    121.073154        3.959119   \n",
              "std        3.827831      0.483314      0.104378     28.714456        0.298533   \n",
              "min      -38.768000      0.000000      0.000000      0.000000        0.000000   \n",
              "25%       -9.044000      0.000000      0.037800     98.368000        4.000000   \n",
              "50%       -6.555000      1.000000      0.055500    120.013000        4.000000   \n",
              "75%       -4.908000      1.000000      0.119000    139.931000        4.000000   \n",
              "max        1.585000      1.000000      0.941000    242.318000        5.000000   \n",
              "\n",
              "       audio_valence  \n",
              "count   18835.000000  \n",
              "mean        0.527967  \n",
              "std         0.244632  \n",
              "min         0.000000  \n",
              "25%         0.335000  \n",
              "50%         0.527000  \n",
              "75%         0.725000  \n",
              "max         0.984000  "
            ],
            "text/html": [
              "\n",
              "  <div id=\"df-a3bc4383-5aba-435c-ad94-83f44e0bf867\">\n",
              "    <div class=\"colab-df-container\">\n",
              "      <div>\n",
              "<style scoped>\n",
              "    .dataframe tbody tr th:only-of-type {\n",
              "        vertical-align: middle;\n",
              "    }\n",
              "\n",
              "    .dataframe tbody tr th {\n",
              "        vertical-align: top;\n",
              "    }\n",
              "\n",
              "    .dataframe thead th {\n",
              "        text-align: right;\n",
              "    }\n",
              "</style>\n",
              "<table border=\"1\" class=\"dataframe\">\n",
              "  <thead>\n",
              "    <tr style=\"text-align: right;\">\n",
              "      <th></th>\n",
              "      <th>song_popularity</th>\n",
              "      <th>song_duration_ms</th>\n",
              "      <th>acousticness</th>\n",
              "      <th>danceability</th>\n",
              "      <th>energy</th>\n",
              "      <th>instrumentalness</th>\n",
              "      <th>key</th>\n",
              "      <th>liveness</th>\n",
              "      <th>loudness</th>\n",
              "      <th>audio_mode</th>\n",
              "      <th>speechiness</th>\n",
              "      <th>tempo</th>\n",
              "      <th>time_signature</th>\n",
              "      <th>audio_valence</th>\n",
              "    </tr>\n",
              "  </thead>\n",
              "  <tbody>\n",
              "    <tr>\n",
              "      <th>count</th>\n",
              "      <td>18835.000000</td>\n",
              "      <td>1.883500e+04</td>\n",
              "      <td>18835.000000</td>\n",
              "      <td>18835.000000</td>\n",
              "      <td>18835.000000</td>\n",
              "      <td>18835.000000</td>\n",
              "      <td>18835.000000</td>\n",
              "      <td>18835.000000</td>\n",
              "      <td>18835.000000</td>\n",
              "      <td>18835.000000</td>\n",
              "      <td>18835.000000</td>\n",
              "      <td>18835.000000</td>\n",
              "      <td>18835.000000</td>\n",
              "      <td>18835.000000</td>\n",
              "    </tr>\n",
              "    <tr>\n",
              "      <th>mean</th>\n",
              "      <td>52.991877</td>\n",
              "      <td>2.182116e+05</td>\n",
              "      <td>0.258539</td>\n",
              "      <td>0.633348</td>\n",
              "      <td>0.644995</td>\n",
              "      <td>0.078008</td>\n",
              "      <td>5.289196</td>\n",
              "      <td>0.179650</td>\n",
              "      <td>-7.447435</td>\n",
              "      <td>0.628139</td>\n",
              "      <td>0.102099</td>\n",
              "      <td>121.073154</td>\n",
              "      <td>3.959119</td>\n",
              "      <td>0.527967</td>\n",
              "    </tr>\n",
              "    <tr>\n",
              "      <th>std</th>\n",
              "      <td>21.905654</td>\n",
              "      <td>5.988754e+04</td>\n",
              "      <td>0.288719</td>\n",
              "      <td>0.156723</td>\n",
              "      <td>0.214101</td>\n",
              "      <td>0.221591</td>\n",
              "      <td>3.614595</td>\n",
              "      <td>0.143984</td>\n",
              "      <td>3.827831</td>\n",
              "      <td>0.483314</td>\n",
              "      <td>0.104378</td>\n",
              "      <td>28.714456</td>\n",
              "      <td>0.298533</td>\n",
              "      <td>0.244632</td>\n",
              "    </tr>\n",
              "    <tr>\n",
              "      <th>min</th>\n",
              "      <td>0.000000</td>\n",
              "      <td>1.200000e+04</td>\n",
              "      <td>0.000001</td>\n",
              "      <td>0.000000</td>\n",
              "      <td>0.001070</td>\n",
              "      <td>0.000000</td>\n",
              "      <td>0.000000</td>\n",
              "      <td>0.010900</td>\n",
              "      <td>-38.768000</td>\n",
              "      <td>0.000000</td>\n",
              "      <td>0.000000</td>\n",
              "      <td>0.000000</td>\n",
              "      <td>0.000000</td>\n",
              "      <td>0.000000</td>\n",
              "    </tr>\n",
              "    <tr>\n",
              "      <th>25%</th>\n",
              "      <td>40.000000</td>\n",
              "      <td>1.843395e+05</td>\n",
              "      <td>0.024100</td>\n",
              "      <td>0.533000</td>\n",
              "      <td>0.510000</td>\n",
              "      <td>0.000000</td>\n",
              "      <td>2.000000</td>\n",
              "      <td>0.092900</td>\n",
              "      <td>-9.044000</td>\n",
              "      <td>0.000000</td>\n",
              "      <td>0.037800</td>\n",
              "      <td>98.368000</td>\n",
              "      <td>4.000000</td>\n",
              "      <td>0.335000</td>\n",
              "    </tr>\n",
              "    <tr>\n",
              "      <th>50%</th>\n",
              "      <td>56.000000</td>\n",
              "      <td>2.113060e+05</td>\n",
              "      <td>0.132000</td>\n",
              "      <td>0.645000</td>\n",
              "      <td>0.674000</td>\n",
              "      <td>0.000011</td>\n",
              "      <td>5.000000</td>\n",
              "      <td>0.122000</td>\n",
              "      <td>-6.555000</td>\n",
              "      <td>1.000000</td>\n",
              "      <td>0.055500</td>\n",
              "      <td>120.013000</td>\n",
              "      <td>4.000000</td>\n",
              "      <td>0.527000</td>\n",
              "    </tr>\n",
              "    <tr>\n",
              "      <th>75%</th>\n",
              "      <td>69.000000</td>\n",
              "      <td>2.428440e+05</td>\n",
              "      <td>0.424000</td>\n",
              "      <td>0.748000</td>\n",
              "      <td>0.815000</td>\n",
              "      <td>0.002570</td>\n",
              "      <td>8.000000</td>\n",
              "      <td>0.221000</td>\n",
              "      <td>-4.908000</td>\n",
              "      <td>1.000000</td>\n",
              "      <td>0.119000</td>\n",
              "      <td>139.931000</td>\n",
              "      <td>4.000000</td>\n",
              "      <td>0.725000</td>\n",
              "    </tr>\n",
              "    <tr>\n",
              "      <th>max</th>\n",
              "      <td>100.000000</td>\n",
              "      <td>1.799346e+06</td>\n",
              "      <td>0.996000</td>\n",
              "      <td>0.987000</td>\n",
              "      <td>0.999000</td>\n",
              "      <td>0.997000</td>\n",
              "      <td>11.000000</td>\n",
              "      <td>0.986000</td>\n",
              "      <td>1.585000</td>\n",
              "      <td>1.000000</td>\n",
              "      <td>0.941000</td>\n",
              "      <td>242.318000</td>\n",
              "      <td>5.000000</td>\n",
              "      <td>0.984000</td>\n",
              "    </tr>\n",
              "  </tbody>\n",
              "</table>\n",
              "</div>\n",
              "      <button class=\"colab-df-convert\" onclick=\"convertToInteractive('df-a3bc4383-5aba-435c-ad94-83f44e0bf867')\"\n",
              "              title=\"Convert this dataframe to an interactive table.\"\n",
              "              style=\"display:none;\">\n",
              "        \n",
              "  <svg xmlns=\"http://www.w3.org/2000/svg\" height=\"24px\"viewBox=\"0 0 24 24\"\n",
              "       width=\"24px\">\n",
              "    <path d=\"M0 0h24v24H0V0z\" fill=\"none\"/>\n",
              "    <path d=\"M18.56 5.44l.94 2.06.94-2.06 2.06-.94-2.06-.94-.94-2.06-.94 2.06-2.06.94zm-11 1L8.5 8.5l.94-2.06 2.06-.94-2.06-.94L8.5 2.5l-.94 2.06-2.06.94zm10 10l.94 2.06.94-2.06 2.06-.94-2.06-.94-.94-2.06-.94 2.06-2.06.94z\"/><path d=\"M17.41 7.96l-1.37-1.37c-.4-.4-.92-.59-1.43-.59-.52 0-1.04.2-1.43.59L10.3 9.45l-7.72 7.72c-.78.78-.78 2.05 0 2.83L4 21.41c.39.39.9.59 1.41.59.51 0 1.02-.2 1.41-.59l7.78-7.78 2.81-2.81c.8-.78.8-2.07 0-2.86zM5.41 20L4 18.59l7.72-7.72 1.47 1.35L5.41 20z\"/>\n",
              "  </svg>\n",
              "      </button>\n",
              "      \n",
              "  <style>\n",
              "    .colab-df-container {\n",
              "      display:flex;\n",
              "      flex-wrap:wrap;\n",
              "      gap: 12px;\n",
              "    }\n",
              "\n",
              "    .colab-df-convert {\n",
              "      background-color: #E8F0FE;\n",
              "      border: none;\n",
              "      border-radius: 50%;\n",
              "      cursor: pointer;\n",
              "      display: none;\n",
              "      fill: #1967D2;\n",
              "      height: 32px;\n",
              "      padding: 0 0 0 0;\n",
              "      width: 32px;\n",
              "    }\n",
              "\n",
              "    .colab-df-convert:hover {\n",
              "      background-color: #E2EBFA;\n",
              "      box-shadow: 0px 1px 2px rgba(60, 64, 67, 0.3), 0px 1px 3px 1px rgba(60, 64, 67, 0.15);\n",
              "      fill: #174EA6;\n",
              "    }\n",
              "\n",
              "    [theme=dark] .colab-df-convert {\n",
              "      background-color: #3B4455;\n",
              "      fill: #D2E3FC;\n",
              "    }\n",
              "\n",
              "    [theme=dark] .colab-df-convert:hover {\n",
              "      background-color: #434B5C;\n",
              "      box-shadow: 0px 1px 3px 1px rgba(0, 0, 0, 0.15);\n",
              "      filter: drop-shadow(0px 1px 2px rgba(0, 0, 0, 0.3));\n",
              "      fill: #FFFFFF;\n",
              "    }\n",
              "  </style>\n",
              "\n",
              "      <script>\n",
              "        const buttonEl =\n",
              "          document.querySelector('#df-a3bc4383-5aba-435c-ad94-83f44e0bf867 button.colab-df-convert');\n",
              "        buttonEl.style.display =\n",
              "          google.colab.kernel.accessAllowed ? 'block' : 'none';\n",
              "\n",
              "        async function convertToInteractive(key) {\n",
              "          const element = document.querySelector('#df-a3bc4383-5aba-435c-ad94-83f44e0bf867');\n",
              "          const dataTable =\n",
              "            await google.colab.kernel.invokeFunction('convertToInteractive',\n",
              "                                                     [key], {});\n",
              "          if (!dataTable) return;\n",
              "\n",
              "          const docLinkHtml = 'Like what you see? Visit the ' +\n",
              "            '<a target=\"_blank\" href=https://colab.research.google.com/notebooks/data_table.ipynb>data table notebook</a>'\n",
              "            + ' to learn more about interactive tables.';\n",
              "          element.innerHTML = '';\n",
              "          dataTable['output_type'] = 'display_data';\n",
              "          await google.colab.output.renderOutput(dataTable, element);\n",
              "          const docLink = document.createElement('div');\n",
              "          docLink.innerHTML = docLinkHtml;\n",
              "          element.appendChild(docLink);\n",
              "        }\n",
              "      </script>\n",
              "    </div>\n",
              "  </div>\n",
              "  "
            ]
          },
          "metadata": {},
          "execution_count": 10
        }
      ],
      "source": [
        "song_data.describe()"
      ]
    },
    {
      "cell_type": "code",
      "execution_count": 11,
      "metadata": {
        "id": "ruJBjRHRFEbT",
        "colab": {
          "base_uri": "https://localhost:8080/"
        },
        "outputId": "e1beca11-89e7-4299-e013-7e6fff71d233"
      },
      "outputs": [
        {
          "output_type": "execute_result",
          "data": {
            "text/plain": [
              "0    13386\n",
              "1     5449\n",
              "Name: popularity, dtype: int64"
            ]
          },
          "metadata": {},
          "execution_count": 11
        }
      ],
      "source": [
        "song_data[\"popularity\"]= [ 1 if i>=66.5 else 0 for i in song_data.song_popularity ]\n",
        "song_data[\"popularity\"].value_counts()"
      ]
    },
    {
      "cell_type": "markdown",
      "metadata": {
        "id": "8p8T8tWNFLfV"
      },
      "source": [
        "Checked popularity rating of songs that have been popular in the last 10 years \n",
        "in Spotify and took the mean value of them (66.5) . According to this value, the songs has above this rating could remain on the top lists for a long time. If song_popularity is higher than 66.5 (this is about 30% percent of data) we labeled it \"1\" and if is not we labeled it \"0\". So we have \"1\" for the popular songs and \"0\" for the unpopular ones.\n",
        "\n",
        "\n",
        "\n"
      ]
    },
    {
      "cell_type": "code",
      "execution_count": 12,
      "metadata": {
        "id": "xI3C4ovhFG95",
        "colab": {
          "base_uri": "https://localhost:8080/",
          "height": 364
        },
        "outputId": "c04b459a-66c6-4c3a-d8d7-38270088f790"
      },
      "outputs": [
        {
          "output_type": "execute_result",
          "data": {
            "text/plain": [
              "       song_popularity  song_duration_ms  acousticness  danceability  \\\n",
              "count      5449.000000       5449.000000   5449.000000   5449.000000   \n",
              "mean         76.992292     218539.555515      0.210354      0.659758   \n",
              "std           8.068717      48620.048311      0.246079      0.147652   \n",
              "min          67.000000      67000.000000      0.000009      0.072200   \n",
              "25%          71.000000     190185.000000      0.026300      0.562000   \n",
              "50%          75.000000     212429.000000      0.106000      0.668000   \n",
              "75%          82.000000     240533.000000      0.300000      0.765000   \n",
              "max         100.000000     547733.000000      0.996000      0.978000   \n",
              "\n",
              "            energy  instrumentalness         key     liveness     loudness  \\\n",
              "count  5449.000000       5449.000000  5449.00000  5449.000000  5449.000000   \n",
              "mean      0.658601          0.022390     5.11782     0.174400    -6.624852   \n",
              "std       0.187495          0.115572     3.65752     0.137557     3.139341   \n",
              "min       0.002890          0.000000     0.00000     0.021500   -34.255000   \n",
              "25%       0.541000          0.000000     1.00000     0.092000    -7.906000   \n",
              "50%       0.680000          0.000000     5.00000     0.121000    -5.985000   \n",
              "75%       0.802000          0.000118     8.00000     0.203000    -4.626000   \n",
              "max       0.997000          0.968000    11.00000     0.978000    -0.739000   \n",
              "\n",
              "        audio_mode  speechiness        tempo  time_signature  audio_valence  \\\n",
              "count  5449.000000  5449.000000  5449.000000     5449.000000    5449.000000   \n",
              "mean      0.618829     0.106247   120.753878        3.974307       0.520436   \n",
              "std       0.485719     0.102181    27.737971        0.255771       0.230911   \n",
              "min       0.000000     0.022400    57.178000        1.000000       0.035200   \n",
              "25%       0.000000     0.039100    98.883000        4.000000       0.336000   \n",
              "50%       1.000000     0.059100   119.886000        4.000000       0.511000   \n",
              "75%       1.000000     0.131000   139.910000        4.000000       0.701000   \n",
              "max       1.000000     0.733000   212.058000        5.000000       0.980000   \n",
              "\n",
              "       popularity  \n",
              "count      5449.0  \n",
              "mean          1.0  \n",
              "std           0.0  \n",
              "min           1.0  \n",
              "25%           1.0  \n",
              "50%           1.0  \n",
              "75%           1.0  \n",
              "max           1.0  "
            ],
            "text/html": [
              "\n",
              "  <div id=\"df-6fea5b22-dff2-4a28-bdfd-280060880ea4\">\n",
              "    <div class=\"colab-df-container\">\n",
              "      <div>\n",
              "<style scoped>\n",
              "    .dataframe tbody tr th:only-of-type {\n",
              "        vertical-align: middle;\n",
              "    }\n",
              "\n",
              "    .dataframe tbody tr th {\n",
              "        vertical-align: top;\n",
              "    }\n",
              "\n",
              "    .dataframe thead th {\n",
              "        text-align: right;\n",
              "    }\n",
              "</style>\n",
              "<table border=\"1\" class=\"dataframe\">\n",
              "  <thead>\n",
              "    <tr style=\"text-align: right;\">\n",
              "      <th></th>\n",
              "      <th>song_popularity</th>\n",
              "      <th>song_duration_ms</th>\n",
              "      <th>acousticness</th>\n",
              "      <th>danceability</th>\n",
              "      <th>energy</th>\n",
              "      <th>instrumentalness</th>\n",
              "      <th>key</th>\n",
              "      <th>liveness</th>\n",
              "      <th>loudness</th>\n",
              "      <th>audio_mode</th>\n",
              "      <th>speechiness</th>\n",
              "      <th>tempo</th>\n",
              "      <th>time_signature</th>\n",
              "      <th>audio_valence</th>\n",
              "      <th>popularity</th>\n",
              "    </tr>\n",
              "  </thead>\n",
              "  <tbody>\n",
              "    <tr>\n",
              "      <th>count</th>\n",
              "      <td>5449.000000</td>\n",
              "      <td>5449.000000</td>\n",
              "      <td>5449.000000</td>\n",
              "      <td>5449.000000</td>\n",
              "      <td>5449.000000</td>\n",
              "      <td>5449.000000</td>\n",
              "      <td>5449.00000</td>\n",
              "      <td>5449.000000</td>\n",
              "      <td>5449.000000</td>\n",
              "      <td>5449.000000</td>\n",
              "      <td>5449.000000</td>\n",
              "      <td>5449.000000</td>\n",
              "      <td>5449.000000</td>\n",
              "      <td>5449.000000</td>\n",
              "      <td>5449.0</td>\n",
              "    </tr>\n",
              "    <tr>\n",
              "      <th>mean</th>\n",
              "      <td>76.992292</td>\n",
              "      <td>218539.555515</td>\n",
              "      <td>0.210354</td>\n",
              "      <td>0.659758</td>\n",
              "      <td>0.658601</td>\n",
              "      <td>0.022390</td>\n",
              "      <td>5.11782</td>\n",
              "      <td>0.174400</td>\n",
              "      <td>-6.624852</td>\n",
              "      <td>0.618829</td>\n",
              "      <td>0.106247</td>\n",
              "      <td>120.753878</td>\n",
              "      <td>3.974307</td>\n",
              "      <td>0.520436</td>\n",
              "      <td>1.0</td>\n",
              "    </tr>\n",
              "    <tr>\n",
              "      <th>std</th>\n",
              "      <td>8.068717</td>\n",
              "      <td>48620.048311</td>\n",
              "      <td>0.246079</td>\n",
              "      <td>0.147652</td>\n",
              "      <td>0.187495</td>\n",
              "      <td>0.115572</td>\n",
              "      <td>3.65752</td>\n",
              "      <td>0.137557</td>\n",
              "      <td>3.139341</td>\n",
              "      <td>0.485719</td>\n",
              "      <td>0.102181</td>\n",
              "      <td>27.737971</td>\n",
              "      <td>0.255771</td>\n",
              "      <td>0.230911</td>\n",
              "      <td>0.0</td>\n",
              "    </tr>\n",
              "    <tr>\n",
              "      <th>min</th>\n",
              "      <td>67.000000</td>\n",
              "      <td>67000.000000</td>\n",
              "      <td>0.000009</td>\n",
              "      <td>0.072200</td>\n",
              "      <td>0.002890</td>\n",
              "      <td>0.000000</td>\n",
              "      <td>0.00000</td>\n",
              "      <td>0.021500</td>\n",
              "      <td>-34.255000</td>\n",
              "      <td>0.000000</td>\n",
              "      <td>0.022400</td>\n",
              "      <td>57.178000</td>\n",
              "      <td>1.000000</td>\n",
              "      <td>0.035200</td>\n",
              "      <td>1.0</td>\n",
              "    </tr>\n",
              "    <tr>\n",
              "      <th>25%</th>\n",
              "      <td>71.000000</td>\n",
              "      <td>190185.000000</td>\n",
              "      <td>0.026300</td>\n",
              "      <td>0.562000</td>\n",
              "      <td>0.541000</td>\n",
              "      <td>0.000000</td>\n",
              "      <td>1.00000</td>\n",
              "      <td>0.092000</td>\n",
              "      <td>-7.906000</td>\n",
              "      <td>0.000000</td>\n",
              "      <td>0.039100</td>\n",
              "      <td>98.883000</td>\n",
              "      <td>4.000000</td>\n",
              "      <td>0.336000</td>\n",
              "      <td>1.0</td>\n",
              "    </tr>\n",
              "    <tr>\n",
              "      <th>50%</th>\n",
              "      <td>75.000000</td>\n",
              "      <td>212429.000000</td>\n",
              "      <td>0.106000</td>\n",
              "      <td>0.668000</td>\n",
              "      <td>0.680000</td>\n",
              "      <td>0.000000</td>\n",
              "      <td>5.00000</td>\n",
              "      <td>0.121000</td>\n",
              "      <td>-5.985000</td>\n",
              "      <td>1.000000</td>\n",
              "      <td>0.059100</td>\n",
              "      <td>119.886000</td>\n",
              "      <td>4.000000</td>\n",
              "      <td>0.511000</td>\n",
              "      <td>1.0</td>\n",
              "    </tr>\n",
              "    <tr>\n",
              "      <th>75%</th>\n",
              "      <td>82.000000</td>\n",
              "      <td>240533.000000</td>\n",
              "      <td>0.300000</td>\n",
              "      <td>0.765000</td>\n",
              "      <td>0.802000</td>\n",
              "      <td>0.000118</td>\n",
              "      <td>8.00000</td>\n",
              "      <td>0.203000</td>\n",
              "      <td>-4.626000</td>\n",
              "      <td>1.000000</td>\n",
              "      <td>0.131000</td>\n",
              "      <td>139.910000</td>\n",
              "      <td>4.000000</td>\n",
              "      <td>0.701000</td>\n",
              "      <td>1.0</td>\n",
              "    </tr>\n",
              "    <tr>\n",
              "      <th>max</th>\n",
              "      <td>100.000000</td>\n",
              "      <td>547733.000000</td>\n",
              "      <td>0.996000</td>\n",
              "      <td>0.978000</td>\n",
              "      <td>0.997000</td>\n",
              "      <td>0.968000</td>\n",
              "      <td>11.00000</td>\n",
              "      <td>0.978000</td>\n",
              "      <td>-0.739000</td>\n",
              "      <td>1.000000</td>\n",
              "      <td>0.733000</td>\n",
              "      <td>212.058000</td>\n",
              "      <td>5.000000</td>\n",
              "      <td>0.980000</td>\n",
              "      <td>1.0</td>\n",
              "    </tr>\n",
              "  </tbody>\n",
              "</table>\n",
              "</div>\n",
              "      <button class=\"colab-df-convert\" onclick=\"convertToInteractive('df-6fea5b22-dff2-4a28-bdfd-280060880ea4')\"\n",
              "              title=\"Convert this dataframe to an interactive table.\"\n",
              "              style=\"display:none;\">\n",
              "        \n",
              "  <svg xmlns=\"http://www.w3.org/2000/svg\" height=\"24px\"viewBox=\"0 0 24 24\"\n",
              "       width=\"24px\">\n",
              "    <path d=\"M0 0h24v24H0V0z\" fill=\"none\"/>\n",
              "    <path d=\"M18.56 5.44l.94 2.06.94-2.06 2.06-.94-2.06-.94-.94-2.06-.94 2.06-2.06.94zm-11 1L8.5 8.5l.94-2.06 2.06-.94-2.06-.94L8.5 2.5l-.94 2.06-2.06.94zm10 10l.94 2.06.94-2.06 2.06-.94-2.06-.94-.94-2.06-.94 2.06-2.06.94z\"/><path d=\"M17.41 7.96l-1.37-1.37c-.4-.4-.92-.59-1.43-.59-.52 0-1.04.2-1.43.59L10.3 9.45l-7.72 7.72c-.78.78-.78 2.05 0 2.83L4 21.41c.39.39.9.59 1.41.59.51 0 1.02-.2 1.41-.59l7.78-7.78 2.81-2.81c.8-.78.8-2.07 0-2.86zM5.41 20L4 18.59l7.72-7.72 1.47 1.35L5.41 20z\"/>\n",
              "  </svg>\n",
              "      </button>\n",
              "      \n",
              "  <style>\n",
              "    .colab-df-container {\n",
              "      display:flex;\n",
              "      flex-wrap:wrap;\n",
              "      gap: 12px;\n",
              "    }\n",
              "\n",
              "    .colab-df-convert {\n",
              "      background-color: #E8F0FE;\n",
              "      border: none;\n",
              "      border-radius: 50%;\n",
              "      cursor: pointer;\n",
              "      display: none;\n",
              "      fill: #1967D2;\n",
              "      height: 32px;\n",
              "      padding: 0 0 0 0;\n",
              "      width: 32px;\n",
              "    }\n",
              "\n",
              "    .colab-df-convert:hover {\n",
              "      background-color: #E2EBFA;\n",
              "      box-shadow: 0px 1px 2px rgba(60, 64, 67, 0.3), 0px 1px 3px 1px rgba(60, 64, 67, 0.15);\n",
              "      fill: #174EA6;\n",
              "    }\n",
              "\n",
              "    [theme=dark] .colab-df-convert {\n",
              "      background-color: #3B4455;\n",
              "      fill: #D2E3FC;\n",
              "    }\n",
              "\n",
              "    [theme=dark] .colab-df-convert:hover {\n",
              "      background-color: #434B5C;\n",
              "      box-shadow: 0px 1px 3px 1px rgba(0, 0, 0, 0.15);\n",
              "      filter: drop-shadow(0px 1px 2px rgba(0, 0, 0, 0.3));\n",
              "      fill: #FFFFFF;\n",
              "    }\n",
              "  </style>\n",
              "\n",
              "      <script>\n",
              "        const buttonEl =\n",
              "          document.querySelector('#df-6fea5b22-dff2-4a28-bdfd-280060880ea4 button.colab-df-convert');\n",
              "        buttonEl.style.display =\n",
              "          google.colab.kernel.accessAllowed ? 'block' : 'none';\n",
              "\n",
              "        async function convertToInteractive(key) {\n",
              "          const element = document.querySelector('#df-6fea5b22-dff2-4a28-bdfd-280060880ea4');\n",
              "          const dataTable =\n",
              "            await google.colab.kernel.invokeFunction('convertToInteractive',\n",
              "                                                     [key], {});\n",
              "          if (!dataTable) return;\n",
              "\n",
              "          const docLinkHtml = 'Like what you see? Visit the ' +\n",
              "            '<a target=\"_blank\" href=https://colab.research.google.com/notebooks/data_table.ipynb>data table notebook</a>'\n",
              "            + ' to learn more about interactive tables.';\n",
              "          element.innerHTML = '';\n",
              "          dataTable['output_type'] = 'display_data';\n",
              "          await google.colab.output.renderOutput(dataTable, element);\n",
              "          const docLink = document.createElement('div');\n",
              "          docLink.innerHTML = docLinkHtml;\n",
              "          element.appendChild(docLink);\n",
              "        }\n",
              "      </script>\n",
              "    </div>\n",
              "  </div>\n",
              "  "
            ]
          },
          "metadata": {},
          "execution_count": 12
        }
      ],
      "source": [
        "#popular songs' data\n",
        "a=song_data[song_data[\"popularity\"]==1]\n",
        "a.describe()"
      ]
    },
    {
      "cell_type": "code",
      "execution_count": 13,
      "metadata": {
        "id": "liocAJM5FWHe",
        "colab": {
          "base_uri": "https://localhost:8080/",
          "height": 584
        },
        "outputId": "8750a848-fe15-487e-a1cf-dba400c41639"
      },
      "outputs": [
        {
          "output_type": "execute_result",
          "data": {
            "text/plain": [
              "                  song_popularity  song_duration_ms  acousticness  \\\n",
              "song_popularity          1.000000         -0.018899     -0.065181   \n",
              "song_duration_ms        -0.018899          1.000000     -0.097882   \n",
              "acousticness            -0.065181         -0.097882      1.000000   \n",
              "danceability             0.104290         -0.104985     -0.182500   \n",
              "energy                   0.001365          0.092688     -0.662639   \n",
              "instrumentalness        -0.130907         -0.015188      0.173098   \n",
              "key                     -0.013160         -0.004615     -0.002025   \n",
              "liveness                -0.038937          0.016086     -0.082537   \n",
              "loudness                 0.099442          0.016469     -0.557744   \n",
              "audio_mode              -0.004969         -0.026328      0.064100   \n",
              "speechiness              0.021479         -0.083447     -0.093574   \n",
              "tempo                   -0.022672          0.012791     -0.136421   \n",
              "time_signature           0.034983          0.000264     -0.157177   \n",
              "audio_valence           -0.052895         -0.063421     -0.121670   \n",
              "popularity               0.699048          0.003494     -0.106483   \n",
              "\n",
              "                  danceability    energy  instrumentalness       key  \\\n",
              "song_popularity       0.104290  0.001365         -0.130907 -0.013160   \n",
              "song_duration_ms     -0.104985  0.092688         -0.015188 -0.004615   \n",
              "acousticness         -0.182500 -0.662639          0.173098 -0.002025   \n",
              "danceability          1.000000  0.044373         -0.130483  0.007723   \n",
              "energy                0.044373  1.000000         -0.205914  0.020416   \n",
              "instrumentalness     -0.130483 -0.205914          1.000000 -0.009463   \n",
              "key                   0.007723  0.020416         -0.009463  1.000000   \n",
              "liveness             -0.090694  0.167143         -0.032887 -0.008193   \n",
              "loudness              0.177639  0.755516         -0.390248  0.010452   \n",
              "audio_mode           -0.106539 -0.051605         -0.014983 -0.169848   \n",
              "speechiness           0.213728  0.062053         -0.081138  0.033639   \n",
              "tempo                -0.121286  0.162448         -0.036934  0.003239   \n",
              "time_signature        0.136391  0.146265         -0.069181 -0.008282   \n",
              "audio_valence         0.332014  0.316742         -0.178570  0.025356   \n",
              "popularity            0.107519  0.040548         -0.160144 -0.030251   \n",
              "\n",
              "                  liveness  loudness  audio_mode  speechiness     tempo  \\\n",
              "song_popularity  -0.038937  0.099442   -0.004969     0.021479 -0.022672   \n",
              "song_duration_ms  0.016086  0.016469   -0.026328    -0.083447  0.012791   \n",
              "acousticness     -0.082537 -0.557744    0.064100    -0.093574 -0.136421   \n",
              "danceability     -0.090694  0.177639   -0.106539     0.213728 -0.121286   \n",
              "energy            0.167143  0.755516   -0.051605     0.062053  0.162448   \n",
              "instrumentalness -0.032887 -0.390248   -0.014983    -0.081138 -0.036934   \n",
              "key              -0.008193  0.010452   -0.169848     0.033639  0.003239   \n",
              "liveness          1.000000  0.102450   -0.001035     0.090845  0.031876   \n",
              "loudness          0.102450  1.000000   -0.058506     0.078164  0.129938   \n",
              "audio_mode       -0.001035 -0.058506    1.000000    -0.111627  0.020448   \n",
              "speechiness       0.090845  0.078164   -0.111627     1.000000  0.071685   \n",
              "tempo             0.031876  0.129938    0.020448     0.071685  1.000000   \n",
              "time_signature    0.013289  0.119241   -0.024042     0.057162  0.003978   \n",
              "audio_valence     0.013789  0.199696   -0.004558     0.011046  0.037667   \n",
              "popularity       -0.023265  0.137111   -0.012290     0.025356 -0.007094   \n",
              "\n",
              "                  time_signature  audio_valence  popularity  \n",
              "song_popularity         0.034983      -0.052895    0.699048  \n",
              "song_duration_ms        0.000264      -0.063421    0.003494  \n",
              "acousticness           -0.157177      -0.121670   -0.106483  \n",
              "danceability            0.136391       0.332014    0.107519  \n",
              "energy                  0.146265       0.316742    0.040548  \n",
              "instrumentalness       -0.069181      -0.178570   -0.160144  \n",
              "key                    -0.008282       0.025356   -0.030251  \n",
              "liveness                0.013289       0.013789   -0.023265  \n",
              "loudness                0.119241       0.199696    0.137111  \n",
              "audio_mode             -0.024042      -0.004558   -0.012290  \n",
              "speechiness             0.057162       0.011046    0.025356  \n",
              "tempo                   0.003978       0.037667   -0.007094  \n",
              "time_signature          1.000000       0.094670    0.032462  \n",
              "audio_valence           0.094670       1.000000   -0.019643  \n",
              "popularity              0.032462      -0.019643    1.000000  "
            ],
            "text/html": [
              "\n",
              "  <div id=\"df-c26a3a3c-90a8-46c4-bb8b-827d27466541\">\n",
              "    <div class=\"colab-df-container\">\n",
              "      <div>\n",
              "<style scoped>\n",
              "    .dataframe tbody tr th:only-of-type {\n",
              "        vertical-align: middle;\n",
              "    }\n",
              "\n",
              "    .dataframe tbody tr th {\n",
              "        vertical-align: top;\n",
              "    }\n",
              "\n",
              "    .dataframe thead th {\n",
              "        text-align: right;\n",
              "    }\n",
              "</style>\n",
              "<table border=\"1\" class=\"dataframe\">\n",
              "  <thead>\n",
              "    <tr style=\"text-align: right;\">\n",
              "      <th></th>\n",
              "      <th>song_popularity</th>\n",
              "      <th>song_duration_ms</th>\n",
              "      <th>acousticness</th>\n",
              "      <th>danceability</th>\n",
              "      <th>energy</th>\n",
              "      <th>instrumentalness</th>\n",
              "      <th>key</th>\n",
              "      <th>liveness</th>\n",
              "      <th>loudness</th>\n",
              "      <th>audio_mode</th>\n",
              "      <th>speechiness</th>\n",
              "      <th>tempo</th>\n",
              "      <th>time_signature</th>\n",
              "      <th>audio_valence</th>\n",
              "      <th>popularity</th>\n",
              "    </tr>\n",
              "  </thead>\n",
              "  <tbody>\n",
              "    <tr>\n",
              "      <th>song_popularity</th>\n",
              "      <td>1.000000</td>\n",
              "      <td>-0.018899</td>\n",
              "      <td>-0.065181</td>\n",
              "      <td>0.104290</td>\n",
              "      <td>0.001365</td>\n",
              "      <td>-0.130907</td>\n",
              "      <td>-0.013160</td>\n",
              "      <td>-0.038937</td>\n",
              "      <td>0.099442</td>\n",
              "      <td>-0.004969</td>\n",
              "      <td>0.021479</td>\n",
              "      <td>-0.022672</td>\n",
              "      <td>0.034983</td>\n",
              "      <td>-0.052895</td>\n",
              "      <td>0.699048</td>\n",
              "    </tr>\n",
              "    <tr>\n",
              "      <th>song_duration_ms</th>\n",
              "      <td>-0.018899</td>\n",
              "      <td>1.000000</td>\n",
              "      <td>-0.097882</td>\n",
              "      <td>-0.104985</td>\n",
              "      <td>0.092688</td>\n",
              "      <td>-0.015188</td>\n",
              "      <td>-0.004615</td>\n",
              "      <td>0.016086</td>\n",
              "      <td>0.016469</td>\n",
              "      <td>-0.026328</td>\n",
              "      <td>-0.083447</td>\n",
              "      <td>0.012791</td>\n",
              "      <td>0.000264</td>\n",
              "      <td>-0.063421</td>\n",
              "      <td>0.003494</td>\n",
              "    </tr>\n",
              "    <tr>\n",
              "      <th>acousticness</th>\n",
              "      <td>-0.065181</td>\n",
              "      <td>-0.097882</td>\n",
              "      <td>1.000000</td>\n",
              "      <td>-0.182500</td>\n",
              "      <td>-0.662639</td>\n",
              "      <td>0.173098</td>\n",
              "      <td>-0.002025</td>\n",
              "      <td>-0.082537</td>\n",
              "      <td>-0.557744</td>\n",
              "      <td>0.064100</td>\n",
              "      <td>-0.093574</td>\n",
              "      <td>-0.136421</td>\n",
              "      <td>-0.157177</td>\n",
              "      <td>-0.121670</td>\n",
              "      <td>-0.106483</td>\n",
              "    </tr>\n",
              "    <tr>\n",
              "      <th>danceability</th>\n",
              "      <td>0.104290</td>\n",
              "      <td>-0.104985</td>\n",
              "      <td>-0.182500</td>\n",
              "      <td>1.000000</td>\n",
              "      <td>0.044373</td>\n",
              "      <td>-0.130483</td>\n",
              "      <td>0.007723</td>\n",
              "      <td>-0.090694</td>\n",
              "      <td>0.177639</td>\n",
              "      <td>-0.106539</td>\n",
              "      <td>0.213728</td>\n",
              "      <td>-0.121286</td>\n",
              "      <td>0.136391</td>\n",
              "      <td>0.332014</td>\n",
              "      <td>0.107519</td>\n",
              "    </tr>\n",
              "    <tr>\n",
              "      <th>energy</th>\n",
              "      <td>0.001365</td>\n",
              "      <td>0.092688</td>\n",
              "      <td>-0.662639</td>\n",
              "      <td>0.044373</td>\n",
              "      <td>1.000000</td>\n",
              "      <td>-0.205914</td>\n",
              "      <td>0.020416</td>\n",
              "      <td>0.167143</td>\n",
              "      <td>0.755516</td>\n",
              "      <td>-0.051605</td>\n",
              "      <td>0.062053</td>\n",
              "      <td>0.162448</td>\n",
              "      <td>0.146265</td>\n",
              "      <td>0.316742</td>\n",
              "      <td>0.040548</td>\n",
              "    </tr>\n",
              "    <tr>\n",
              "      <th>instrumentalness</th>\n",
              "      <td>-0.130907</td>\n",
              "      <td>-0.015188</td>\n",
              "      <td>0.173098</td>\n",
              "      <td>-0.130483</td>\n",
              "      <td>-0.205914</td>\n",
              "      <td>1.000000</td>\n",
              "      <td>-0.009463</td>\n",
              "      <td>-0.032887</td>\n",
              "      <td>-0.390248</td>\n",
              "      <td>-0.014983</td>\n",
              "      <td>-0.081138</td>\n",
              "      <td>-0.036934</td>\n",
              "      <td>-0.069181</td>\n",
              "      <td>-0.178570</td>\n",
              "      <td>-0.160144</td>\n",
              "    </tr>\n",
              "    <tr>\n",
              "      <th>key</th>\n",
              "      <td>-0.013160</td>\n",
              "      <td>-0.004615</td>\n",
              "      <td>-0.002025</td>\n",
              "      <td>0.007723</td>\n",
              "      <td>0.020416</td>\n",
              "      <td>-0.009463</td>\n",
              "      <td>1.000000</td>\n",
              "      <td>-0.008193</td>\n",
              "      <td>0.010452</td>\n",
              "      <td>-0.169848</td>\n",
              "      <td>0.033639</td>\n",
              "      <td>0.003239</td>\n",
              "      <td>-0.008282</td>\n",
              "      <td>0.025356</td>\n",
              "      <td>-0.030251</td>\n",
              "    </tr>\n",
              "    <tr>\n",
              "      <th>liveness</th>\n",
              "      <td>-0.038937</td>\n",
              "      <td>0.016086</td>\n",
              "      <td>-0.082537</td>\n",
              "      <td>-0.090694</td>\n",
              "      <td>0.167143</td>\n",
              "      <td>-0.032887</td>\n",
              "      <td>-0.008193</td>\n",
              "      <td>1.000000</td>\n",
              "      <td>0.102450</td>\n",
              "      <td>-0.001035</td>\n",
              "      <td>0.090845</td>\n",
              "      <td>0.031876</td>\n",
              "      <td>0.013289</td>\n",
              "      <td>0.013789</td>\n",
              "      <td>-0.023265</td>\n",
              "    </tr>\n",
              "    <tr>\n",
              "      <th>loudness</th>\n",
              "      <td>0.099442</td>\n",
              "      <td>0.016469</td>\n",
              "      <td>-0.557744</td>\n",
              "      <td>0.177639</td>\n",
              "      <td>0.755516</td>\n",
              "      <td>-0.390248</td>\n",
              "      <td>0.010452</td>\n",
              "      <td>0.102450</td>\n",
              "      <td>1.000000</td>\n",
              "      <td>-0.058506</td>\n",
              "      <td>0.078164</td>\n",
              "      <td>0.129938</td>\n",
              "      <td>0.119241</td>\n",
              "      <td>0.199696</td>\n",
              "      <td>0.137111</td>\n",
              "    </tr>\n",
              "    <tr>\n",
              "      <th>audio_mode</th>\n",
              "      <td>-0.004969</td>\n",
              "      <td>-0.026328</td>\n",
              "      <td>0.064100</td>\n",
              "      <td>-0.106539</td>\n",
              "      <td>-0.051605</td>\n",
              "      <td>-0.014983</td>\n",
              "      <td>-0.169848</td>\n",
              "      <td>-0.001035</td>\n",
              "      <td>-0.058506</td>\n",
              "      <td>1.000000</td>\n",
              "      <td>-0.111627</td>\n",
              "      <td>0.020448</td>\n",
              "      <td>-0.024042</td>\n",
              "      <td>-0.004558</td>\n",
              "      <td>-0.012290</td>\n",
              "    </tr>\n",
              "    <tr>\n",
              "      <th>speechiness</th>\n",
              "      <td>0.021479</td>\n",
              "      <td>-0.083447</td>\n",
              "      <td>-0.093574</td>\n",
              "      <td>0.213728</td>\n",
              "      <td>0.062053</td>\n",
              "      <td>-0.081138</td>\n",
              "      <td>0.033639</td>\n",
              "      <td>0.090845</td>\n",
              "      <td>0.078164</td>\n",
              "      <td>-0.111627</td>\n",
              "      <td>1.000000</td>\n",
              "      <td>0.071685</td>\n",
              "      <td>0.057162</td>\n",
              "      <td>0.011046</td>\n",
              "      <td>0.025356</td>\n",
              "    </tr>\n",
              "    <tr>\n",
              "      <th>tempo</th>\n",
              "      <td>-0.022672</td>\n",
              "      <td>0.012791</td>\n",
              "      <td>-0.136421</td>\n",
              "      <td>-0.121286</td>\n",
              "      <td>0.162448</td>\n",
              "      <td>-0.036934</td>\n",
              "      <td>0.003239</td>\n",
              "      <td>0.031876</td>\n",
              "      <td>0.129938</td>\n",
              "      <td>0.020448</td>\n",
              "      <td>0.071685</td>\n",
              "      <td>1.000000</td>\n",
              "      <td>0.003978</td>\n",
              "      <td>0.037667</td>\n",
              "      <td>-0.007094</td>\n",
              "    </tr>\n",
              "    <tr>\n",
              "      <th>time_signature</th>\n",
              "      <td>0.034983</td>\n",
              "      <td>0.000264</td>\n",
              "      <td>-0.157177</td>\n",
              "      <td>0.136391</td>\n",
              "      <td>0.146265</td>\n",
              "      <td>-0.069181</td>\n",
              "      <td>-0.008282</td>\n",
              "      <td>0.013289</td>\n",
              "      <td>0.119241</td>\n",
              "      <td>-0.024042</td>\n",
              "      <td>0.057162</td>\n",
              "      <td>0.003978</td>\n",
              "      <td>1.000000</td>\n",
              "      <td>0.094670</td>\n",
              "      <td>0.032462</td>\n",
              "    </tr>\n",
              "    <tr>\n",
              "      <th>audio_valence</th>\n",
              "      <td>-0.052895</td>\n",
              "      <td>-0.063421</td>\n",
              "      <td>-0.121670</td>\n",
              "      <td>0.332014</td>\n",
              "      <td>0.316742</td>\n",
              "      <td>-0.178570</td>\n",
              "      <td>0.025356</td>\n",
              "      <td>0.013789</td>\n",
              "      <td>0.199696</td>\n",
              "      <td>-0.004558</td>\n",
              "      <td>0.011046</td>\n",
              "      <td>0.037667</td>\n",
              "      <td>0.094670</td>\n",
              "      <td>1.000000</td>\n",
              "      <td>-0.019643</td>\n",
              "    </tr>\n",
              "    <tr>\n",
              "      <th>popularity</th>\n",
              "      <td>0.699048</td>\n",
              "      <td>0.003494</td>\n",
              "      <td>-0.106483</td>\n",
              "      <td>0.107519</td>\n",
              "      <td>0.040548</td>\n",
              "      <td>-0.160144</td>\n",
              "      <td>-0.030251</td>\n",
              "      <td>-0.023265</td>\n",
              "      <td>0.137111</td>\n",
              "      <td>-0.012290</td>\n",
              "      <td>0.025356</td>\n",
              "      <td>-0.007094</td>\n",
              "      <td>0.032462</td>\n",
              "      <td>-0.019643</td>\n",
              "      <td>1.000000</td>\n",
              "    </tr>\n",
              "  </tbody>\n",
              "</table>\n",
              "</div>\n",
              "      <button class=\"colab-df-convert\" onclick=\"convertToInteractive('df-c26a3a3c-90a8-46c4-bb8b-827d27466541')\"\n",
              "              title=\"Convert this dataframe to an interactive table.\"\n",
              "              style=\"display:none;\">\n",
              "        \n",
              "  <svg xmlns=\"http://www.w3.org/2000/svg\" height=\"24px\"viewBox=\"0 0 24 24\"\n",
              "       width=\"24px\">\n",
              "    <path d=\"M0 0h24v24H0V0z\" fill=\"none\"/>\n",
              "    <path d=\"M18.56 5.44l.94 2.06.94-2.06 2.06-.94-2.06-.94-.94-2.06-.94 2.06-2.06.94zm-11 1L8.5 8.5l.94-2.06 2.06-.94-2.06-.94L8.5 2.5l-.94 2.06-2.06.94zm10 10l.94 2.06.94-2.06 2.06-.94-2.06-.94-.94-2.06-.94 2.06-2.06.94z\"/><path d=\"M17.41 7.96l-1.37-1.37c-.4-.4-.92-.59-1.43-.59-.52 0-1.04.2-1.43.59L10.3 9.45l-7.72 7.72c-.78.78-.78 2.05 0 2.83L4 21.41c.39.39.9.59 1.41.59.51 0 1.02-.2 1.41-.59l7.78-7.78 2.81-2.81c.8-.78.8-2.07 0-2.86zM5.41 20L4 18.59l7.72-7.72 1.47 1.35L5.41 20z\"/>\n",
              "  </svg>\n",
              "      </button>\n",
              "      \n",
              "  <style>\n",
              "    .colab-df-container {\n",
              "      display:flex;\n",
              "      flex-wrap:wrap;\n",
              "      gap: 12px;\n",
              "    }\n",
              "\n",
              "    .colab-df-convert {\n",
              "      background-color: #E8F0FE;\n",
              "      border: none;\n",
              "      border-radius: 50%;\n",
              "      cursor: pointer;\n",
              "      display: none;\n",
              "      fill: #1967D2;\n",
              "      height: 32px;\n",
              "      padding: 0 0 0 0;\n",
              "      width: 32px;\n",
              "    }\n",
              "\n",
              "    .colab-df-convert:hover {\n",
              "      background-color: #E2EBFA;\n",
              "      box-shadow: 0px 1px 2px rgba(60, 64, 67, 0.3), 0px 1px 3px 1px rgba(60, 64, 67, 0.15);\n",
              "      fill: #174EA6;\n",
              "    }\n",
              "\n",
              "    [theme=dark] .colab-df-convert {\n",
              "      background-color: #3B4455;\n",
              "      fill: #D2E3FC;\n",
              "    }\n",
              "\n",
              "    [theme=dark] .colab-df-convert:hover {\n",
              "      background-color: #434B5C;\n",
              "      box-shadow: 0px 1px 3px 1px rgba(0, 0, 0, 0.15);\n",
              "      filter: drop-shadow(0px 1px 2px rgba(0, 0, 0, 0.3));\n",
              "      fill: #FFFFFF;\n",
              "    }\n",
              "  </style>\n",
              "\n",
              "      <script>\n",
              "        const buttonEl =\n",
              "          document.querySelector('#df-c26a3a3c-90a8-46c4-bb8b-827d27466541 button.colab-df-convert');\n",
              "        buttonEl.style.display =\n",
              "          google.colab.kernel.accessAllowed ? 'block' : 'none';\n",
              "\n",
              "        async function convertToInteractive(key) {\n",
              "          const element = document.querySelector('#df-c26a3a3c-90a8-46c4-bb8b-827d27466541');\n",
              "          const dataTable =\n",
              "            await google.colab.kernel.invokeFunction('convertToInteractive',\n",
              "                                                     [key], {});\n",
              "          if (!dataTable) return;\n",
              "\n",
              "          const docLinkHtml = 'Like what you see? Visit the ' +\n",
              "            '<a target=\"_blank\" href=https://colab.research.google.com/notebooks/data_table.ipynb>data table notebook</a>'\n",
              "            + ' to learn more about interactive tables.';\n",
              "          element.innerHTML = '';\n",
              "          dataTable['output_type'] = 'display_data';\n",
              "          await google.colab.output.renderOutput(dataTable, element);\n",
              "          const docLink = document.createElement('div');\n",
              "          docLink.innerHTML = docLinkHtml;\n",
              "          element.appendChild(docLink);\n",
              "        }\n",
              "      </script>\n",
              "    </div>\n",
              "  </div>\n",
              "  "
            ]
          },
          "metadata": {},
          "execution_count": 13
        }
      ],
      "source": [
        "song_data.corr()"
      ]
    },
    {
      "cell_type": "code",
      "execution_count": 14,
      "metadata": {
        "id": "4-E6yO6ZFZMs",
        "colab": {
          "base_uri": "https://localhost:8080/",
          "height": 781
        },
        "outputId": "4102c729-9e4c-4814-dfcb-a6bab2a9958b"
      },
      "outputs": [
        {
          "output_type": "display_data",
          "data": {
            "text/plain": [
              "<Figure size 864x864 with 2 Axes>"
            ],
            "image/png": "[encoded data removed]"
          },
          "metadata": {
            "needs_background": "light"
          }
        }
      ],
      "source": [
        "f,ax = plt.subplots(figsize=(12, 12))\n",
        "mask = np.zeros_like(song_data.corr())\n",
        "mask[np.triu_indices_from(mask)] = True\n",
        "sns.heatmap(song_data.corr(), annot=True, linewidths=0.4,linecolor=\"white\", fmt= '.1f',ax=ax,cmap=\"Blues\",mask=mask)\n",
        "plt.show() "
      ]
    },
    {
      "cell_type": "markdown",
      "metadata": {
        "id": "loZHA0B0FjJO"
      },
      "source": [
        "Correlation between loudness and energy is 0.8 which is strong and correlation \n",
        "between loudness and accusticness is 0.6 which is moderate. Except two of them all the correlations are quite low. When we compare the correlation between song_popularity and all other features, we don't see a strong correlation (a linear relationship) that gives us a clear information about popularity. Accusticness,danceability and loudness seems to have correlation with popularity feature(0.10) and istrumentalness has 0.20."
      ]
    },
    {
      "cell_type": "markdown",
      "metadata": {
        "id": "Bm7C8ieDFxML"
      },
      "source": [
        "## Categorical Variable Analysis"
      ]
    },
    {
      "cell_type": "code",
      "execution_count": 15,
      "metadata": {
        "id": "D12mtnR8FzVR"
      },
      "outputs": [],
      "source": [
        "def bar_plot(variable):\n",
        "    \n",
        "    var=song_data[variable]\n",
        "    var_value= var.value_counts()\n",
        "    \n",
        "    #visualize\n",
        "    plt.figure(figsize=(9,3))\n",
        "    plt.bar(var_value.index,var_value,color=\"orange\")\n",
        "    plt.xticks(var_value.index,var_value.index.values)\n",
        "    plt.ylabel(\"Frequency\")\n",
        "    plt.title(variable)\n",
        "    plt.show()\n",
        "    print(\"{}:\\n{}\".format(variable,var_value))"
      ]
    },
    {
      "cell_type": "code",
      "execution_count": 16,
      "metadata": {
        "id": "arpYjFLfF2Vm",
        "colab": {
          "base_uri": "https://localhost:8080/",
          "height": 1000
        },
        "outputId": "cca7405f-dd64-4615-be81-e1c1baf50ad8"
      },
      "outputs": [
        {
          "output_type": "display_data",
          "data": {
            "text/plain": [
              "<Figure size 648x216 with 1 Axes>"
            ],
            "image/png": "[encoded data removed]"
          },
          "metadata": {
            "needs_background": "light"
          }
        },
        {
          "output_type": "stream",
          "name": "stdout",
          "text": [
            "popularity:\n",
            "0    13386\n",
            "1     5449\n",
            "Name: popularity, dtype: int64\n"
          ]
        },
        {
          "output_type": "display_data",
          "data": {
            "text/plain": [
              "<Figure size 648x216 with 1 Axes>"
            ],
            "image/png": "[encoded data removed]"
          },
          "metadata": {
            "needs_background": "light"
          }
        },
        {
          "output_type": "stream",
          "name": "stdout",
          "text": [
            "key:\n",
            "0     2182\n",
            "1     2164\n",
            "7     2032\n",
            "2     1715\n",
            "9     1698\n",
            "11    1600\n",
            "5     1574\n",
            "6     1351\n",
            "8     1349\n",
            "10    1331\n",
            "4     1327\n",
            "3      512\n",
            "Name: key, dtype: int64\n"
          ]
        },
        {
          "output_type": "display_data",
          "data": {
            "text/plain": [
              "<Figure size 648x216 with 1 Axes>"
            ],
            "image/png": "[encoded data removed]"
          },
          "metadata": {
            "needs_background": "light"
          }
        },
        {
          "output_type": "stream",
          "name": "stdout",
          "text": [
            "audio_mode:\n",
            "1.0    11831\n",
            "0.0     7004\n",
            "Name: audio_mode, dtype: int64\n"
          ]
        },
        {
          "output_type": "display_data",
          "data": {
            "text/plain": [
              "<Figure size 648x216 with 1 Axes>"
            ],
            "image/png": "[encoded data removed]"
          },
          "metadata": {
            "needs_background": "light"
          }
        },
        {
          "output_type": "stream",
          "name": "stdout",
          "text": [
            "time_signature:\n",
            "4.0    17754\n",
            "3.0      772\n",
            "5.0      233\n",
            "1.0       73\n",
            "0.0        3\n",
            "Name: time_signature, dtype: int64\n"
          ]
        }
      ],
      "source": [
        "category1 = [\"popularity\",\"key\",\"audio_mode\",\"time_signature\"]\n",
        "for c in category1:\n",
        "    bar_plot(c)"
      ]
    },
    {
      "cell_type": "markdown",
      "metadata": {
        "id": "kOL7XXD-F9sw"
      },
      "source": [
        "## Basic Data Analysis"
      ]
    },
    {
      "cell_type": "code",
      "execution_count": 17,
      "metadata": {
        "id": "sM5q7zEcF44G",
        "colab": {
          "base_uri": "https://localhost:8080/",
          "height": 426
        },
        "outputId": "4baf1308-fa30-4a46-8699-8fa95f3db971"
      },
      "outputs": [
        {
          "output_type": "execute_result",
          "data": {
            "text/plain": [
              "    key  popularity\n",
              "1     1    0.356285\n",
              "6     6    0.321984\n",
              "0     0    0.303850\n",
              "5     5    0.300508\n",
              "11   11    0.293750\n",
              "8     8    0.292068\n",
              "4     4    0.284853\n",
              "10   10    0.280992\n",
              "2     2    0.265889\n",
              "9     9    0.253828\n",
              "7     7    0.241634\n",
              "3     3    0.220703"
            ],
            "text/html": [
              "\n",
              "  <div id=\"df-b34bf00f-9621-437d-a484-03f04fc78777\">\n",
              "    <div class=\"colab-df-container\">\n",
              "      <div>\n",
              "<style scoped>\n",
              "    .dataframe tbody tr th:only-of-type {\n",
              "        vertical-align: middle;\n",
              "    }\n",
              "\n",
              "    .dataframe tbody tr th {\n",
              "        vertical-align: top;\n",
              "    }\n",
              "\n",
              "    .dataframe thead th {\n",
              "        text-align: right;\n",
              "    }\n",
              "</style>\n",
              "<table border=\"1\" class=\"dataframe\">\n",
              "  <thead>\n",
              "    <tr style=\"text-align: right;\">\n",
              "      <th></th>\n",
              "      <th>key</th>\n",
              "      <th>popularity</th>\n",
              "    </tr>\n",
              "  </thead>\n",
              "  <tbody>\n",
              "    <tr>\n",
              "      <th>1</th>\n",
              "      <td>1</td>\n",
              "      <td>0.356285</td>\n",
              "    </tr>\n",
              "    <tr>\n",
              "      <th>6</th>\n",
              "      <td>6</td>\n",
              "      <td>0.321984</td>\n",
              "    </tr>\n",
              "    <tr>\n",
              "      <th>0</th>\n",
              "      <td>0</td>\n",
              "      <td>0.303850</td>\n",
              "    </tr>\n",
              "    <tr>\n",
              "      <th>5</th>\n",
              "      <td>5</td>\n",
              "      <td>0.300508</td>\n",
              "    </tr>\n",
              "    <tr>\n",
              "      <th>11</th>\n",
              "      <td>11</td>\n",
              "      <td>0.293750</td>\n",
              "    </tr>\n",
              "    <tr>\n",
              "      <th>8</th>\n",
              "      <td>8</td>\n",
              "      <td>0.292068</td>\n",
              "    </tr>\n",
              "    <tr>\n",
              "      <th>4</th>\n",
              "      <td>4</td>\n",
              "      <td>0.284853</td>\n",
              "    </tr>\n",
              "    <tr>\n",
              "      <th>10</th>\n",
              "      <td>10</td>\n",
              "      <td>0.280992</td>\n",
              "    </tr>\n",
              "    <tr>\n",
              "      <th>2</th>\n",
              "      <td>2</td>\n",
              "      <td>0.265889</td>\n",
              "    </tr>\n",
              "    <tr>\n",
              "      <th>9</th>\n",
              "      <td>9</td>\n",
              "      <td>0.253828</td>\n",
              "    </tr>\n",
              "    <tr>\n",
              "      <th>7</th>\n",
              "      <td>7</td>\n",
              "      <td>0.241634</td>\n",
              "    </tr>\n",
              "    <tr>\n",
              "      <th>3</th>\n",
              "      <td>3</td>\n",
              "      <td>0.220703</td>\n",
              "    </tr>\n",
              "  </tbody>\n",
              "</table>\n",
              "</div>\n",
              "      <button class=\"colab-df-convert\" onclick=\"convertToInteractive('df-b34bf00f-9621-437d-a484-03f04fc78777')\"\n",
              "              title=\"Convert this dataframe to an interactive table.\"\n",
              "              style=\"display:none;\">\n",
              "        \n",
              "  <svg xmlns=\"http://www.w3.org/2000/svg\" height=\"24px\"viewBox=\"0 0 24 24\"\n",
              "       width=\"24px\">\n",
              "    <path d=\"M0 0h24v24H0V0z\" fill=\"none\"/>\n",
              "    <path d=\"M18.56 5.44l.94 2.06.94-2.06 2.06-.94-2.06-.94-.94-2.06-.94 2.06-2.06.94zm-11 1L8.5 8.5l.94-2.06 2.06-.94-2.06-.94L8.5 2.5l-.94 2.06-2.06.94zm10 10l.94 2.06.94-2.06 2.06-.94-2.06-.94-.94-2.06-.94 2.06-2.06.94z\"/><path d=\"M17.41 7.96l-1.37-1.37c-.4-.4-.92-.59-1.43-.59-.52 0-1.04.2-1.43.59L10.3 9.45l-7.72 7.72c-.78.78-.78 2.05 0 2.83L4 21.41c.39.39.9.59 1.41.59.51 0 1.02-.2 1.41-.59l7.78-7.78 2.81-2.81c.8-.78.8-2.07 0-2.86zM5.41 20L4 18.59l7.72-7.72 1.47 1.35L5.41 20z\"/>\n",
              "  </svg>\n",
              "      </button>\n",
              "      \n",
              "  <style>\n",
              "    .colab-df-container {\n",
              "      display:flex;\n",
              "      flex-wrap:wrap;\n",
              "      gap: 12px;\n",
              "    }\n",
              "\n",
              "    .colab-df-convert {\n",
              "      background-color: #E8F0FE;\n",
              "      border: none;\n",
              "      border-radius: 50%;\n",
              "      cursor: pointer;\n",
              "      display: none;\n",
              "      fill: #1967D2;\n",
              "      height: 32px;\n",
              "      padding: 0 0 0 0;\n",
              "      width: 32px;\n",
              "    }\n",
              "\n",
              "    .colab-df-convert:hover {\n",
              "      background-color: #E2EBFA;\n",
              "      box-shadow: 0px 1px 2px rgba(60, 64, 67, 0.3), 0px 1px 3px 1px rgba(60, 64, 67, 0.15);\n",
              "      fill: #174EA6;\n",
              "    }\n",
              "\n",
              "    [theme=dark] .colab-df-convert {\n",
              "      background-color: #3B4455;\n",
              "      fill: #D2E3FC;\n",
              "    }\n",
              "\n",
              "    [theme=dark] .colab-df-convert:hover {\n",
              "      background-color: #434B5C;\n",
              "      box-shadow: 0px 1px 3px 1px rgba(0, 0, 0, 0.15);\n",
              "      filter: drop-shadow(0px 1px 2px rgba(0, 0, 0, 0.3));\n",
              "      fill: #FFFFFF;\n",
              "    }\n",
              "  </style>\n",
              "\n",
              "      <script>\n",
              "        const buttonEl =\n",
              "          document.querySelector('#df-b34bf00f-9621-437d-a484-03f04fc78777 button.colab-df-convert');\n",
              "        buttonEl.style.display =\n",
              "          google.colab.kernel.accessAllowed ? 'block' : 'none';\n",
              "\n",
              "        async function convertToInteractive(key) {\n",
              "          const element = document.querySelector('#df-b34bf00f-9621-437d-a484-03f04fc78777');\n",
              "          const dataTable =\n",
              "            await google.colab.kernel.invokeFunction('convertToInteractive',\n",
              "                                                     [key], {});\n",
              "          if (!dataTable) return;\n",
              "\n",
              "          const docLinkHtml = 'Like what you see? Visit the ' +\n",
              "            '<a target=\"_blank\" href=https://colab.research.google.com/notebooks/data_table.ipynb>data table notebook</a>'\n",
              "            + ' to learn more about interactive tables.';\n",
              "          element.innerHTML = '';\n",
              "          dataTable['output_type'] = 'display_data';\n",
              "          await google.colab.output.renderOutput(dataTable, element);\n",
              "          const docLink = document.createElement('div');\n",
              "          docLink.innerHTML = docLinkHtml;\n",
              "          element.appendChild(docLink);\n",
              "        }\n",
              "      </script>\n",
              "    </div>\n",
              "  </div>\n",
              "  "
            ]
          },
          "metadata": {},
          "execution_count": 17
        }
      ],
      "source": [
        "# key vs popularity\n",
        "song_data[[\"key\",\"popularity\"]].groupby([\"key\"], as_index = False).mean().sort_values(by=\"popularity\",ascending = False)"
      ]
    },
    {
      "cell_type": "code",
      "execution_count": 18,
      "metadata": {
        "id": "sTJ-QgGLGA1j",
        "colab": {
          "base_uri": "https://localhost:8080/",
          "height": 112
        },
        "outputId": "b46f7983-9943-47be-8fd2-e0476bdde6ec"
      },
      "outputs": [
        {
          "output_type": "execute_result",
          "data": {
            "text/plain": [
              "   audio_mode  popularity\n",
              "0         0.0    0.296545\n",
              "1         1.0    0.285014"
            ],
            "text/html": [
              "\n",
              "  <div id=\"df-4fdb2de7-39d9-4eb9-895e-8dbc02a497a3\">\n",
              "    <div class=\"colab-df-container\">\n",
              "      <div>\n",
              "<style scoped>\n",
              "    .dataframe tbody tr th:only-of-type {\n",
              "        vertical-align: middle;\n",
              "    }\n",
              "\n",
              "    .dataframe tbody tr th {\n",
              "        vertical-align: top;\n",
              "    }\n",
              "\n",
              "    .dataframe thead th {\n",
              "        text-align: right;\n",
              "    }\n",
              "</style>\n",
              "<table border=\"1\" class=\"dataframe\">\n",
              "  <thead>\n",
              "    <tr style=\"text-align: right;\">\n",
              "      <th></th>\n",
              "      <th>audio_mode</th>\n",
              "      <th>popularity</th>\n",
              "    </tr>\n",
              "  </thead>\n",
              "  <tbody>\n",
              "    <tr>\n",
              "      <th>0</th>\n",
              "      <td>0.0</td>\n",
              "      <td>0.296545</td>\n",
              "    </tr>\n",
              "    <tr>\n",
              "      <th>1</th>\n",
              "      <td>1.0</td>\n",
              "      <td>0.285014</td>\n",
              "    </tr>\n",
              "  </tbody>\n",
              "</table>\n",
              "</div>\n",
              "      <button class=\"colab-df-convert\" onclick=\"convertToInteractive('df-4fdb2de7-39d9-4eb9-895e-8dbc02a497a3')\"\n",
              "              title=\"Convert this dataframe to an interactive table.\"\n",
              "              style=\"display:none;\">\n",
              "        \n",
              "  <svg xmlns=\"http://www.w3.org/2000/svg\" height=\"24px\"viewBox=\"0 0 24 24\"\n",
              "       width=\"24px\">\n",
              "    <path d=\"M0 0h24v24H0V0z\" fill=\"none\"/>\n",
              "    <path d=\"M18.56 5.44l.94 2.06.94-2.06 2.06-.94-2.06-.94-.94-2.06-.94 2.06-2.06.94zm-11 1L8.5 8.5l.94-2.06 2.06-.94-2.06-.94L8.5 2.5l-.94 2.06-2.06.94zm10 10l.94 2.06.94-2.06 2.06-.94-2.06-.94-.94-2.06-.94 2.06-2.06.94z\"/><path d=\"M17.41 7.96l-1.37-1.37c-.4-.4-.92-.59-1.43-.59-.52 0-1.04.2-1.43.59L10.3 9.45l-7.72 7.72c-.78.78-.78 2.05 0 2.83L4 21.41c.39.39.9.59 1.41.59.51 0 1.02-.2 1.41-.59l7.78-7.78 2.81-2.81c.8-.78.8-2.07 0-2.86zM5.41 20L4 18.59l7.72-7.72 1.47 1.35L5.41 20z\"/>\n",
              "  </svg>\n",
              "      </button>\n",
              "      \n",
              "  <style>\n",
              "    .colab-df-container {\n",
              "      display:flex;\n",
              "      flex-wrap:wrap;\n",
              "      gap: 12px;\n",
              "    }\n",
              "\n",
              "    .colab-df-convert {\n",
              "      background-color: #E8F0FE;\n",
              "      border: none;\n",
              "      border-radius: 50%;\n",
              "      cursor: pointer;\n",
              "      display: none;\n",
              "      fill: #1967D2;\n",
              "      height: 32px;\n",
              "      padding: 0 0 0 0;\n",
              "      width: 32px;\n",
              "    }\n",
              "\n",
              "    .colab-df-convert:hover {\n",
              "      background-color: #E2EBFA;\n",
              "      box-shadow: 0px 1px 2px rgba(60, 64, 67, 0.3), 0px 1px 3px 1px rgba(60, 64, 67, 0.15);\n",
              "      fill: #174EA6;\n",
              "    }\n",
              "\n",
              "    [theme=dark] .colab-df-convert {\n",
              "      background-color: #3B4455;\n",
              "      fill: #D2E3FC;\n",
              "    }\n",
              "\n",
              "    [theme=dark] .colab-df-convert:hover {\n",
              "      background-color: #434B5C;\n",
              "      box-shadow: 0px 1px 3px 1px rgba(0, 0, 0, 0.15);\n",
              "      filter: drop-shadow(0px 1px 2px rgba(0, 0, 0, 0.3));\n",
              "      fill: #FFFFFF;\n",
              "    }\n",
              "  </style>\n",
              "\n",
              "      <script>\n",
              "        const buttonEl =\n",
              "          document.querySelector('#df-4fdb2de7-39d9-4eb9-895e-8dbc02a497a3 button.colab-df-convert');\n",
              "        buttonEl.style.display =\n",
              "          google.colab.kernel.accessAllowed ? 'block' : 'none';\n",
              "\n",
              "        async function convertToInteractive(key) {\n",
              "          const element = document.querySelector('#df-4fdb2de7-39d9-4eb9-895e-8dbc02a497a3');\n",
              "          const dataTable =\n",
              "            await google.colab.kernel.invokeFunction('convertToInteractive',\n",
              "                                                     [key], {});\n",
              "          if (!dataTable) return;\n",
              "\n",
              "          const docLinkHtml = 'Like what you see? Visit the ' +\n",
              "            '<a target=\"_blank\" href=https://colab.research.google.com/notebooks/data_table.ipynb>data table notebook</a>'\n",
              "            + ' to learn more about interactive tables.';\n",
              "          element.innerHTML = '';\n",
              "          dataTable['output_type'] = 'display_data';\n",
              "          await google.colab.output.renderOutput(dataTable, element);\n",
              "          const docLink = document.createElement('div');\n",
              "          docLink.innerHTML = docLinkHtml;\n",
              "          element.appendChild(docLink);\n",
              "        }\n",
              "      </script>\n",
              "    </div>\n",
              "  </div>\n",
              "  "
            ]
          },
          "metadata": {},
          "execution_count": 18
        }
      ],
      "source": [
        "# audio_mode vs popularity\n",
        "song_data[[\"audio_mode\",\"popularity\"]].groupby([\"audio_mode\"], as_index = False).mean().sort_values(by=\"popularity\",ascending = False)"
      ]
    },
    {
      "cell_type": "code",
      "execution_count": 19,
      "metadata": {
        "id": "j3rixPV4GDK3",
        "colab": {
          "base_uri": "https://localhost:8080/",
          "height": 206
        },
        "outputId": "38407352-71d8-44df-f0d9-e750bbb8064f"
      },
      "outputs": [
        {
          "output_type": "execute_result",
          "data": {
            "text/plain": [
              "   time_signature  popularity\n",
              "4             5.0    0.304721\n",
              "3             4.0    0.292497\n",
              "2             3.0    0.222798\n",
              "1             1.0    0.178082\n",
              "0             0.0    0.000000"
            ],
            "text/html": [
              "\n",
              "  <div id=\"df-0c410067-b197-47ee-8dd8-c20607ad9c9e\">\n",
              "    <div class=\"colab-df-container\">\n",
              "      <div>\n",
              "<style scoped>\n",
              "    .dataframe tbody tr th:only-of-type {\n",
              "        vertical-align: middle;\n",
              "    }\n",
              "\n",
              "    .dataframe tbody tr th {\n",
              "        vertical-align: top;\n",
              "    }\n",
              "\n",
              "    .dataframe thead th {\n",
              "        text-align: right;\n",
              "    }\n",
              "</style>\n",
              "<table border=\"1\" class=\"dataframe\">\n",
              "  <thead>\n",
              "    <tr style=\"text-align: right;\">\n",
              "      <th></th>\n",
              "      <th>time_signature</th>\n",
              "      <th>popularity</th>\n",
              "    </tr>\n",
              "  </thead>\n",
              "  <tbody>\n",
              "    <tr>\n",
              "      <th>4</th>\n",
              "      <td>5.0</td>\n",
              "      <td>0.304721</td>\n",
              "    </tr>\n",
              "    <tr>\n",
              "      <th>3</th>\n",
              "      <td>4.0</td>\n",
              "      <td>0.292497</td>\n",
              "    </tr>\n",
              "    <tr>\n",
              "      <th>2</th>\n",
              "      <td>3.0</td>\n",
              "      <td>0.222798</td>\n",
              "    </tr>\n",
              "    <tr>\n",
              "      <th>1</th>\n",
              "      <td>1.0</td>\n",
              "      <td>0.178082</td>\n",
              "    </tr>\n",
              "    <tr>\n",
              "      <th>0</th>\n",
              "      <td>0.0</td>\n",
              "      <td>0.000000</td>\n",
              "    </tr>\n",
              "  </tbody>\n",
              "</table>\n",
              "</div>\n",
              "      <button class=\"colab-df-convert\" onclick=\"convertToInteractive('df-0c410067-b197-47ee-8dd8-c20607ad9c9e')\"\n",
              "              title=\"Convert this dataframe to an interactive table.\"\n",
              "              style=\"display:none;\">\n",
              "        \n",
              "  <svg xmlns=\"http://www.w3.org/2000/svg\" height=\"24px\"viewBox=\"0 0 24 24\"\n",
              "       width=\"24px\">\n",
              "    <path d=\"M0 0h24v24H0V0z\" fill=\"none\"/>\n",
              "    <path d=\"M18.56 5.44l.94 2.06.94-2.06 2.06-.94-2.06-.94-.94-2.06-.94 2.06-2.06.94zm-11 1L8.5 8.5l.94-2.06 2.06-.94-2.06-.94L8.5 2.5l-.94 2.06-2.06.94zm10 10l.94 2.06.94-2.06 2.06-.94-2.06-.94-.94-2.06-.94 2.06-2.06.94z\"/><path d=\"M17.41 7.96l-1.37-1.37c-.4-.4-.92-.59-1.43-.59-.52 0-1.04.2-1.43.59L10.3 9.45l-7.72 7.72c-.78.78-.78 2.05 0 2.83L4 21.41c.39.39.9.59 1.41.59.51 0 1.02-.2 1.41-.59l7.78-7.78 2.81-2.81c.8-.78.8-2.07 0-2.86zM5.41 20L4 18.59l7.72-7.72 1.47 1.35L5.41 20z\"/>\n",
              "  </svg>\n",
              "      </button>\n",
              "      \n",
              "  <style>\n",
              "    .colab-df-container {\n",
              "      display:flex;\n",
              "      flex-wrap:wrap;\n",
              "      gap: 12px;\n",
              "    }\n",
              "\n",
              "    .colab-df-convert {\n",
              "      background-color: #E8F0FE;\n",
              "      border: none;\n",
              "      border-radius: 50%;\n",
              "      cursor: pointer;\n",
              "      display: none;\n",
              "      fill: #1967D2;\n",
              "      height: 32px;\n",
              "      padding: 0 0 0 0;\n",
              "      width: 32px;\n",
              "    }\n",
              "\n",
              "    .colab-df-convert:hover {\n",
              "      background-color: #E2EBFA;\n",
              "      box-shadow: 0px 1px 2px rgba(60, 64, 67, 0.3), 0px 1px 3px 1px rgba(60, 64, 67, 0.15);\n",
              "      fill: #174EA6;\n",
              "    }\n",
              "\n",
              "    [theme=dark] .colab-df-convert {\n",
              "      background-color: #3B4455;\n",
              "      fill: #D2E3FC;\n",
              "    }\n",
              "\n",
              "    [theme=dark] .colab-df-convert:hover {\n",
              "      background-color: #434B5C;\n",
              "      box-shadow: 0px 1px 3px 1px rgba(0, 0, 0, 0.15);\n",
              "      filter: drop-shadow(0px 1px 2px rgba(0, 0, 0, 0.3));\n",
              "      fill: #FFFFFF;\n",
              "    }\n",
              "  </style>\n",
              "\n",
              "      <script>\n",
              "        const buttonEl =\n",
              "          document.querySelector('#df-0c410067-b197-47ee-8dd8-c20607ad9c9e button.colab-df-convert');\n",
              "        buttonEl.style.display =\n",
              "          google.colab.kernel.accessAllowed ? 'block' : 'none';\n",
              "\n",
              "        async function convertToInteractive(key) {\n",
              "          const element = document.querySelector('#df-0c410067-b197-47ee-8dd8-c20607ad9c9e');\n",
              "          const dataTable =\n",
              "            await google.colab.kernel.invokeFunction('convertToInteractive',\n",
              "                                                     [key], {});\n",
              "          if (!dataTable) return;\n",
              "\n",
              "          const docLinkHtml = 'Like what you see? Visit the ' +\n",
              "            '<a target=\"_blank\" href=https://colab.research.google.com/notebooks/data_table.ipynb>data table notebook</a>'\n",
              "            + ' to learn more about interactive tables.';\n",
              "          element.innerHTML = '';\n",
              "          dataTable['output_type'] = 'display_data';\n",
              "          await google.colab.output.renderOutput(dataTable, element);\n",
              "          const docLink = document.createElement('div');\n",
              "          docLink.innerHTML = docLinkHtml;\n",
              "          element.appendChild(docLink);\n",
              "        }\n",
              "      </script>\n",
              "    </div>\n",
              "  </div>\n",
              "  "
            ]
          },
          "metadata": {},
          "execution_count": 19
        }
      ],
      "source": [
        "# time_signature vs popularity\n",
        "song_data[[\"time_signature\",\"popularity\"]].groupby([\"time_signature\"], as_index = False).mean().sort_values(by=\"popularity\",ascending = False)"
      ]
    },
    {
      "cell_type": "code",
      "execution_count": 20,
      "metadata": {
        "id": "CA5t36BbGFLh"
      },
      "outputs": [],
      "source": [
        "from collections import Counter\n",
        "def detect_outliers(df,features):\n",
        "    outlier_indices = []\n",
        "    \n",
        "    for c in features:\n",
        "        # 1st quartile\n",
        "        Q1 = np.percentile(df[c],25)\n",
        "        # 3rd quartile\n",
        "        Q3 = np.percentile(df[c],75)\n",
        "        # IQR\n",
        "        IQR = Q3 - Q1\n",
        "        # Outlier step\n",
        "        outlier_step = IQR * 1.5\n",
        "        # detect outlier and their indeces\n",
        "        outlier_list_col = df[(df[c] < Q1 - outlier_step) | (df[c] > Q3 + outlier_step)].index #filtre\n",
        "        # store indeces\n",
        "        outlier_indices.extend(outlier_list_col) #The extend() extends the list by adding all items of a list (passed as an argument) to the end.\n",
        "    \n",
        "    outlier_indices = Counter(outlier_indices)\n",
        "    multiple_outliers = list(i for i, v in outlier_indices.items() if v > 2) \n",
        "    \n",
        "    return multiple_outliers\n"
      ]
    },
    {
      "cell_type": "code",
      "execution_count": 21,
      "metadata": {
        "id": "mCEDyjU6GKct",
        "colab": {
          "base_uri": "https://localhost:8080/",
          "height": 783
        },
        "outputId": "1b9dcd85-de5f-4157-9621-ba92730f6b64"
      },
      "outputs": [
        {
          "output_type": "execute_result",
          "data": {
            "text/plain": [
              "                                               song_name  song_popularity  \\\n",
              "232                                              La Maza               58   \n",
              "253                                     Whole Lotta Love               77   \n",
              "501                               Do You Feel Like We Do               48   \n",
              "981    The Times They Are A-Changin' - Live at Sony M...               49   \n",
              "1113                                       November Rain               38   \n",
              "...                                                  ...              ...   \n",
              "15247                                 I Know You So Well                8   \n",
              "16642                                         same stars               46   \n",
              "17723                                       Dutch Spring                0   \n",
              "3720                                Racism And Injustice               21   \n",
              "3752                                       Space Program                0   \n",
              "\n",
              "       song_duration_ms  acousticness  danceability  energy  instrumentalness  \\\n",
              "232            351400.0        0.6520         0.555   0.331          0.000012   \n",
              "253            333893.0        0.0484         0.412   0.902          0.131000   \n",
              "501            836666.0        0.0439         0.295   0.568          0.011700   \n",
              "981            348560.0        0.6300         0.393   0.416          0.007910   \n",
              "1113           537506.0        0.0165         0.197   0.629          0.279000   \n",
              "...                 ...           ...           ...     ...               ...   \n",
              "15247          102661.0        0.9230         0.679   0.311          0.721000   \n",
              "16642          116918.0        0.2510         0.687   0.284          0.862000   \n",
              "17723          205623.0        0.1960         0.510   0.843          0.135000   \n",
              "3720           260160.0        0.9220         0.650   0.316          0.000000   \n",
              "3752           156480.0        0.8690         0.589   0.604          0.000002   \n",
              "\n",
              "       key  liveness  loudness  audio_mode  speechiness    tempo  \\\n",
              "232      9     0.235   -17.718         0.0       0.2700  170.603   \n",
              "253      9     0.405   -11.600         1.0       0.4050   89.740   \n",
              "501      0     0.977    -8.232         1.0       0.0284   98.284   \n",
              "981      9     0.986   -13.243         1.0       0.0401  163.604   \n",
              "1113    11     0.125    -9.291         1.0       0.0300   79.495   \n",
              "...    ...       ...       ...         ...          ...      ...   \n",
              "15247    0     0.813   -16.557         0.0       0.1050   60.724   \n",
              "16642    0     0.496   -19.504         1.0       0.0378  115.996   \n",
              "17723    6     0.569    -4.958         0.0       0.3910   83.355   \n",
              "3720     9     0.739   -18.244         0.0       0.9400  117.198   \n",
              "3752     4     0.684   -18.562         0.0       0.9410  111.968   \n",
              "\n",
              "       time_signature  audio_valence  popularity  \n",
              "232               3.0          0.437           0  \n",
              "253               4.0          0.422           1  \n",
              "501               4.0          0.384           0  \n",
              "981               3.0          0.512           0  \n",
              "1113              4.0          0.221           0  \n",
              "...               ...            ...         ...  \n",
              "15247             4.0          0.304           0  \n",
              "16642             4.0          0.159           0  \n",
              "17723             4.0          0.832           0  \n",
              "3720              4.0          0.306           0  \n",
              "3752              4.0          0.197           0  \n",
              "\n",
              "[325 rows x 16 columns]"
            ],
            "text/html": [
              "\n",
              "  <div id=\"df-542b62df-0f5f-4979-a0e2-d4aa236fedf0\">\n",
              "    <div class=\"colab-df-container\">\n",
              "      <div>\n",
              "<style scoped>\n",
              "    .dataframe tbody tr th:only-of-type {\n",
              "        vertical-align: middle;\n",
              "    }\n",
              "\n",
              "    .dataframe tbody tr th {\n",
              "        vertical-align: top;\n",
              "    }\n",
              "\n",
              "    .dataframe thead th {\n",
              "        text-align: right;\n",
              "    }\n",
              "</style>\n",
              "<table border=\"1\" class=\"dataframe\">\n",
              "  <thead>\n",
              "    <tr style=\"text-align: right;\">\n",
              "      <th></th>\n",
              "      <th>song_name</th>\n",
              "      <th>song_popularity</th>\n",
              "      <th>song_duration_ms</th>\n",
              "      <th>acousticness</th>\n",
              "      <th>danceability</th>\n",
              "      <th>energy</th>\n",
              "      <th>instrumentalness</th>\n",
              "      <th>key</th>\n",
              "      <th>liveness</th>\n",
              "      <th>loudness</th>\n",
              "      <th>audio_mode</th>\n",
              "      <th>speechiness</th>\n",
              "      <th>tempo</th>\n",
              "      <th>time_signature</th>\n",
              "      <th>audio_valence</th>\n",
              "      <th>popularity</th>\n",
              "    </tr>\n",
              "  </thead>\n",
              "  <tbody>\n",
              "    <tr>\n",
              "      <th>232</th>\n",
              "      <td>La Maza</td>\n",
              "      <td>58</td>\n",
              "      <td>351400.0</td>\n",
              "      <td>0.6520</td>\n",
              "      <td>0.555</td>\n",
              "      <td>0.331</td>\n",
              "      <td>0.000012</td>\n",
              "      <td>9</td>\n",
              "      <td>0.235</td>\n",
              "      <td>-17.718</td>\n",
              "      <td>0.0</td>\n",
              "      <td>0.2700</td>\n",
              "      <td>170.603</td>\n",
              "      <td>3.0</td>\n",
              "      <td>0.437</td>\n",
              "      <td>0</td>\n",
              "    </tr>\n",
              "    <tr>\n",
              "      <th>253</th>\n",
              "      <td>Whole Lotta Love</td>\n",
              "      <td>77</td>\n",
              "      <td>333893.0</td>\n",
              "      <td>0.0484</td>\n",
              "      <td>0.412</td>\n",
              "      <td>0.902</td>\n",
              "      <td>0.131000</td>\n",
              "      <td>9</td>\n",
              "      <td>0.405</td>\n",
              "      <td>-11.600</td>\n",
              "      <td>1.0</td>\n",
              "      <td>0.4050</td>\n",
              "      <td>89.740</td>\n",
              "      <td>4.0</td>\n",
              "      <td>0.422</td>\n",
              "      <td>1</td>\n",
              "    </tr>\n",
              "    <tr>\n",
              "      <th>501</th>\n",
              "      <td>Do You Feel Like We Do</td>\n",
              "      <td>48</td>\n",
              "      <td>836666.0</td>\n",
              "      <td>0.0439</td>\n",
              "      <td>0.295</td>\n",
              "      <td>0.568</td>\n",
              "      <td>0.011700</td>\n",
              "      <td>0</td>\n",
              "      <td>0.977</td>\n",
              "      <td>-8.232</td>\n",
              "      <td>1.0</td>\n",
              "      <td>0.0284</td>\n",
              "      <td>98.284</td>\n",
              "      <td>4.0</td>\n",
              "      <td>0.384</td>\n",
              "      <td>0</td>\n",
              "    </tr>\n",
              "    <tr>\n",
              "      <th>981</th>\n",
              "      <td>The Times They Are A-Changin' - Live at Sony M...</td>\n",
              "      <td>49</td>\n",
              "      <td>348560.0</td>\n",
              "      <td>0.6300</td>\n",
              "      <td>0.393</td>\n",
              "      <td>0.416</td>\n",
              "      <td>0.007910</td>\n",
              "      <td>9</td>\n",
              "      <td>0.986</td>\n",
              "      <td>-13.243</td>\n",
              "      <td>1.0</td>\n",
              "      <td>0.0401</td>\n",
              "      <td>163.604</td>\n",
              "      <td>3.0</td>\n",
              "      <td>0.512</td>\n",
              "      <td>0</td>\n",
              "    </tr>\n",
              "    <tr>\n",
              "      <th>1113</th>\n",
              "      <td>November Rain</td>\n",
              "      <td>38</td>\n",
              "      <td>537506.0</td>\n",
              "      <td>0.0165</td>\n",
              "      <td>0.197</td>\n",
              "      <td>0.629</td>\n",
              "      <td>0.279000</td>\n",
              "      <td>11</td>\n",
              "      <td>0.125</td>\n",
              "      <td>-9.291</td>\n",
              "      <td>1.0</td>\n",
              "      <td>0.0300</td>\n",
              "      <td>79.495</td>\n",
              "      <td>4.0</td>\n",
              "      <td>0.221</td>\n",
              "      <td>0</td>\n",
              "    </tr>\n",
              "    <tr>\n",
              "      <th>...</th>\n",
              "      <td>...</td>\n",
              "      <td>...</td>\n",
              "      <td>...</td>\n",
              "      <td>...</td>\n",
              "      <td>...</td>\n",
              "      <td>...</td>\n",
              "      <td>...</td>\n",
              "      <td>...</td>\n",
              "      <td>...</td>\n",
              "      <td>...</td>\n",
              "      <td>...</td>\n",
              "      <td>...</td>\n",
              "      <td>...</td>\n",
              "      <td>...</td>\n",
              "      <td>...</td>\n",
              "      <td>...</td>\n",
              "    </tr>\n",
              "    <tr>\n",
              "      <th>15247</th>\n",
              "      <td>I Know You So Well</td>\n",
              "      <td>8</td>\n",
              "      <td>102661.0</td>\n",
              "      <td>0.9230</td>\n",
              "      <td>0.679</td>\n",
              "      <td>0.311</td>\n",
              "      <td>0.721000</td>\n",
              "      <td>0</td>\n",
              "      <td>0.813</td>\n",
              "      <td>-16.557</td>\n",
              "      <td>0.0</td>\n",
              "      <td>0.1050</td>\n",
              "      <td>60.724</td>\n",
              "      <td>4.0</td>\n",
              "      <td>0.304</td>\n",
              "      <td>0</td>\n",
              "    </tr>\n",
              "    <tr>\n",
              "      <th>16642</th>\n",
              "      <td>same stars</td>\n",
              "      <td>46</td>\n",
              "      <td>116918.0</td>\n",
              "      <td>0.2510</td>\n",
              "      <td>0.687</td>\n",
              "      <td>0.284</td>\n",
              "      <td>0.862000</td>\n",
              "      <td>0</td>\n",
              "      <td>0.496</td>\n",
              "      <td>-19.504</td>\n",
              "      <td>1.0</td>\n",
              "      <td>0.0378</td>\n",
              "      <td>115.996</td>\n",
              "      <td>4.0</td>\n",
              "      <td>0.159</td>\n",
              "      <td>0</td>\n",
              "    </tr>\n",
              "    <tr>\n",
              "      <th>17723</th>\n",
              "      <td>Dutch Spring</td>\n",
              "      <td>0</td>\n",
              "      <td>205623.0</td>\n",
              "      <td>0.1960</td>\n",
              "      <td>0.510</td>\n",
              "      <td>0.843</td>\n",
              "      <td>0.135000</td>\n",
              "      <td>6</td>\n",
              "      <td>0.569</td>\n",
              "      <td>-4.958</td>\n",
              "      <td>0.0</td>\n",
              "      <td>0.3910</td>\n",
              "      <td>83.355</td>\n",
              "      <td>4.0</td>\n",
              "      <td>0.832</td>\n",
              "      <td>0</td>\n",
              "    </tr>\n",
              "    <tr>\n",
              "      <th>3720</th>\n",
              "      <td>Racism And Injustice</td>\n",
              "      <td>21</td>\n",
              "      <td>260160.0</td>\n",
              "      <td>0.9220</td>\n",
              "      <td>0.650</td>\n",
              "      <td>0.316</td>\n",
              "      <td>0.000000</td>\n",
              "      <td>9</td>\n",
              "      <td>0.739</td>\n",
              "      <td>-18.244</td>\n",
              "      <td>0.0</td>\n",
              "      <td>0.9400</td>\n",
              "      <td>117.198</td>\n",
              "      <td>4.0</td>\n",
              "      <td>0.306</td>\n",
              "      <td>0</td>\n",
              "    </tr>\n",
              "    <tr>\n",
              "      <th>3752</th>\n",
              "      <td>Space Program</td>\n",
              "      <td>0</td>\n",
              "      <td>156480.0</td>\n",
              "      <td>0.8690</td>\n",
              "      <td>0.589</td>\n",
              "      <td>0.604</td>\n",
              "      <td>0.000002</td>\n",
              "      <td>4</td>\n",
              "      <td>0.684</td>\n",
              "      <td>-18.562</td>\n",
              "      <td>0.0</td>\n",
              "      <td>0.9410</td>\n",
              "      <td>111.968</td>\n",
              "      <td>4.0</td>\n",
              "      <td>0.197</td>\n",
              "      <td>0</td>\n",
              "    </tr>\n",
              "  </tbody>\n",
              "</table>\n",
              "<p>325 rows × 16 columns</p>\n",
              "</div>\n",
              "      <button class=\"colab-df-convert\" onclick=\"convertToInteractive('df-542b62df-0f5f-4979-a0e2-d4aa236fedf0')\"\n",
              "              title=\"Convert this dataframe to an interactive table.\"\n",
              "              style=\"display:none;\">\n",
              "        \n",
              "  <svg xmlns=\"http://www.w3.org/2000/svg\" height=\"24px\"viewBox=\"0 0 24 24\"\n",
              "       width=\"24px\">\n",
              "    <path d=\"M0 0h24v24H0V0z\" fill=\"none\"/>\n",
              "    <path d=\"M18.56 5.44l.94 2.06.94-2.06 2.06-.94-2.06-.94-.94-2.06-.94 2.06-2.06.94zm-11 1L8.5 8.5l.94-2.06 2.06-.94-2.06-.94L8.5 2.5l-.94 2.06-2.06.94zm10 10l.94 2.06.94-2.06 2.06-.94-2.06-.94-.94-2.06-.94 2.06-2.06.94z\"/><path d=\"M17.41 7.96l-1.37-1.37c-.4-.4-.92-.59-1.43-.59-.52 0-1.04.2-1.43.59L10.3 9.45l-7.72 7.72c-.78.78-.78 2.05 0 2.83L4 21.41c.39.39.9.59 1.41.59.51 0 1.02-.2 1.41-.59l7.78-7.78 2.81-2.81c.8-.78.8-2.07 0-2.86zM5.41 20L4 18.59l7.72-7.72 1.47 1.35L5.41 20z\"/>\n",
              "  </svg>\n",
              "      </button>\n",
              "      \n",
              "  <style>\n",
              "    .colab-df-container {\n",
              "      display:flex;\n",
              "      flex-wrap:wrap;\n",
              "      gap: 12px;\n",
              "    }\n",
              "\n",
              "    .colab-df-convert {\n",
              "      background-color: #E8F0FE;\n",
              "      border: none;\n",
              "      border-radius: 50%;\n",
              "      cursor: pointer;\n",
              "      display: none;\n",
              "      fill: #1967D2;\n",
              "      height: 32px;\n",
              "      padding: 0 0 0 0;\n",
              "      width: 32px;\n",
              "    }\n",
              "\n",
              "    .colab-df-convert:hover {\n",
              "      background-color: #E2EBFA;\n",
              "      box-shadow: 0px 1px 2px rgba(60, 64, 67, 0.3), 0px 1px 3px 1px rgba(60, 64, 67, 0.15);\n",
              "      fill: #174EA6;\n",
              "    }\n",
              "\n",
              "    [theme=dark] .colab-df-convert {\n",
              "      background-color: #3B4455;\n",
              "      fill: #D2E3FC;\n",
              "    }\n",
              "\n",
              "    [theme=dark] .colab-df-convert:hover {\n",
              "      background-color: #434B5C;\n",
              "      box-shadow: 0px 1px 3px 1px rgba(0, 0, 0, 0.15);\n",
              "      filter: drop-shadow(0px 1px 2px rgba(0, 0, 0, 0.3));\n",
              "      fill: #FFFFFF;\n",
              "    }\n",
              "  </style>\n",
              "\n",
              "      <script>\n",
              "        const buttonEl =\n",
              "          document.querySelector('#df-542b62df-0f5f-4979-a0e2-d4aa236fedf0 button.colab-df-convert');\n",
              "        buttonEl.style.display =\n",
              "          google.colab.kernel.accessAllowed ? 'block' : 'none';\n",
              "\n",
              "        async function convertToInteractive(key) {\n",
              "          const element = document.querySelector('#df-542b62df-0f5f-4979-a0e2-d4aa236fedf0');\n",
              "          const dataTable =\n",
              "            await google.colab.kernel.invokeFunction('convertToInteractive',\n",
              "                                                     [key], {});\n",
              "          if (!dataTable) return;\n",
              "\n",
              "          const docLinkHtml = 'Like what you see? Visit the ' +\n",
              "            '<a target=\"_blank\" href=https://colab.research.google.com/notebooks/data_table.ipynb>data table notebook</a>'\n",
              "            + ' to learn more about interactive tables.';\n",
              "          element.innerHTML = '';\n",
              "          dataTable['output_type'] = 'display_data';\n",
              "          await google.colab.output.renderOutput(dataTable, element);\n",
              "          const docLink = document.createElement('div');\n",
              "          docLink.innerHTML = docLinkHtml;\n",
              "          element.appendChild(docLink);\n",
              "        }\n",
              "      </script>\n",
              "    </div>\n",
              "  </div>\n",
              "  "
            ]
          },
          "metadata": {},
          "execution_count": 21
        }
      ],
      "source": [
        "song_data.loc[detect_outliers(song_data,[\"song_popularity\",\"song_duration_ms\",\"danceability\",\"energy\",\"instrumentalness\",\"liveness\",\"loudness\",\"speechiness\",\"audio_valence\"])]"
      ]
    },
    {
      "cell_type": "code",
      "execution_count": 22,
      "metadata": {
        "id": "ngv-zr01GNPW"
      },
      "outputs": [],
      "source": [
        "# drop outliers\n",
        "song_data = song_data.drop(detect_outliers(song_data,[\"song_popularity\",\"song_duration_ms\",\"danceability\",\"energy\",\"instrumentalness\",\n",
        "                                                      \"liveness\",\"loudness\",\"speechiness\",\"audio_valence\"]),axis = 0).reset_index(drop = True)"
      ]
    },
    {
      "cell_type": "code",
      "execution_count": 23,
      "metadata": {
        "id": "gKg9JkYCGTPM",
        "colab": {
          "base_uri": "https://localhost:8080/",
          "height": 113
        },
        "outputId": "877012cf-68de-448f-eb27-ca058f18cd42"
      },
      "outputs": [
        {
          "output_type": "execute_result",
          "data": {
            "text/plain": [
              "Empty DataFrame\n",
              "Columns: [song_name, song_popularity, song_duration_ms, acousticness, danceability, energy, instrumentalness, key, liveness, loudness, audio_mode, speechiness, tempo, time_signature, audio_valence, popularity]\n",
              "Index: []"
            ],
            "text/html": [
              "\n",
              "  <div id=\"df-7bd6da89-09fe-4760-97b6-1b536033b7df\">\n",
              "    <div class=\"colab-df-container\">\n",
              "      <div>\n",
              "<style scoped>\n",
              "    .dataframe tbody tr th:only-of-type {\n",
              "        vertical-align: middle;\n",
              "    }\n",
              "\n",
              "    .dataframe tbody tr th {\n",
              "        vertical-align: top;\n",
              "    }\n",
              "\n",
              "    .dataframe thead th {\n",
              "        text-align: right;\n",
              "    }\n",
              "</style>\n",
              "<table border=\"1\" class=\"dataframe\">\n",
              "  <thead>\n",
              "    <tr style=\"text-align: right;\">\n",
              "      <th></th>\n",
              "      <th>song_name</th>\n",
              "      <th>song_popularity</th>\n",
              "      <th>song_duration_ms</th>\n",
              "      <th>acousticness</th>\n",
              "      <th>danceability</th>\n",
              "      <th>energy</th>\n",
              "      <th>instrumentalness</th>\n",
              "      <th>key</th>\n",
              "      <th>liveness</th>\n",
              "      <th>loudness</th>\n",
              "      <th>audio_mode</th>\n",
              "      <th>speechiness</th>\n",
              "      <th>tempo</th>\n",
              "      <th>time_signature</th>\n",
              "      <th>audio_valence</th>\n",
              "      <th>popularity</th>\n",
              "    </tr>\n",
              "  </thead>\n",
              "  <tbody>\n",
              "  </tbody>\n",
              "</table>\n",
              "</div>\n",
              "      <button class=\"colab-df-convert\" onclick=\"convertToInteractive('df-7bd6da89-09fe-4760-97b6-1b536033b7df')\"\n",
              "              title=\"Convert this dataframe to an interactive table.\"\n",
              "              style=\"display:none;\">\n",
              "        \n",
              "  <svg xmlns=\"http://www.w3.org/2000/svg\" height=\"24px\"viewBox=\"0 0 24 24\"\n",
              "       width=\"24px\">\n",
              "    <path d=\"M0 0h24v24H0V0z\" fill=\"none\"/>\n",
              "    <path d=\"M18.56 5.44l.94 2.06.94-2.06 2.06-.94-2.06-.94-.94-2.06-.94 2.06-2.06.94zm-11 1L8.5 8.5l.94-2.06 2.06-.94-2.06-.94L8.5 2.5l-.94 2.06-2.06.94zm10 10l.94 2.06.94-2.06 2.06-.94-2.06-.94-.94-2.06-.94 2.06-2.06.94z\"/><path d=\"M17.41 7.96l-1.37-1.37c-.4-.4-.92-.59-1.43-.59-.52 0-1.04.2-1.43.59L10.3 9.45l-7.72 7.72c-.78.78-.78 2.05 0 2.83L4 21.41c.39.39.9.59 1.41.59.51 0 1.02-.2 1.41-.59l7.78-7.78 2.81-2.81c.8-.78.8-2.07 0-2.86zM5.41 20L4 18.59l7.72-7.72 1.47 1.35L5.41 20z\"/>\n",
              "  </svg>\n",
              "      </button>\n",
              "      \n",
              "  <style>\n",
              "    .colab-df-container {\n",
              "      display:flex;\n",
              "      flex-wrap:wrap;\n",
              "      gap: 12px;\n",
              "    }\n",
              "\n",
              "    .colab-df-convert {\n",
              "      background-color: #E8F0FE;\n",
              "      border: none;\n",
              "      border-radius: 50%;\n",
              "      cursor: pointer;\n",
              "      display: none;\n",
              "      fill: #1967D2;\n",
              "      height: 32px;\n",
              "      padding: 0 0 0 0;\n",
              "      width: 32px;\n",
              "    }\n",
              "\n",
              "    .colab-df-convert:hover {\n",
              "      background-color: #E2EBFA;\n",
              "      box-shadow: 0px 1px 2px rgba(60, 64, 67, 0.3), 0px 1px 3px 1px rgba(60, 64, 67, 0.15);\n",
              "      fill: #174EA6;\n",
              "    }\n",
              "\n",
              "    [theme=dark] .colab-df-convert {\n",
              "      background-color: #3B4455;\n",
              "      fill: #D2E3FC;\n",
              "    }\n",
              "\n",
              "    [theme=dark] .colab-df-convert:hover {\n",
              "      background-color: #434B5C;\n",
              "      box-shadow: 0px 1px 3px 1px rgba(0, 0, 0, 0.15);\n",
              "      filter: drop-shadow(0px 1px 2px rgba(0, 0, 0, 0.3));\n",
              "      fill: #FFFFFF;\n",
              "    }\n",
              "  </style>\n",
              "\n",
              "      <script>\n",
              "        const buttonEl =\n",
              "          document.querySelector('#df-7bd6da89-09fe-4760-97b6-1b536033b7df button.colab-df-convert');\n",
              "        buttonEl.style.display =\n",
              "          google.colab.kernel.accessAllowed ? 'block' : 'none';\n",
              "\n",
              "        async function convertToInteractive(key) {\n",
              "          const element = document.querySelector('#df-7bd6da89-09fe-4760-97b6-1b536033b7df');\n",
              "          const dataTable =\n",
              "            await google.colab.kernel.invokeFunction('convertToInteractive',\n",
              "                                                     [key], {});\n",
              "          if (!dataTable) return;\n",
              "\n",
              "          const docLinkHtml = 'Like what you see? Visit the ' +\n",
              "            '<a target=\"_blank\" href=https://colab.research.google.com/notebooks/data_table.ipynb>data table notebook</a>'\n",
              "            + ' to learn more about interactive tables.';\n",
              "          element.innerHTML = '';\n",
              "          dataTable['output_type'] = 'display_data';\n",
              "          await google.colab.output.renderOutput(dataTable, element);\n",
              "          const docLink = document.createElement('div');\n",
              "          docLink.innerHTML = docLinkHtml;\n",
              "          element.appendChild(docLink);\n",
              "        }\n",
              "      </script>\n",
              "    </div>\n",
              "  </div>\n",
              "  "
            ]
          },
          "metadata": {},
          "execution_count": 23
        }
      ],
      "source": [
        "song_data[song_data[\"audio_mode\"].isnull()]"
      ]
    },
    {
      "cell_type": "code",
      "execution_count": 24,
      "metadata": {
        "colab": {
          "base_uri": "https://localhost:8080/",
          "height": 441
        },
        "id": "oDsBSjbdGZfn",
        "outputId": "14f8b52a-1d54-4c8e-f71e-3e442d1af206"
      },
      "outputs": [
        {
          "output_type": "display_data",
          "data": {
            "text/plain": [
              "<Figure size 432x432 with 1 Axes>"
            ],
            "image/png": "[encoded data removed]"
          },
          "metadata": {
            "needs_background": "light"
          }
        }
      ],
      "source": [
        "g = sns.factorplot(x = \"key\", y = \"popularity\", data = song_data, kind = \"bar\", size = 6)\n",
        "g.set_ylabels(\"Popularity Probability\")\n",
        "plt.show()"
      ]
    },
    {
      "cell_type": "code",
      "execution_count": 25,
      "metadata": {
        "colab": {
          "base_uri": "https://localhost:8080/",
          "height": 441
        },
        "id": "hXZeA4LZGcMq",
        "outputId": "252447f3-c317-42d2-cf92-74ec3baee8cc"
      },
      "outputs": [
        {
          "output_type": "display_data",
          "data": {
            "text/plain": [
              "<Figure size 432x432 with 1 Axes>"
            ],
            "image/png": "[encoded data removed]"
          },
          "metadata": {
            "needs_background": "light"
          }
        }
      ],
      "source": [
        "g = sns.factorplot(x = \"audio_mode\", y = \"popularity\", data = song_data, kind = \"bar\", size = 6)\n",
        "g.set_ylabels(\"Popularity Probability\")\n",
        "plt.show()"
      ]
    },
    {
      "cell_type": "code",
      "execution_count": 26,
      "metadata": {
        "id": "UbwIjycnGfBi",
        "colab": {
          "base_uri": "https://localhost:8080/",
          "height": 441
        },
        "outputId": "07a8d5af-df4e-452e-d845-8aa695ab315d"
      },
      "outputs": [
        {
          "output_type": "display_data",
          "data": {
            "text/plain": [
              "<Figure size 432x432 with 1 Axes>"
            ],
            "image/png": "[encoded data removed]"
          },
          "metadata": {
            "needs_background": "light"
          }
        }
      ],
      "source": [
        "g = sns.factorplot(x = \"time_signature\", y = \"popularity\", data = song_data, kind = \"bar\", size = 6)\n",
        "g.set_ylabels(\"Popularity Probability\")\n",
        "plt.show()"
      ]
    },
    {
      "cell_type": "code",
      "execution_count": 27,
      "metadata": {
        "id": "gpqNXywMGh_5",
        "colab": {
          "base_uri": "https://localhost:8080/",
          "height": 585
        },
        "outputId": "f3b58b8e-eda6-4c55-9ada-0b17b28593c4"
      },
      "outputs": [
        {
          "output_type": "display_data",
          "data": {
            "text/plain": [
              "<Figure size 584x576 with 4 Axes>"
            ],
            "image/png": "[encoded data removed]"
          },
          "metadata": {
            "needs_background": "light"
          }
        }
      ],
      "source": [
        "g = sns.FacetGrid(song_data, row = \"audio_mode\", col = \"popularity\", size = 4)\n",
        "g.map(sns.barplot, \"key\", \"acousticness\")\n",
        "g.add_legend()\n",
        "plt.show()"
      ]
    },
    {
      "cell_type": "code",
      "execution_count": 28,
      "metadata": {
        "id": "MdS0Vj6lGlcC",
        "colab": {
          "base_uri": "https://localhost:8080/",
          "height": 585
        },
        "outputId": "764e83aa-9c05-493a-c544-fac9b9c30e7e"
      },
      "outputs": [
        {
          "output_type": "display_data",
          "data": {
            "text/plain": [
              "<Figure size 584x576 with 4 Axes>"
            ],
            "image/png": "[encoded data removed]"
          },
          "metadata": {
            "needs_background": "light"
          }
        }
      ],
      "source": [
        "g = sns.FacetGrid(song_data, row = \"audio_mode\", col = \"popularity\", size = 4)\n",
        "g.map(sns.barplot, \"key\", \"danceability\",color=\"purple\")\n",
        "g.add_legend()\n",
        "plt.show()"
      ]
    },
    {
      "cell_type": "code",
      "execution_count": 29,
      "metadata": {
        "id": "MwCXdn2nGqSi",
        "colab": {
          "base_uri": "https://localhost:8080/",
          "height": 585
        },
        "outputId": "b632cc97-76c8-44d0-a18c-fe2eee885f85"
      },
      "outputs": [
        {
          "output_type": "display_data",
          "data": {
            "text/plain": [
              "<Figure size 584x576 with 4 Axes>"
            ],
            "image/png": "[encoded data removed]"
          },
          "metadata": {
            "needs_background": "light"
          }
        }
      ],
      "source": [
        "g = sns.FacetGrid(song_data, row = \"audio_mode\", col = \"popularity\", size = 4)\n",
        "g.map(sns.barplot, \"key\", \"instrumentalness\",color=\"green\")\n",
        "g.add_legend()\n",
        "plt.show()"
      ]
    },
    {
      "cell_type": "code",
      "execution_count": 30,
      "metadata": {
        "id": "eHJBP-TmGvSF",
        "colab": {
          "base_uri": "https://localhost:8080/",
          "height": 585
        },
        "outputId": "daf6cefc-be8b-4b70-f842-d0d15581dbb0"
      },
      "outputs": [
        {
          "output_type": "display_data",
          "data": {
            "text/plain": [
              "<Figure size 584x576 with 4 Axes>"
            ],
            "image/png": "[encoded data removed]"
          },
          "metadata": {
            "needs_background": "light"
          }
        }
      ],
      "source": [
        "\n",
        "g = sns.FacetGrid(song_data, row = \"audio_mode\", col = \"popularity\", size = 4)\n",
        "g.map(sns.barplot, \"key\", \"loudness\",color=\"orange\")\n",
        "g.add_legend()\n",
        "plt.show()"
      ]
    },
    {
      "cell_type": "code",
      "execution_count": 31,
      "metadata": {
        "id": "iJ5-MTh9Gyt7",
        "colab": {
          "base_uri": "https://localhost:8080/",
          "height": 726
        },
        "outputId": "a94cba75-d84f-4559-f5a4-1f83a9058660"
      },
      "outputs": [
        {
          "output_type": "display_data",
          "data": {
            "text/plain": [
              "<Figure size 864x864 with 14 Axes>"
            ],
            "image/png": "[encoded data removed]"
          },
          "metadata": {
            "needs_background": "light"
          }
        }
      ],
      "source": [
        "f, axes = plt.subplots(3, 5, figsize=(12, 12))\n",
        "sns.distplot( song_data[\"song_duration_ms\"] , color=\"teal\", ax=axes[0, 0])\n",
        "sns.distplot( song_data[\"instrumentalness\"] , color=\"teal\", ax=axes[0, 1])\n",
        "sns.distplot( song_data[\"acousticness\"] , color=\"teal\", ax=axes[0, 2])\n",
        "sns.distplot( song_data[\"danceability\"] , color=\"teal\", ax=axes[0, 3])\n",
        "sns.distplot( song_data[\"energy\"] , color=\"teal\", ax=axes[0, 4])\n",
        "sns.distplot( song_data[\"song_popularity\"] , color=\"teal\", ax=axes[1, 0])\n",
        "sns.distplot( song_data[\"key\"] , color=\"teal\", ax=axes[1, 1])\n",
        "sns.distplot( song_data[\"liveness\"] , color=\"teal\", ax=axes[1, 2])\n",
        "sns.distplot( song_data[\"loudness\"] , color=\"teal\", ax=axes[1, 3])\n",
        "sns.distplot( song_data[\"audio_mode\"] , color=\"teal\", ax=axes[1, 4])\n",
        "sns.distplot( song_data[\"tempo\"] , color=\"teal\", ax=axes[2, 0])\n",
        "sns.distplot( song_data[\"speechiness\"] , color=\"teal\", ax=axes[2, 1])\n",
        "sns.distplot( song_data[\"time_signature\"] , color=\"teal\", ax=axes[2, 2])\n",
        "sns.distplot( song_data[\"audio_valence\"] , color=\"teal\", ax=axes[2, 3])\n",
        "f.delaxes(axes[2][4])\n",
        "plt.show()"
      ]
    },
    {
      "cell_type": "code",
      "execution_count": 32,
      "metadata": {
        "id": "B9RPb-U5G300",
        "colab": {
          "base_uri": "https://localhost:8080/",
          "height": 225
        },
        "outputId": "b5d4b52d-8b7c-4d5b-cdba-aa8eb0682635"
      },
      "outputs": [
        {
          "output_type": "display_data",
          "data": {
            "text/plain": [
              "<Figure size 432x216 with 2 Axes>"
            ],
            "image/png": "[encoded data removed]"
          },
          "metadata": {
            "needs_background": "light"
          }
        }
      ],
      "source": [
        "g = sns.FacetGrid(song_data, col = \"popularity\")\n",
        "g.map(sns.distplot, \"acousticness\", bins = 25)\n",
        "plt.show()"
      ]
    },
    {
      "cell_type": "code",
      "execution_count": 33,
      "metadata": {
        "id": "LCxkmoOtG7cK",
        "colab": {
          "base_uri": "https://localhost:8080/",
          "height": 225
        },
        "outputId": "10b66380-2ecf-4dd9-ef4c-9275c2703cfc"
      },
      "outputs": [
        {
          "output_type": "display_data",
          "data": {
            "text/plain": [
              "<Figure size 432x216 with 2 Axes>"
            ],
            "image/png": "[encoded data removed]"
          },
          "metadata": {
            "needs_background": "light"
          }
        }
      ],
      "source": [
        "\n",
        "g = sns.FacetGrid(song_data, col = \"popularity\")\n",
        "g.map(sns.distplot, \"danceability\", bins = 25)\n",
        "plt.show()"
      ]
    },
    {
      "cell_type": "code",
      "execution_count": 34,
      "metadata": {
        "id": "NpjgyPetG9vZ",
        "colab": {
          "base_uri": "https://localhost:8080/",
          "height": 225
        },
        "outputId": "cfcab83f-af94-491f-ec20-659dfa5d73bd"
      },
      "outputs": [
        {
          "output_type": "display_data",
          "data": {
            "text/plain": [
              "<Figure size 432x216 with 2 Axes>"
            ],
            "image/png": "[encoded data removed]"
          },
          "metadata": {
            "needs_background": "light"
          }
        }
      ],
      "source": [
        "\n",
        "g = sns.FacetGrid(song_data, col = \"popularity\")\n",
        "g.map(sns.distplot, \"loudness\", bins = 25)\n",
        "plt.show()"
      ]
    },
    {
      "cell_type": "code",
      "execution_count": 35,
      "metadata": {
        "id": "03szY8O_G_57",
        "colab": {
          "base_uri": "https://localhost:8080/",
          "height": 225
        },
        "outputId": "bdaf4d3e-471a-445f-a7d9-38e1bfc0656f"
      },
      "outputs": [
        {
          "output_type": "display_data",
          "data": {
            "text/plain": [
              "<Figure size 432x216 with 2 Axes>"
            ],
            "image/png": "[encoded data removed]"
          },
          "metadata": {
            "needs_background": "light"
          }
        }
      ],
      "source": [
        "g = sns.FacetGrid(song_data, col = \"popularity\")\n",
        "g.map(sns.distplot, \"instrumentalness\", bins = 25)\n",
        "plt.show()"
      ]
    },
    {
      "cell_type": "markdown",
      "metadata": {
        "id": "n-pIRfY4HHQ9"
      },
      "source": [
        "## People like Happy Songs or Sad Songs?"
      ]
    },
    {
      "cell_type": "code",
      "execution_count": 36,
      "metadata": {
        "id": "QzjwYbQVHCLi",
        "colab": {
          "base_uri": "https://localhost:8080/"
        },
        "outputId": "85781f78-caf7-45dd-c357-99ca57accdd2"
      },
      "outputs": [
        {
          "output_type": "execute_result",
          "data": {
            "text/plain": [
              "Happy    10047\n",
              "Sad       8463\n",
              "Name: song_audio_valence, dtype: int64"
            ]
          },
          "metadata": {},
          "execution_count": 36
        }
      ],
      "source": [
        "song_data3=song_data.copy()\n",
        "song_data3[\"song_audio_valence\"]= [ \"Happy\" if i>=0.5 else \"Sad\" for i in song_data.audio_valence ]\n",
        "song_data3[\"song_audio_valence\"].value_counts()"
      ]
    },
    {
      "cell_type": "code",
      "execution_count": 37,
      "metadata": {
        "id": "3byJqv1_HK04",
        "colab": {
          "base_uri": "https://localhost:8080/"
        },
        "outputId": "921a3753-1eb8-4c1e-b15c-60b00cb27b76"
      },
      "outputs": [
        {
          "output_type": "execute_result",
          "data": {
            "text/plain": [
              "Happy    2845\n",
              "Sad      2574\n",
              "Name: song_audio_valence, dtype: int64"
            ]
          },
          "metadata": {},
          "execution_count": 37
        }
      ],
      "source": [
        "song_data1=song_data3[song_data3[\"song_popularity\"]>66.5]\n",
        "song_data1[\"song_audio_valence\"]= [ \"Happy\" if i>=0.5 else \"Sad\" for i in song_data1.audio_valence ]\n",
        "song_data1[\"song_audio_valence\"].value_counts()"
      ]
    },
    {
      "cell_type": "markdown",
      "metadata": {
        "id": "RbByzelRHR7i"
      },
      "source": [
        "## Top 500"
      ]
    },
    {
      "cell_type": "code",
      "execution_count": 38,
      "metadata": {
        "id": "VcaNaJi1HNS_",
        "colab": {
          "base_uri": "https://localhost:8080/"
        },
        "outputId": "a44eebf4-7c34-4b46-c371-2fb596d7022c"
      },
      "outputs": [
        {
          "output_type": "execute_result",
          "data": {
            "text/plain": [
              "Sad      332\n",
              "Happy    167\n",
              "Name: song_audio_valence, dtype: int64"
            ]
          },
          "metadata": {},
          "execution_count": 38
        }
      ],
      "source": [
        "song_data2_new=song_data1[song_data1[\"song_popularity\"]>90]\n",
        "song_data2_new[\"song_audio_valence\"]= [ \"Happy\" if i>=0.5 else \"Sad\" for i in song_data2_new.audio_valence ]\n",
        "song_data2_new[\"song_audio_valence\"].value_counts()"
      ]
    },
    {
      "cell_type": "code",
      "execution_count": 39,
      "metadata": {
        "id": "Fa1t989VHVOs",
        "colab": {
          "base_uri": "https://localhost:8080/",
          "height": 497
        },
        "outputId": "28c4d40c-55b8-4263-ab6d-c7d9e613112e"
      },
      "outputs": [
        {
          "output_type": "display_data",
          "data": {
            "text/plain": [
              "<Figure size 576x576 with 1 Axes>"
            ],
            "image/png": "[encoded data removed]"
          },
          "metadata": {
            "needs_background": "light"
          }
        }
      ],
      "source": [
        "song_data2= song_data2_new[song_data2_new.popularity==1]\n",
        "a=song_data2.iloc[:,1]\n",
        "a.to_numpy()\n",
        "b=song_data2.iloc[:,14]\n",
        "b.to_numpy()\n",
        "plt.figure(figsize=[8,8])\n",
        "markerline, stemlines, baseline = plt.stem(\n",
        "    a, b, linefmt='grey', markerfmt='D', bottom=0.5)\n",
        "markerline.set_markerfacecolor('none')\n",
        "plt.xlabel(\"Popularity\")\n",
        "plt.ylabel(\"Audio Valance\")\n",
        "plt.show()"
      ]
    },
    {
      "cell_type": "code",
      "execution_count": 40,
      "metadata": {
        "id": "K9UAG0qNHXwJ"
      },
      "outputs": [],
      "source": [
        "new_data = pd.concat([song_info, song_data1],axis=1)\n",
        "new_data=new_data[new_data[\"song_popularity\"]>90]"
      ]
    },
    {
      "cell_type": "code",
      "execution_count": 41,
      "metadata": {
        "id": "A5fdd5YpHaOp",
        "colab": {
          "base_uri": "https://localhost:8080/",
          "height": 350
        },
        "outputId": "bd222eca-563d-43f9-9756-962663bd6371"
      },
      "outputs": [
        {
          "output_type": "display_data",
          "data": {
            "text/plain": [
              "<Figure size 864x360 with 1 Axes>"
            ],
            "image/png": "[encoded data removed]"
          },
          "metadata": {
            "needs_background": "light"
          }
        }
      ],
      "source": [
        "# Top 500 Playlists Gender\n",
        "plt.figure(figsize=(12,5))\n",
        "new_data= song_info['playlist'].head(500)\n",
        "g = sns.countplot(new_data, palette=\"icefire\")\n",
        "plt.title(\"Top 500 Genres\")\n",
        "plt.show()"
      ]
    },
    {
      "cell_type": "markdown",
      "metadata": {
        "id": "ezqnUmFlHhvf"
      },
      "source": [
        "## Feature Engineering"
      ]
    },
    {
      "cell_type": "code",
      "execution_count": 42,
      "metadata": {
        "id": "uvrtjMKQHjNK",
        "colab": {
          "base_uri": "https://localhost:8080/"
        },
        "outputId": "f657d32e-f176-4cc6-aa76-9258ffc1020b"
      },
      "outputs": [
        {
          "output_type": "execute_result",
          "data": {
            "text/plain": [
              "0    13386\n",
              "1     5449\n",
              "Name: popularity, dtype: int64"
            ]
          },
          "metadata": {},
          "execution_count": 42
        }
      ],
      "source": [
        "spotify_song_data[\"popularity\"]= [ 1 if i>=66.5 else 0 for i in spotify_song_data.song_popularity ]\n",
        "spotify_song_data[\"popularity\"].value_counts()"
      ]
    },
    {
      "cell_type": "code",
      "execution_count": 43,
      "metadata": {
        "id": "AcUBQdjqHmXj",
        "colab": {
          "base_uri": "https://localhost:8080/",
          "height": 206
        },
        "outputId": "5074a950-e51b-4aa0-88a0-383b13d27fbf"
      },
      "outputs": [
        {
          "output_type": "execute_result",
          "data": {
            "text/plain": [
              "   popularity                   song_name\n",
              "0           1  Boulevard of Broken Dreams\n",
              "1           0                  In The End\n",
              "2           1           Seven Nation Army\n",
              "3           1                  By The Way\n",
              "4           0           How You Remind Me"
            ],
            "text/html": [
              "\n",
              "  <div id=\"df-53edb510-4939-437a-9227-dcee69012e76\">\n",
              "    <div class=\"colab-df-container\">\n",
              "      <div>\n",
              "<style scoped>\n",
              "    .dataframe tbody tr th:only-of-type {\n",
              "        vertical-align: middle;\n",
              "    }\n",
              "\n",
              "    .dataframe tbody tr th {\n",
              "        vertical-align: top;\n",
              "    }\n",
              "\n",
              "    .dataframe thead th {\n",
              "        text-align: right;\n",
              "    }\n",
              "</style>\n",
              "<table border=\"1\" class=\"dataframe\">\n",
              "  <thead>\n",
              "    <tr style=\"text-align: right;\">\n",
              "      <th></th>\n",
              "      <th>popularity</th>\n",
              "      <th>song_name</th>\n",
              "    </tr>\n",
              "  </thead>\n",
              "  <tbody>\n",
              "    <tr>\n",
              "      <th>0</th>\n",
              "      <td>1</td>\n",
              "      <td>Boulevard of Broken Dreams</td>\n",
              "    </tr>\n",
              "    <tr>\n",
              "      <th>1</th>\n",
              "      <td>0</td>\n",
              "      <td>In The End</td>\n",
              "    </tr>\n",
              "    <tr>\n",
              "      <th>2</th>\n",
              "      <td>1</td>\n",
              "      <td>Seven Nation Army</td>\n",
              "    </tr>\n",
              "    <tr>\n",
              "      <th>3</th>\n",
              "      <td>1</td>\n",
              "      <td>By The Way</td>\n",
              "    </tr>\n",
              "    <tr>\n",
              "      <th>4</th>\n",
              "      <td>0</td>\n",
              "      <td>How You Remind Me</td>\n",
              "    </tr>\n",
              "  </tbody>\n",
              "</table>\n",
              "</div>\n",
              "      <button class=\"colab-df-convert\" onclick=\"convertToInteractive('df-53edb510-4939-437a-9227-dcee69012e76')\"\n",
              "              title=\"Convert this dataframe to an interactive table.\"\n",
              "              style=\"display:none;\">\n",
              "        \n",
              "  <svg xmlns=\"http://www.w3.org/2000/svg\" height=\"24px\"viewBox=\"0 0 24 24\"\n",
              "       width=\"24px\">\n",
              "    <path d=\"M0 0h24v24H0V0z\" fill=\"none\"/>\n",
              "    <path d=\"M18.56 5.44l.94 2.06.94-2.06 2.06-.94-2.06-.94-.94-2.06-.94 2.06-2.06.94zm-11 1L8.5 8.5l.94-2.06 2.06-.94-2.06-.94L8.5 2.5l-.94 2.06-2.06.94zm10 10l.94 2.06.94-2.06 2.06-.94-2.06-.94-.94-2.06-.94 2.06-2.06.94z\"/><path d=\"M17.41 7.96l-1.37-1.37c-.4-.4-.92-.59-1.43-.59-.52 0-1.04.2-1.43.59L10.3 9.45l-7.72 7.72c-.78.78-.78 2.05 0 2.83L4 21.41c.39.39.9.59 1.41.59.51 0 1.02-.2 1.41-.59l7.78-7.78 2.81-2.81c.8-.78.8-2.07 0-2.86zM5.41 20L4 18.59l7.72-7.72 1.47 1.35L5.41 20z\"/>\n",
              "  </svg>\n",
              "      </button>\n",
              "      \n",
              "  <style>\n",
              "    .colab-df-container {\n",
              "      display:flex;\n",
              "      flex-wrap:wrap;\n",
              "      gap: 12px;\n",
              "    }\n",
              "\n",
              "    .colab-df-convert {\n",
              "      background-color: #E8F0FE;\n",
              "      border: none;\n",
              "      border-radius: 50%;\n",
              "      cursor: pointer;\n",
              "      display: none;\n",
              "      fill: #1967D2;\n",
              "      height: 32px;\n",
              "      padding: 0 0 0 0;\n",
              "      width: 32px;\n",
              "    }\n",
              "\n",
              "    .colab-df-convert:hover {\n",
              "      background-color: #E2EBFA;\n",
              "      box-shadow: 0px 1px 2px rgba(60, 64, 67, 0.3), 0px 1px 3px 1px rgba(60, 64, 67, 0.15);\n",
              "      fill: #174EA6;\n",
              "    }\n",
              "\n",
              "    [theme=dark] .colab-df-convert {\n",
              "      background-color: #3B4455;\n",
              "      fill: #D2E3FC;\n",
              "    }\n",
              "\n",
              "    [theme=dark] .colab-df-convert:hover {\n",
              "      background-color: #434B5C;\n",
              "      box-shadow: 0px 1px 3px 1px rgba(0, 0, 0, 0.15);\n",
              "      filter: drop-shadow(0px 1px 2px rgba(0, 0, 0, 0.3));\n",
              "      fill: #FFFFFF;\n",
              "    }\n",
              "  </style>\n",
              "\n",
              "      <script>\n",
              "        const buttonEl =\n",
              "          document.querySelector('#df-53edb510-4939-437a-9227-dcee69012e76 button.colab-df-convert');\n",
              "        buttonEl.style.display =\n",
              "          google.colab.kernel.accessAllowed ? 'block' : 'none';\n",
              "\n",
              "        async function convertToInteractive(key) {\n",
              "          const element = document.querySelector('#df-53edb510-4939-437a-9227-dcee69012e76');\n",
              "          const dataTable =\n",
              "            await google.colab.kernel.invokeFunction('convertToInteractive',\n",
              "                                                     [key], {});\n",
              "          if (!dataTable) return;\n",
              "\n",
              "          const docLinkHtml = 'Like what you see? Visit the ' +\n",
              "            '<a target=\"_blank\" href=https://colab.research.google.com/notebooks/data_table.ipynb>data table notebook</a>'\n",
              "            + ' to learn more about interactive tables.';\n",
              "          element.innerHTML = '';\n",
              "          dataTable['output_type'] = 'display_data';\n",
              "          await google.colab.output.renderOutput(dataTable, element);\n",
              "          const docLink = document.createElement('div');\n",
              "          docLink.innerHTML = docLinkHtml;\n",
              "          element.appendChild(docLink);\n",
              "        }\n",
              "      </script>\n",
              "    </div>\n",
              "  </div>\n",
              "  "
            ]
          },
          "metadata": {},
          "execution_count": 43
        }
      ],
      "source": [
        "data_plr = pd.concat([spotify_song_data.popularity,spotify_song_data.song_name],axis=1)\n",
        "data_plr.head()"
      ]
    },
    {
      "cell_type": "code",
      "execution_count": 44,
      "metadata": {
        "id": "fAw_O_bcHok3"
      },
      "outputs": [],
      "source": [
        "song_data['song_name'].value_counts(dropna=False)\n",
        "song_data['song_name'].dropna(inplace=True)"
      ]
    },
    {
      "cell_type": "code",
      "execution_count": 45,
      "metadata": {
        "id": "-MWNjqh3Hqc8",
        "colab": {
          "base_uri": "https://localhost:8080/"
        },
        "outputId": "eddd62c2-1b9d-44ab-bbce-04cacbdec580"
      },
      "outputs": [
        {
          "output_type": "stream",
          "name": "stderr",
          "text": [
            "[nltk_data] Downloading package stopwords to /root/nltk_data...\n",
            "[nltk_data]   Unzipping corpora/stopwords.zip.\n"
          ]
        }
      ],
      "source": [
        "import re\n",
        "import nltk \n",
        "import nltk as nlp\n",
        "\n",
        "nltk.download(\"stopwords\") \n",
        "from nltk.corpus import stopwords"
      ]
    },
    {
      "cell_type": "code",
      "execution_count": 46,
      "metadata": {
        "id": "UuDi97v5H9FH",
        "colab": {
          "base_uri": "https://localhost:8080/"
        },
        "outputId": "0039f588-fb9c-4a66-db69-b71b01ea73a4"
      },
      "outputs": [
        {
          "output_type": "stream",
          "name": "stderr",
          "text": [
            "[nltk_data] Downloading package wordnet to /root/nltk_data...\n",
            "[nltk_data] Downloading package omw-1.4 to /root/nltk_data...\n"
          ]
        },
        {
          "output_type": "execute_result",
          "data": {
            "text/plain": [
              "True"
            ]
          },
          "metadata": {},
          "execution_count": 46
        }
      ],
      "source": [
        "import nltk\n",
        "nltk.download('wordnet')\n",
        "nltk.download('omw-1.4')"
      ]
    },
    {
      "cell_type": "code",
      "execution_count": 47,
      "metadata": {
        "id": "QfGvyVrvHsbF"
      },
      "outputs": [],
      "source": [
        "Song_Name = [ word for word in spotify_song_data.song_name if not word in set(stopwords.words(\"english\"))]\n",
        "lemma = nlp.WordNetLemmatizer()\n",
        "Song_Name = [ lemma.lemmatize(word) for word in Song_Name] "
      ]
    },
    {
      "cell_type": "code",
      "execution_count": 48,
      "metadata": {
        "id": "c_ydC5q5IeZy",
        "colab": {
          "base_uri": "https://localhost:8080/"
        },
        "outputId": "4c92b052-828a-483a-e81b-450d105e65ff"
      },
      "outputs": [
        {
          "output_type": "stream",
          "name": "stderr",
          "text": [
            "[nltk_data] Downloading package punkt to /root/nltk_data...\n",
            "[nltk_data]   Unzipping tokenizers/punkt.zip.\n"
          ]
        },
        {
          "output_type": "execute_result",
          "data": {
            "text/plain": [
              "True"
            ]
          },
          "metadata": {},
          "execution_count": 48
        }
      ],
      "source": [
        "nltk.download('punkt')"
      ]
    },
    {
      "cell_type": "code",
      "execution_count": 49,
      "metadata": {
        "id": "EO1Ctd33IZne"
      },
      "outputs": [],
      "source": [
        "Song_Name_list = []\n",
        "for Song_Name in data_plr.song_name:\n",
        "    Song_Name = re.sub(\"[^a-zA-Z]\",\" \",Song_Name)\n",
        "    Song_Name = Song_Name.lower() \n",
        "    Song_Name = nltk.word_tokenize(Song_Name)\n",
        "    lemma = nlp.WordNetLemmatizer()\n",
        "    Song_Name = [ lemma.lemmatize(word) for word in Song_Name]\n",
        "    Song_Name = \" \".join(Song_Name)\n",
        "    Song_Name_list.append(Song_Name)"
      ]
    },
    {
      "cell_type": "code",
      "execution_count": 50,
      "metadata": {
        "id": "5TaVBSx8HukU",
        "colab": {
          "base_uri": "https://localhost:8080/"
        },
        "outputId": "419c2e25-2a88-4d63-fd31-af5b3bc8a9ed"
      },
      "outputs": [
        {
          "output_type": "stream",
          "name": "stdout",
          "text": [
            "en sik kullanilan 10 kelimeler: ['don' 'edit' 'feat' 'la' 'like' 'love' 'radio' 'remastered' 'remix'\n",
            " 'version']\n"
          ]
        }
      ],
      "source": [
        "# %% bag of words\n",
        "from sklearn.feature_extraction.text import CountVectorizer\n",
        "max_features = 10\n",
        "count_vectorizer = CountVectorizer(max_features=max_features,stop_words = \"english\")\n",
        "sparce_matrix = count_vectorizer.fit_transform(Song_Name_list).toarray()  \n",
        "print(\"en sik kullanilan {} kelimeler: {}\".format(max_features,count_vectorizer.get_feature_names_out()))"
      ]
    },
    {
      "cell_type": "code",
      "execution_count": 51,
      "metadata": {
        "id": "WiE7uKLjIVy2"
      },
      "outputs": [],
      "source": [
        " a = count_vectorizer.get_feature_names_out()"
      ]
    },
    {
      "cell_type": "code",
      "execution_count": 52,
      "metadata": {
        "id": "-fSGp9VLJE4E"
      },
      "outputs": [],
      "source": [
        "df=pd.DataFrame(Song_Name_list,columns=['Names'])"
      ]
    },
    {
      "cell_type": "code",
      "execution_count": 53,
      "metadata": {
        "id": "I6G9gvqvJJfW",
        "colab": {
          "base_uri": "https://localhost:8080/"
        },
        "outputId": "a34d94fa-c7eb-47e7-f6ba-cfd335385714"
      },
      "outputs": [
        {
          "output_type": "execute_result",
          "data": {
            "text/plain": [
              "[('Kanye West', 82),\n",
              " ('Lady Gaga', 78),\n",
              " ('Drake', 68),\n",
              " ('Khalid', 61),\n",
              " ('Eminem', 47),\n",
              " ('6ix9ine', 45),\n",
              " ('David Guetta', 45),\n",
              " ('Calvin Harris', 40),\n",
              " ('The Chainsmokers', 40),\n",
              " ('Lil Wayne', 39)]"
            ]
          },
          "metadata": {},
          "execution_count": 53
        }
      ],
      "source": [
        "artist= song_info.artist_name.tolist()\n",
        "name_count = Counter(artist)         \n",
        "most_common_names2 = name_count.most_common(10) \n",
        "most_common_names2"
      ]
    },
    {
      "cell_type": "markdown",
      "metadata": {
        "id": "wQif48xwJO3a"
      },
      "source": [
        "## SENTIMENTAL ANALYSIS"
      ]
    },
    {
      "cell_type": "code",
      "execution_count": 54,
      "metadata": {
        "id": "rO8IJFQAJLPV"
      },
      "outputs": [],
      "source": [
        "from textblob import TextBlob\n",
        "data_plr['sentiment'] = data_plr['song_name'].map(lambda text: TextBlob(text).sentiment.polarity)"
      ]
    },
    {
      "cell_type": "code",
      "execution_count": 55,
      "metadata": {
        "id": "adWhPzgjJSZ8",
        "colab": {
          "base_uri": "https://localhost:8080/",
          "height": 206
        },
        "outputId": "5b2856dc-803c-4260-e43d-1964cf2fe4e5"
      },
      "outputs": [
        {
          "output_type": "execute_result",
          "data": {
            "text/plain": [
              "   popularity                   song_name  sentiment\n",
              "0           1  Boulevard of Broken Dreams       -0.4\n",
              "1           0                  In The End        0.0\n",
              "2           1           Seven Nation Army        0.0\n",
              "3           1                  By The Way        0.0\n",
              "4           0           How You Remind Me        0.0"
            ],
            "text/html": [
              "\n",
              "  <div id=\"df-95189247-7cc6-4161-b0b4-370b28747195\">\n",
              "    <div class=\"colab-df-container\">\n",
              "      <div>\n",
              "<style scoped>\n",
              "    .dataframe tbody tr th:only-of-type {\n",
              "        vertical-align: middle;\n",
              "    }\n",
              "\n",
              "    .dataframe tbody tr th {\n",
              "        vertical-align: top;\n",
              "    }\n",
              "\n",
              "    .dataframe thead th {\n",
              "        text-align: right;\n",
              "    }\n",
              "</style>\n",
              "<table border=\"1\" class=\"dataframe\">\n",
              "  <thead>\n",
              "    <tr style=\"text-align: right;\">\n",
              "      <th></th>\n",
              "      <th>popularity</th>\n",
              "      <th>song_name</th>\n",
              "      <th>sentiment</th>\n",
              "    </tr>\n",
              "  </thead>\n",
              "  <tbody>\n",
              "    <tr>\n",
              "      <th>0</th>\n",
              "      <td>1</td>\n",
              "      <td>Boulevard of Broken Dreams</td>\n",
              "      <td>-0.4</td>\n",
              "    </tr>\n",
              "    <tr>\n",
              "      <th>1</th>\n",
              "      <td>0</td>\n",
              "      <td>In The End</td>\n",
              "      <td>0.0</td>\n",
              "    </tr>\n",
              "    <tr>\n",
              "      <th>2</th>\n",
              "      <td>1</td>\n",
              "      <td>Seven Nation Army</td>\n",
              "      <td>0.0</td>\n",
              "    </tr>\n",
              "    <tr>\n",
              "      <th>3</th>\n",
              "      <td>1</td>\n",
              "      <td>By The Way</td>\n",
              "      <td>0.0</td>\n",
              "    </tr>\n",
              "    <tr>\n",
              "      <th>4</th>\n",
              "      <td>0</td>\n",
              "      <td>How You Remind Me</td>\n",
              "      <td>0.0</td>\n",
              "    </tr>\n",
              "  </tbody>\n",
              "</table>\n",
              "</div>\n",
              "      <button class=\"colab-df-convert\" onclick=\"convertToInteractive('df-95189247-7cc6-4161-b0b4-370b28747195')\"\n",
              "              title=\"Convert this dataframe to an interactive table.\"\n",
              "              style=\"display:none;\">\n",
              "        \n",
              "  <svg xmlns=\"http://www.w3.org/2000/svg\" height=\"24px\"viewBox=\"0 0 24 24\"\n",
              "       width=\"24px\">\n",
              "    <path d=\"M0 0h24v24H0V0z\" fill=\"none\"/>\n",
              "    <path d=\"M18.56 5.44l.94 2.06.94-2.06 2.06-.94-2.06-.94-.94-2.06-.94 2.06-2.06.94zm-11 1L8.5 8.5l.94-2.06 2.06-.94-2.06-.94L8.5 2.5l-.94 2.06-2.06.94zm10 10l.94 2.06.94-2.06 2.06-.94-2.06-.94-.94-2.06-.94 2.06-2.06.94z\"/><path d=\"M17.41 7.96l-1.37-1.37c-.4-.4-.92-.59-1.43-.59-.52 0-1.04.2-1.43.59L10.3 9.45l-7.72 7.72c-.78.78-.78 2.05 0 2.83L4 21.41c.39.39.9.59 1.41.59.51 0 1.02-.2 1.41-.59l7.78-7.78 2.81-2.81c.8-.78.8-2.07 0-2.86zM5.41 20L4 18.59l7.72-7.72 1.47 1.35L5.41 20z\"/>\n",
              "  </svg>\n",
              "      </button>\n",
              "      \n",
              "  <style>\n",
              "    .colab-df-container {\n",
              "      display:flex;\n",
              "      flex-wrap:wrap;\n",
              "      gap: 12px;\n",
              "    }\n",
              "\n",
              "    .colab-df-convert {\n",
              "      background-color: #E8F0FE;\n",
              "      border: none;\n",
              "      border-radius: 50%;\n",
              "      cursor: pointer;\n",
              "      display: none;\n",
              "      fill: #1967D2;\n",
              "      height: 32px;\n",
              "      padding: 0 0 0 0;\n",
              "      width: 32px;\n",
              "    }\n",
              "\n",
              "    .colab-df-convert:hover {\n",
              "      background-color: #E2EBFA;\n",
              "      box-shadow: 0px 1px 2px rgba(60, 64, 67, 0.3), 0px 1px 3px 1px rgba(60, 64, 67, 0.15);\n",
              "      fill: #174EA6;\n",
              "    }\n",
              "\n",
              "    [theme=dark] .colab-df-convert {\n",
              "      background-color: #3B4455;\n",
              "      fill: #D2E3FC;\n",
              "    }\n",
              "\n",
              "    [theme=dark] .colab-df-convert:hover {\n",
              "      background-color: #434B5C;\n",
              "      box-shadow: 0px 1px 3px 1px rgba(0, 0, 0, 0.15);\n",
              "      filter: drop-shadow(0px 1px 2px rgba(0, 0, 0, 0.3));\n",
              "      fill: #FFFFFF;\n",
              "    }\n",
              "  </style>\n",
              "\n",
              "      <script>\n",
              "        const buttonEl =\n",
              "          document.querySelector('#df-95189247-7cc6-4161-b0b4-370b28747195 button.colab-df-convert');\n",
              "        buttonEl.style.display =\n",
              "          google.colab.kernel.accessAllowed ? 'block' : 'none';\n",
              "\n",
              "        async function convertToInteractive(key) {\n",
              "          const element = document.querySelector('#df-95189247-7cc6-4161-b0b4-370b28747195');\n",
              "          const dataTable =\n",
              "            await google.colab.kernel.invokeFunction('convertToInteractive',\n",
              "                                                     [key], {});\n",
              "          if (!dataTable) return;\n",
              "\n",
              "          const docLinkHtml = 'Like what you see? Visit the ' +\n",
              "            '<a target=\"_blank\" href=https://colab.research.google.com/notebooks/data_table.ipynb>data table notebook</a>'\n",
              "            + ' to learn more about interactive tables.';\n",
              "          element.innerHTML = '';\n",
              "          dataTable['output_type'] = 'display_data';\n",
              "          await google.colab.output.renderOutput(dataTable, element);\n",
              "          const docLink = document.createElement('div');\n",
              "          docLink.innerHTML = docLinkHtml;\n",
              "          element.appendChild(docLink);\n",
              "        }\n",
              "      </script>\n",
              "    </div>\n",
              "  </div>\n",
              "  "
            ]
          },
          "metadata": {},
          "execution_count": 55
        }
      ],
      "source": [
        "data_plr.head()"
      ]
    },
    {
      "cell_type": "code",
      "execution_count": 56,
      "metadata": {
        "id": "i4qdldA3JUSc",
        "colab": {
          "base_uri": "https://localhost:8080/",
          "height": 206
        },
        "outputId": "154bb805-95ed-4ac6-da32-d92dab0d5be0"
      },
      "outputs": [
        {
          "output_type": "execute_result",
          "data": {
            "text/plain": [
              "   polarity  sentiment\n",
              "0  negative       -0.4\n",
              "1   neutral        0.0\n",
              "2   neutral        0.0\n",
              "3   neutral        0.0\n",
              "4   neutral        0.0"
            ],
            "text/html": [
              "\n",
              "  <div id=\"df-d5d3ed47-a569-4298-a5d8-12b9c635c738\">\n",
              "    <div class=\"colab-df-container\">\n",
              "      <div>\n",
              "<style scoped>\n",
              "    .dataframe tbody tr th:only-of-type {\n",
              "        vertical-align: middle;\n",
              "    }\n",
              "\n",
              "    .dataframe tbody tr th {\n",
              "        vertical-align: top;\n",
              "    }\n",
              "\n",
              "    .dataframe thead th {\n",
              "        text-align: right;\n",
              "    }\n",
              "</style>\n",
              "<table border=\"1\" class=\"dataframe\">\n",
              "  <thead>\n",
              "    <tr style=\"text-align: right;\">\n",
              "      <th></th>\n",
              "      <th>polarity</th>\n",
              "      <th>sentiment</th>\n",
              "    </tr>\n",
              "  </thead>\n",
              "  <tbody>\n",
              "    <tr>\n",
              "      <th>0</th>\n",
              "      <td>negative</td>\n",
              "      <td>-0.4</td>\n",
              "    </tr>\n",
              "    <tr>\n",
              "      <th>1</th>\n",
              "      <td>neutral</td>\n",
              "      <td>0.0</td>\n",
              "    </tr>\n",
              "    <tr>\n",
              "      <th>2</th>\n",
              "      <td>neutral</td>\n",
              "      <td>0.0</td>\n",
              "    </tr>\n",
              "    <tr>\n",
              "      <th>3</th>\n",
              "      <td>neutral</td>\n",
              "      <td>0.0</td>\n",
              "    </tr>\n",
              "    <tr>\n",
              "      <th>4</th>\n",
              "      <td>neutral</td>\n",
              "      <td>0.0</td>\n",
              "    </tr>\n",
              "  </tbody>\n",
              "</table>\n",
              "</div>\n",
              "      <button class=\"colab-df-convert\" onclick=\"convertToInteractive('df-d5d3ed47-a569-4298-a5d8-12b9c635c738')\"\n",
              "              title=\"Convert this dataframe to an interactive table.\"\n",
              "              style=\"display:none;\">\n",
              "        \n",
              "  <svg xmlns=\"http://www.w3.org/2000/svg\" height=\"24px\"viewBox=\"0 0 24 24\"\n",
              "       width=\"24px\">\n",
              "    <path d=\"M0 0h24v24H0V0z\" fill=\"none\"/>\n",
              "    <path d=\"M18.56 5.44l.94 2.06.94-2.06 2.06-.94-2.06-.94-.94-2.06-.94 2.06-2.06.94zm-11 1L8.5 8.5l.94-2.06 2.06-.94-2.06-.94L8.5 2.5l-.94 2.06-2.06.94zm10 10l.94 2.06.94-2.06 2.06-.94-2.06-.94-.94-2.06-.94 2.06-2.06.94z\"/><path d=\"M17.41 7.96l-1.37-1.37c-.4-.4-.92-.59-1.43-.59-.52 0-1.04.2-1.43.59L10.3 9.45l-7.72 7.72c-.78.78-.78 2.05 0 2.83L4 21.41c.39.39.9.59 1.41.59.51 0 1.02-.2 1.41-.59l7.78-7.78 2.81-2.81c.8-.78.8-2.07 0-2.86zM5.41 20L4 18.59l7.72-7.72 1.47 1.35L5.41 20z\"/>\n",
              "  </svg>\n",
              "      </button>\n",
              "      \n",
              "  <style>\n",
              "    .colab-df-container {\n",
              "      display:flex;\n",
              "      flex-wrap:wrap;\n",
              "      gap: 12px;\n",
              "    }\n",
              "\n",
              "    .colab-df-convert {\n",
              "      background-color: #E8F0FE;\n",
              "      border: none;\n",
              "      border-radius: 50%;\n",
              "      cursor: pointer;\n",
              "      display: none;\n",
              "      fill: #1967D2;\n",
              "      height: 32px;\n",
              "      padding: 0 0 0 0;\n",
              "      width: 32px;\n",
              "    }\n",
              "\n",
              "    .colab-df-convert:hover {\n",
              "      background-color: #E2EBFA;\n",
              "      box-shadow: 0px 1px 2px rgba(60, 64, 67, 0.3), 0px 1px 3px 1px rgba(60, 64, 67, 0.15);\n",
              "      fill: #174EA6;\n",
              "    }\n",
              "\n",
              "    [theme=dark] .colab-df-convert {\n",
              "      background-color: #3B4455;\n",
              "      fill: #D2E3FC;\n",
              "    }\n",
              "\n",
              "    [theme=dark] .colab-df-convert:hover {\n",
              "      background-color: #434B5C;\n",
              "      box-shadow: 0px 1px 3px 1px rgba(0, 0, 0, 0.15);\n",
              "      filter: drop-shadow(0px 1px 2px rgba(0, 0, 0, 0.3));\n",
              "      fill: #FFFFFF;\n",
              "    }\n",
              "  </style>\n",
              "\n",
              "      <script>\n",
              "        const buttonEl =\n",
              "          document.querySelector('#df-d5d3ed47-a569-4298-a5d8-12b9c635c738 button.colab-df-convert');\n",
              "        buttonEl.style.display =\n",
              "          google.colab.kernel.accessAllowed ? 'block' : 'none';\n",
              "\n",
              "        async function convertToInteractive(key) {\n",
              "          const element = document.querySelector('#df-d5d3ed47-a569-4298-a5d8-12b9c635c738');\n",
              "          const dataTable =\n",
              "            await google.colab.kernel.invokeFunction('convertToInteractive',\n",
              "                                                     [key], {});\n",
              "          if (!dataTable) return;\n",
              "\n",
              "          const docLinkHtml = 'Like what you see? Visit the ' +\n",
              "            '<a target=\"_blank\" href=https://colab.research.google.com/notebooks/data_table.ipynb>data table notebook</a>'\n",
              "            + ' to learn more about interactive tables.';\n",
              "          element.innerHTML = '';\n",
              "          dataTable['output_type'] = 'display_data';\n",
              "          await google.colab.output.renderOutput(dataTable, element);\n",
              "          const docLink = document.createElement('div');\n",
              "          docLink.innerHTML = docLinkHtml;\n",
              "          element.appendChild(docLink);\n",
              "        }\n",
              "      </script>\n",
              "    </div>\n",
              "  </div>\n",
              "  "
            ]
          },
          "metadata": {},
          "execution_count": 56
        }
      ],
      "source": [
        "import numpy as np\n",
        "cut = pd.cut(\n",
        "    data_plr['sentiment'],\n",
        "    [-np.inf, -.01, .01, np.inf],\n",
        "    labels=['negative', 'neutral', 'positive']\n",
        ")\n",
        "data_plr['polarity'] = cut.values\n",
        "data_plr[['polarity','sentiment']].head()"
      ]
    },
    {
      "cell_type": "code",
      "execution_count": 57,
      "metadata": {
        "id": "BjdTRHzJJWov",
        "colab": {
          "base_uri": "https://localhost:8080/",
          "height": 350
        },
        "outputId": "ff7a7967-0481-4ae6-db9f-2f4347ead092"
      },
      "outputs": [
        {
          "output_type": "display_data",
          "data": {
            "text/plain": [
              "<Figure size 360x360 with 1 Axes>"
            ],
            "image/png": "[encoded data removed]"
          },
          "metadata": {
            "needs_background": "light"
          }
        }
      ],
      "source": [
        "\n",
        "plt.figure(figsize=(5,5))\n",
        "data= data_plr.polarity\n",
        "g = sns.countplot(data, palette=\"Set3\")\n",
        "plt.title(\"Songs' Polarity\")\n",
        "plt.show()"
      ]
    },
    {
      "cell_type": "code",
      "execution_count": 58,
      "metadata": {
        "id": "CGdq07yfJY08",
        "colab": {
          "base_uri": "https://localhost:8080/",
          "height": 294
        },
        "outputId": "a28b3d80-464a-4b6b-f908-887deb0ac01f"
      },
      "outputs": [
        {
          "output_type": "execute_result",
          "data": {
            "text/plain": [
              "                    song_name  song_popularity  song_duration_ms  \\\n",
              "0  Boulevard of Broken Dreams             73.0          262333.0   \n",
              "1                  In The End             66.0          216933.0   \n",
              "2           Seven Nation Army             76.0          231733.0   \n",
              "\n",
              "   acousticness  danceability  energy  instrumentalness  key  liveness  \\\n",
              "0       0.00552         0.496   0.682          0.000029  8.0    0.0589   \n",
              "1       0.01030         0.542   0.853          0.000000  3.0    0.1080   \n",
              "2       0.00817         0.737   0.463          0.447000  0.0    0.2550   \n",
              "\n",
              "   loudness  audio_mode  speechiness    tempo  time_signature  audio_valence  \\\n",
              "0    -4.095         1.0       0.0294  167.060             4.0          0.474   \n",
              "1    -6.407         0.0       0.0498  105.256             4.0          0.370   \n",
              "2    -7.828         1.0       0.0792  123.881             4.0          0.324   \n",
              "\n",
              "   popularity  sentiment  \n",
              "0         1.0       -0.4  \n",
              "1         0.0        0.0  \n",
              "2         1.0        0.0  "
            ],
            "text/html": [
              "\n",
              "  <div id=\"df-f33aabd5-2f61-4d50-8a7d-02110c538d06\">\n",
              "    <div class=\"colab-df-container\">\n",
              "      <div>\n",
              "<style scoped>\n",
              "    .dataframe tbody tr th:only-of-type {\n",
              "        vertical-align: middle;\n",
              "    }\n",
              "\n",
              "    .dataframe tbody tr th {\n",
              "        vertical-align: top;\n",
              "    }\n",
              "\n",
              "    .dataframe thead th {\n",
              "        text-align: right;\n",
              "    }\n",
              "</style>\n",
              "<table border=\"1\" class=\"dataframe\">\n",
              "  <thead>\n",
              "    <tr style=\"text-align: right;\">\n",
              "      <th></th>\n",
              "      <th>song_name</th>\n",
              "      <th>song_popularity</th>\n",
              "      <th>song_duration_ms</th>\n",
              "      <th>acousticness</th>\n",
              "      <th>danceability</th>\n",
              "      <th>energy</th>\n",
              "      <th>instrumentalness</th>\n",
              "      <th>key</th>\n",
              "      <th>liveness</th>\n",
              "      <th>loudness</th>\n",
              "      <th>audio_mode</th>\n",
              "      <th>speechiness</th>\n",
              "      <th>tempo</th>\n",
              "      <th>time_signature</th>\n",
              "      <th>audio_valence</th>\n",
              "      <th>popularity</th>\n",
              "      <th>sentiment</th>\n",
              "    </tr>\n",
              "  </thead>\n",
              "  <tbody>\n",
              "    <tr>\n",
              "      <th>0</th>\n",
              "      <td>Boulevard of Broken Dreams</td>\n",
              "      <td>73.0</td>\n",
              "      <td>262333.0</td>\n",
              "      <td>0.00552</td>\n",
              "      <td>0.496</td>\n",
              "      <td>0.682</td>\n",
              "      <td>0.000029</td>\n",
              "      <td>8.0</td>\n",
              "      <td>0.0589</td>\n",
              "      <td>-4.095</td>\n",
              "      <td>1.0</td>\n",
              "      <td>0.0294</td>\n",
              "      <td>167.060</td>\n",
              "      <td>4.0</td>\n",
              "      <td>0.474</td>\n",
              "      <td>1.0</td>\n",
              "      <td>-0.4</td>\n",
              "    </tr>\n",
              "    <tr>\n",
              "      <th>1</th>\n",
              "      <td>In The End</td>\n",
              "      <td>66.0</td>\n",
              "      <td>216933.0</td>\n",
              "      <td>0.01030</td>\n",
              "      <td>0.542</td>\n",
              "      <td>0.853</td>\n",
              "      <td>0.000000</td>\n",
              "      <td>3.0</td>\n",
              "      <td>0.1080</td>\n",
              "      <td>-6.407</td>\n",
              "      <td>0.0</td>\n",
              "      <td>0.0498</td>\n",
              "      <td>105.256</td>\n",
              "      <td>4.0</td>\n",
              "      <td>0.370</td>\n",
              "      <td>0.0</td>\n",
              "      <td>0.0</td>\n",
              "    </tr>\n",
              "    <tr>\n",
              "      <th>2</th>\n",
              "      <td>Seven Nation Army</td>\n",
              "      <td>76.0</td>\n",
              "      <td>231733.0</td>\n",
              "      <td>0.00817</td>\n",
              "      <td>0.737</td>\n",
              "      <td>0.463</td>\n",
              "      <td>0.447000</td>\n",
              "      <td>0.0</td>\n",
              "      <td>0.2550</td>\n",
              "      <td>-7.828</td>\n",
              "      <td>1.0</td>\n",
              "      <td>0.0792</td>\n",
              "      <td>123.881</td>\n",
              "      <td>4.0</td>\n",
              "      <td>0.324</td>\n",
              "      <td>1.0</td>\n",
              "      <td>0.0</td>\n",
              "    </tr>\n",
              "  </tbody>\n",
              "</table>\n",
              "</div>\n",
              "      <button class=\"colab-df-convert\" onclick=\"convertToInteractive('df-f33aabd5-2f61-4d50-8a7d-02110c538d06')\"\n",
              "              title=\"Convert this dataframe to an interactive table.\"\n",
              "              style=\"display:none;\">\n",
              "        \n",
              "  <svg xmlns=\"http://www.w3.org/2000/svg\" height=\"24px\"viewBox=\"0 0 24 24\"\n",
              "       width=\"24px\">\n",
              "    <path d=\"M0 0h24v24H0V0z\" fill=\"none\"/>\n",
              "    <path d=\"M18.56 5.44l.94 2.06.94-2.06 2.06-.94-2.06-.94-.94-2.06-.94 2.06-2.06.94zm-11 1L8.5 8.5l.94-2.06 2.06-.94-2.06-.94L8.5 2.5l-.94 2.06-2.06.94zm10 10l.94 2.06.94-2.06 2.06-.94-2.06-.94-.94-2.06-.94 2.06-2.06.94z\"/><path d=\"M17.41 7.96l-1.37-1.37c-.4-.4-.92-.59-1.43-.59-.52 0-1.04.2-1.43.59L10.3 9.45l-7.72 7.72c-.78.78-.78 2.05 0 2.83L4 21.41c.39.39.9.59 1.41.59.51 0 1.02-.2 1.41-.59l7.78-7.78 2.81-2.81c.8-.78.8-2.07 0-2.86zM5.41 20L4 18.59l7.72-7.72 1.47 1.35L5.41 20z\"/>\n",
              "  </svg>\n",
              "      </button>\n",
              "      \n",
              "  <style>\n",
              "    .colab-df-container {\n",
              "      display:flex;\n",
              "      flex-wrap:wrap;\n",
              "      gap: 12px;\n",
              "    }\n",
              "\n",
              "    .colab-df-convert {\n",
              "      background-color: #E8F0FE;\n",
              "      border: none;\n",
              "      border-radius: 50%;\n",
              "      cursor: pointer;\n",
              "      display: none;\n",
              "      fill: #1967D2;\n",
              "      height: 32px;\n",
              "      padding: 0 0 0 0;\n",
              "      width: 32px;\n",
              "    }\n",
              "\n",
              "    .colab-df-convert:hover {\n",
              "      background-color: #E2EBFA;\n",
              "      box-shadow: 0px 1px 2px rgba(60, 64, 67, 0.3), 0px 1px 3px 1px rgba(60, 64, 67, 0.15);\n",
              "      fill: #174EA6;\n",
              "    }\n",
              "\n",
              "    [theme=dark] .colab-df-convert {\n",
              "      background-color: #3B4455;\n",
              "      fill: #D2E3FC;\n",
              "    }\n",
              "\n",
              "    [theme=dark] .colab-df-convert:hover {\n",
              "      background-color: #434B5C;\n",
              "      box-shadow: 0px 1px 3px 1px rgba(0, 0, 0, 0.15);\n",
              "      filter: drop-shadow(0px 1px 2px rgba(0, 0, 0, 0.3));\n",
              "      fill: #FFFFFF;\n",
              "    }\n",
              "  </style>\n",
              "\n",
              "      <script>\n",
              "        const buttonEl =\n",
              "          document.querySelector('#df-f33aabd5-2f61-4d50-8a7d-02110c538d06 button.colab-df-convert');\n",
              "        buttonEl.style.display =\n",
              "          google.colab.kernel.accessAllowed ? 'block' : 'none';\n",
              "\n",
              "        async function convertToInteractive(key) {\n",
              "          const element = document.querySelector('#df-f33aabd5-2f61-4d50-8a7d-02110c538d06');\n",
              "          const dataTable =\n",
              "            await google.colab.kernel.invokeFunction('convertToInteractive',\n",
              "                                                     [key], {});\n",
              "          if (!dataTable) return;\n",
              "\n",
              "          const docLinkHtml = 'Like what you see? Visit the ' +\n",
              "            '<a target=\"_blank\" href=https://colab.research.google.com/notebooks/data_table.ipynb>data table notebook</a>'\n",
              "            + ' to learn more about interactive tables.';\n",
              "          element.innerHTML = '';\n",
              "          dataTable['output_type'] = 'display_data';\n",
              "          await google.colab.output.renderOutput(dataTable, element);\n",
              "          const docLink = document.createElement('div');\n",
              "          docLink.innerHTML = docLinkHtml;\n",
              "          element.appendChild(docLink);\n",
              "        }\n",
              "      </script>\n",
              "    </div>\n",
              "  </div>\n",
              "  "
            ]
          },
          "metadata": {},
          "execution_count": 58
        }
      ],
      "source": [
        "song_data =pd.concat([song_data,data_plr.sentiment],axis=1)\n",
        "song_data.head(3)"
      ]
    },
    {
      "cell_type": "code",
      "execution_count": 59,
      "metadata": {
        "id": "YtuIdZybJaZQ",
        "colab": {
          "base_uri": "https://localhost:8080/",
          "height": 421
        },
        "outputId": "31695270-9f90-4186-d008-11076a10fb05"
      },
      "outputs": [
        {
          "output_type": "execute_result",
          "data": {
            "text/plain": [
              "                    song_name  song_popularity  song_duration_ms  \\\n",
              "0  Boulevard of Broken Dreams             73.0          262333.0   \n",
              "1                  In The End             66.0          216933.0   \n",
              "2           Seven Nation Army             76.0          231733.0   \n",
              "3                  By The Way             74.0          216933.0   \n",
              "4           How You Remind Me             56.0          223826.0   \n",
              "\n",
              "   acousticness  danceability  energy  instrumentalness  liveness  loudness  \\\n",
              "0      0.005520         0.496   0.682          0.000029    0.0589    -4.095   \n",
              "1      0.010300         0.542   0.853          0.000000    0.1080    -6.407   \n",
              "2      0.008170         0.737   0.463          0.447000    0.2550    -7.828   \n",
              "3      0.026400         0.451   0.970          0.003550    0.1020    -4.938   \n",
              "4      0.000954         0.447   0.766          0.000000    0.1130    -5.065   \n",
              "\n",
              "   audio_mode  ...  key_2.0  key_3.0  key_4.0  key_5.0  key_6.0  key_7.0  \\\n",
              "0         1.0  ...        0        0        0        0        0        0   \n",
              "1         0.0  ...        0        1        0        0        0        0   \n",
              "2         1.0  ...        0        0        0        0        0        0   \n",
              "3         1.0  ...        0        0        0        0        0        0   \n",
              "4         1.0  ...        0        0        0        0        0        0   \n",
              "\n",
              "   key_8.0  key_9.0  key_10.0  key_11.0  \n",
              "0        1        0         0         0  \n",
              "1        0        0         0         0  \n",
              "2        0        0         0         0  \n",
              "3        0        0         0         0  \n",
              "4        0        0         1         0  \n",
              "\n",
              "[5 rows x 28 columns]"
            ],
            "text/html": [
              "\n",
              "  <div id=\"df-a572b41d-3e76-44c7-a961-a0cc905d9782\">\n",
              "    <div class=\"colab-df-container\">\n",
              "      <div>\n",
              "<style scoped>\n",
              "    .dataframe tbody tr th:only-of-type {\n",
              "        vertical-align: middle;\n",
              "    }\n",
              "\n",
              "    .dataframe tbody tr th {\n",
              "        vertical-align: top;\n",
              "    }\n",
              "\n",
              "    .dataframe thead th {\n",
              "        text-align: right;\n",
              "    }\n",
              "</style>\n",
              "<table border=\"1\" class=\"dataframe\">\n",
              "  <thead>\n",
              "    <tr style=\"text-align: right;\">\n",
              "      <th></th>\n",
              "      <th>song_name</th>\n",
              "      <th>song_popularity</th>\n",
              "      <th>song_duration_ms</th>\n",
              "      <th>acousticness</th>\n",
              "      <th>danceability</th>\n",
              "      <th>energy</th>\n",
              "      <th>instrumentalness</th>\n",
              "      <th>liveness</th>\n",
              "      <th>loudness</th>\n",
              "      <th>audio_mode</th>\n",
              "      <th>...</th>\n",
              "      <th>key_2.0</th>\n",
              "      <th>key_3.0</th>\n",
              "      <th>key_4.0</th>\n",
              "      <th>key_5.0</th>\n",
              "      <th>key_6.0</th>\n",
              "      <th>key_7.0</th>\n",
              "      <th>key_8.0</th>\n",
              "      <th>key_9.0</th>\n",
              "      <th>key_10.0</th>\n",
              "      <th>key_11.0</th>\n",
              "    </tr>\n",
              "  </thead>\n",
              "  <tbody>\n",
              "    <tr>\n",
              "      <th>0</th>\n",
              "      <td>Boulevard of Broken Dreams</td>\n",
              "      <td>73.0</td>\n",
              "      <td>262333.0</td>\n",
              "      <td>0.005520</td>\n",
              "      <td>0.496</td>\n",
              "      <td>0.682</td>\n",
              "      <td>0.000029</td>\n",
              "      <td>0.0589</td>\n",
              "      <td>-4.095</td>\n",
              "      <td>1.0</td>\n",
              "      <td>...</td>\n",
              "      <td>0</td>\n",
              "      <td>0</td>\n",
              "      <td>0</td>\n",
              "      <td>0</td>\n",
              "      <td>0</td>\n",
              "      <td>0</td>\n",
              "      <td>1</td>\n",
              "      <td>0</td>\n",
              "      <td>0</td>\n",
              "      <td>0</td>\n",
              "    </tr>\n",
              "    <tr>\n",
              "      <th>1</th>\n",
              "      <td>In The End</td>\n",
              "      <td>66.0</td>\n",
              "      <td>216933.0</td>\n",
              "      <td>0.010300</td>\n",
              "      <td>0.542</td>\n",
              "      <td>0.853</td>\n",
              "      <td>0.000000</td>\n",
              "      <td>0.1080</td>\n",
              "      <td>-6.407</td>\n",
              "      <td>0.0</td>\n",
              "      <td>...</td>\n",
              "      <td>0</td>\n",
              "      <td>1</td>\n",
              "      <td>0</td>\n",
              "      <td>0</td>\n",
              "      <td>0</td>\n",
              "      <td>0</td>\n",
              "      <td>0</td>\n",
              "      <td>0</td>\n",
              "      <td>0</td>\n",
              "      <td>0</td>\n",
              "    </tr>\n",
              "    <tr>\n",
              "      <th>2</th>\n",
              "      <td>Seven Nation Army</td>\n",
              "      <td>76.0</td>\n",
              "      <td>231733.0</td>\n",
              "      <td>0.008170</td>\n",
              "      <td>0.737</td>\n",
              "      <td>0.463</td>\n",
              "      <td>0.447000</td>\n",
              "      <td>0.2550</td>\n",
              "      <td>-7.828</td>\n",
              "      <td>1.0</td>\n",
              "      <td>...</td>\n",
              "      <td>0</td>\n",
              "      <td>0</td>\n",
              "      <td>0</td>\n",
              "      <td>0</td>\n",
              "      <td>0</td>\n",
              "      <td>0</td>\n",
              "      <td>0</td>\n",
              "      <td>0</td>\n",
              "      <td>0</td>\n",
              "      <td>0</td>\n",
              "    </tr>\n",
              "    <tr>\n",
              "      <th>3</th>\n",
              "      <td>By The Way</td>\n",
              "      <td>74.0</td>\n",
              "      <td>216933.0</td>\n",
              "      <td>0.026400</td>\n",
              "      <td>0.451</td>\n",
              "      <td>0.970</td>\n",
              "      <td>0.003550</td>\n",
              "      <td>0.1020</td>\n",
              "      <td>-4.938</td>\n",
              "      <td>1.0</td>\n",
              "      <td>...</td>\n",
              "      <td>0</td>\n",
              "      <td>0</td>\n",
              "      <td>0</td>\n",
              "      <td>0</td>\n",
              "      <td>0</td>\n",
              "      <td>0</td>\n",
              "      <td>0</td>\n",
              "      <td>0</td>\n",
              "      <td>0</td>\n",
              "      <td>0</td>\n",
              "    </tr>\n",
              "    <tr>\n",
              "      <th>4</th>\n",
              "      <td>How You Remind Me</td>\n",
              "      <td>56.0</td>\n",
              "      <td>223826.0</td>\n",
              "      <td>0.000954</td>\n",
              "      <td>0.447</td>\n",
              "      <td>0.766</td>\n",
              "      <td>0.000000</td>\n",
              "      <td>0.1130</td>\n",
              "      <td>-5.065</td>\n",
              "      <td>1.0</td>\n",
              "      <td>...</td>\n",
              "      <td>0</td>\n",
              "      <td>0</td>\n",
              "      <td>0</td>\n",
              "      <td>0</td>\n",
              "      <td>0</td>\n",
              "      <td>0</td>\n",
              "      <td>0</td>\n",
              "      <td>0</td>\n",
              "      <td>1</td>\n",
              "      <td>0</td>\n",
              "    </tr>\n",
              "  </tbody>\n",
              "</table>\n",
              "<p>5 rows × 28 columns</p>\n",
              "</div>\n",
              "      <button class=\"colab-df-convert\" onclick=\"convertToInteractive('df-a572b41d-3e76-44c7-a961-a0cc905d9782')\"\n",
              "              title=\"Convert this dataframe to an interactive table.\"\n",
              "              style=\"display:none;\">\n",
              "        \n",
              "  <svg xmlns=\"http://www.w3.org/2000/svg\" height=\"24px\"viewBox=\"0 0 24 24\"\n",
              "       width=\"24px\">\n",
              "    <path d=\"M0 0h24v24H0V0z\" fill=\"none\"/>\n",
              "    <path d=\"M18.56 5.44l.94 2.06.94-2.06 2.06-.94-2.06-.94-.94-2.06-.94 2.06-2.06.94zm-11 1L8.5 8.5l.94-2.06 2.06-.94-2.06-.94L8.5 2.5l-.94 2.06-2.06.94zm10 10l.94 2.06.94-2.06 2.06-.94-2.06-.94-.94-2.06-.94 2.06-2.06.94z\"/><path d=\"M17.41 7.96l-1.37-1.37c-.4-.4-.92-.59-1.43-.59-.52 0-1.04.2-1.43.59L10.3 9.45l-7.72 7.72c-.78.78-.78 2.05 0 2.83L4 21.41c.39.39.9.59 1.41.59.51 0 1.02-.2 1.41-.59l7.78-7.78 2.81-2.81c.8-.78.8-2.07 0-2.86zM5.41 20L4 18.59l7.72-7.72 1.47 1.35L5.41 20z\"/>\n",
              "  </svg>\n",
              "      </button>\n",
              "      \n",
              "  <style>\n",
              "    .colab-df-container {\n",
              "      display:flex;\n",
              "      flex-wrap:wrap;\n",
              "      gap: 12px;\n",
              "    }\n",
              "\n",
              "    .colab-df-convert {\n",
              "      background-color: #E8F0FE;\n",
              "      border: none;\n",
              "      border-radius: 50%;\n",
              "      cursor: pointer;\n",
              "      display: none;\n",
              "      fill: #1967D2;\n",
              "      height: 32px;\n",
              "      padding: 0 0 0 0;\n",
              "      width: 32px;\n",
              "    }\n",
              "\n",
              "    .colab-df-convert:hover {\n",
              "      background-color: #E2EBFA;\n",
              "      box-shadow: 0px 1px 2px rgba(60, 64, 67, 0.3), 0px 1px 3px 1px rgba(60, 64, 67, 0.15);\n",
              "      fill: #174EA6;\n",
              "    }\n",
              "\n",
              "    [theme=dark] .colab-df-convert {\n",
              "      background-color: #3B4455;\n",
              "      fill: #D2E3FC;\n",
              "    }\n",
              "\n",
              "    [theme=dark] .colab-df-convert:hover {\n",
              "      background-color: #434B5C;\n",
              "      box-shadow: 0px 1px 3px 1px rgba(0, 0, 0, 0.15);\n",
              "      filter: drop-shadow(0px 1px 2px rgba(0, 0, 0, 0.3));\n",
              "      fill: #FFFFFF;\n",
              "    }\n",
              "  </style>\n",
              "\n",
              "      <script>\n",
              "        const buttonEl =\n",
              "          document.querySelector('#df-a572b41d-3e76-44c7-a961-a0cc905d9782 button.colab-df-convert');\n",
              "        buttonEl.style.display =\n",
              "          google.colab.kernel.accessAllowed ? 'block' : 'none';\n",
              "\n",
              "        async function convertToInteractive(key) {\n",
              "          const element = document.querySelector('#df-a572b41d-3e76-44c7-a961-a0cc905d9782');\n",
              "          const dataTable =\n",
              "            await google.colab.kernel.invokeFunction('convertToInteractive',\n",
              "                                                     [key], {});\n",
              "          if (!dataTable) return;\n",
              "\n",
              "          const docLinkHtml = 'Like what you see? Visit the ' +\n",
              "            '<a target=\"_blank\" href=https://colab.research.google.com/notebooks/data_table.ipynb>data table notebook</a>'\n",
              "            + ' to learn more about interactive tables.';\n",
              "          element.innerHTML = '';\n",
              "          dataTable['output_type'] = 'display_data';\n",
              "          await google.colab.output.renderOutput(dataTable, element);\n",
              "          const docLink = document.createElement('div');\n",
              "          docLink.innerHTML = docLinkHtml;\n",
              "          element.appendChild(docLink);\n",
              "        }\n",
              "      </script>\n",
              "    </div>\n",
              "  </div>\n",
              "  "
            ]
          },
          "metadata": {},
          "execution_count": 59
        }
      ],
      "source": [
        "song_data[\"key\"] = song_data[\"key\"].astype(\"category\")\n",
        "song_data = pd.get_dummies(song_data, columns=[\"key\"])\n",
        "song_data.head()"
      ]
    },
    {
      "cell_type": "code",
      "execution_count": 60,
      "metadata": {
        "id": "Rd-IXyQxJcCX",
        "colab": {
          "base_uri": "https://localhost:8080/",
          "height": 421
        },
        "outputId": "f5e96174-8845-4de9-f8bc-0fa1dde1ec07"
      },
      "outputs": [
        {
          "output_type": "execute_result",
          "data": {
            "text/plain": [
              "                    song_name  song_popularity  song_duration_ms  \\\n",
              "0  Boulevard of Broken Dreams             73.0          262333.0   \n",
              "1                  In The End             66.0          216933.0   \n",
              "2           Seven Nation Army             76.0          231733.0   \n",
              "3                  By The Way             74.0          216933.0   \n",
              "4           How You Remind Me             56.0          223826.0   \n",
              "\n",
              "   acousticness  danceability  energy  instrumentalness  liveness  loudness  \\\n",
              "0      0.005520         0.496   0.682          0.000029    0.0589    -4.095   \n",
              "1      0.010300         0.542   0.853          0.000000    0.1080    -6.407   \n",
              "2      0.008170         0.737   0.463          0.447000    0.2550    -7.828   \n",
              "3      0.026400         0.451   0.970          0.003550    0.1020    -4.938   \n",
              "4      0.000954         0.447   0.766          0.000000    0.1130    -5.065   \n",
              "\n",
              "   speechiness  ...  key_4.0  key_5.0  key_6.0  key_7.0  key_8.0  key_9.0  \\\n",
              "0       0.0294  ...        0        0        0        0        1        0   \n",
              "1       0.0498  ...        0        0        0        0        0        0   \n",
              "2       0.0792  ...        0        0        0        0        0        0   \n",
              "3       0.1070  ...        0        0        0        0        0        0   \n",
              "4       0.0313  ...        0        0        0        0        0        0   \n",
              "\n",
              "   key_10.0  key_11.0  audio_mode_0.0  audio_mode_1.0  \n",
              "0         0         0               0               1  \n",
              "1         0         0               1               0  \n",
              "2         0         0               0               1  \n",
              "3         0         0               0               1  \n",
              "4         1         0               0               1  \n",
              "\n",
              "[5 rows x 29 columns]"
            ],
            "text/html": [
              "\n",
              "  <div id=\"df-ace4c42c-6154-400a-893e-9ca2d9b3990f\">\n",
              "    <div class=\"colab-df-container\">\n",
              "      <div>\n",
              "<style scoped>\n",
              "    .dataframe tbody tr th:only-of-type {\n",
              "        vertical-align: middle;\n",
              "    }\n",
              "\n",
              "    .dataframe tbody tr th {\n",
              "        vertical-align: top;\n",
              "    }\n",
              "\n",
              "    .dataframe thead th {\n",
              "        text-align: right;\n",
              "    }\n",
              "</style>\n",
              "<table border=\"1\" class=\"dataframe\">\n",
              "  <thead>\n",
              "    <tr style=\"text-align: right;\">\n",
              "      <th></th>\n",
              "      <th>song_name</th>\n",
              "      <th>song_popularity</th>\n",
              "      <th>song_duration_ms</th>\n",
              "      <th>acousticness</th>\n",
              "      <th>danceability</th>\n",
              "      <th>energy</th>\n",
              "      <th>instrumentalness</th>\n",
              "      <th>liveness</th>\n",
              "      <th>loudness</th>\n",
              "      <th>speechiness</th>\n",
              "      <th>...</th>\n",
              "      <th>key_4.0</th>\n",
              "      <th>key_5.0</th>\n",
              "      <th>key_6.0</th>\n",
              "      <th>key_7.0</th>\n",
              "      <th>key_8.0</th>\n",
              "      <th>key_9.0</th>\n",
              "      <th>key_10.0</th>\n",
              "      <th>key_11.0</th>\n",
              "      <th>audio_mode_0.0</th>\n",
              "      <th>audio_mode_1.0</th>\n",
              "    </tr>\n",
              "  </thead>\n",
              "  <tbody>\n",
              "    <tr>\n",
              "      <th>0</th>\n",
              "      <td>Boulevard of Broken Dreams</td>\n",
              "      <td>73.0</td>\n",
              "      <td>262333.0</td>\n",
              "      <td>0.005520</td>\n",
              "      <td>0.496</td>\n",
              "      <td>0.682</td>\n",
              "      <td>0.000029</td>\n",
              "      <td>0.0589</td>\n",
              "      <td>-4.095</td>\n",
              "      <td>0.0294</td>\n",
              "      <td>...</td>\n",
              "      <td>0</td>\n",
              "      <td>0</td>\n",
              "      <td>0</td>\n",
              "      <td>0</td>\n",
              "      <td>1</td>\n",
              "      <td>0</td>\n",
              "      <td>0</td>\n",
              "      <td>0</td>\n",
              "      <td>0</td>\n",
              "      <td>1</td>\n",
              "    </tr>\n",
              "    <tr>\n",
              "      <th>1</th>\n",
              "      <td>In The End</td>\n",
              "      <td>66.0</td>\n",
              "      <td>216933.0</td>\n",
              "      <td>0.010300</td>\n",
              "      <td>0.542</td>\n",
              "      <td>0.853</td>\n",
              "      <td>0.000000</td>\n",
              "      <td>0.1080</td>\n",
              "      <td>-6.407</td>\n",
              "      <td>0.0498</td>\n",
              "      <td>...</td>\n",
              "      <td>0</td>\n",
              "      <td>0</td>\n",
              "      <td>0</td>\n",
              "      <td>0</td>\n",
              "      <td>0</td>\n",
              "      <td>0</td>\n",
              "      <td>0</td>\n",
              "      <td>0</td>\n",
              "      <td>1</td>\n",
              "      <td>0</td>\n",
              "    </tr>\n",
              "    <tr>\n",
              "      <th>2</th>\n",
              "      <td>Seven Nation Army</td>\n",
              "      <td>76.0</td>\n",
              "      <td>231733.0</td>\n",
              "      <td>0.008170</td>\n",
              "      <td>0.737</td>\n",
              "      <td>0.463</td>\n",
              "      <td>0.447000</td>\n",
              "      <td>0.2550</td>\n",
              "      <td>-7.828</td>\n",
              "      <td>0.0792</td>\n",
              "      <td>...</td>\n",
              "      <td>0</td>\n",
              "      <td>0</td>\n",
              "      <td>0</td>\n",
              "      <td>0</td>\n",
              "      <td>0</td>\n",
              "      <td>0</td>\n",
              "      <td>0</td>\n",
              "      <td>0</td>\n",
              "      <td>0</td>\n",
              "      <td>1</td>\n",
              "    </tr>\n",
              "    <tr>\n",
              "      <th>3</th>\n",
              "      <td>By The Way</td>\n",
              "      <td>74.0</td>\n",
              "      <td>216933.0</td>\n",
              "      <td>0.026400</td>\n",
              "      <td>0.451</td>\n",
              "      <td>0.970</td>\n",
              "      <td>0.003550</td>\n",
              "      <td>0.1020</td>\n",
              "      <td>-4.938</td>\n",
              "      <td>0.1070</td>\n",
              "      <td>...</td>\n",
              "      <td>0</td>\n",
              "      <td>0</td>\n",
              "      <td>0</td>\n",
              "      <td>0</td>\n",
              "      <td>0</td>\n",
              "      <td>0</td>\n",
              "      <td>0</td>\n",
              "      <td>0</td>\n",
              "      <td>0</td>\n",
              "      <td>1</td>\n",
              "    </tr>\n",
              "    <tr>\n",
              "      <th>4</th>\n",
              "      <td>How You Remind Me</td>\n",
              "      <td>56.0</td>\n",
              "      <td>223826.0</td>\n",
              "      <td>0.000954</td>\n",
              "      <td>0.447</td>\n",
              "      <td>0.766</td>\n",
              "      <td>0.000000</td>\n",
              "      <td>0.1130</td>\n",
              "      <td>-5.065</td>\n",
              "      <td>0.0313</td>\n",
              "      <td>...</td>\n",
              "      <td>0</td>\n",
              "      <td>0</td>\n",
              "      <td>0</td>\n",
              "      <td>0</td>\n",
              "      <td>0</td>\n",
              "      <td>0</td>\n",
              "      <td>1</td>\n",
              "      <td>0</td>\n",
              "      <td>0</td>\n",
              "      <td>1</td>\n",
              "    </tr>\n",
              "  </tbody>\n",
              "</table>\n",
              "<p>5 rows × 29 columns</p>\n",
              "</div>\n",
              "      <button class=\"colab-df-convert\" onclick=\"convertToInteractive('df-ace4c42c-6154-400a-893e-9ca2d9b3990f')\"\n",
              "              title=\"Convert this dataframe to an interactive table.\"\n",
              "              style=\"display:none;\">\n",
              "        \n",
              "  <svg xmlns=\"http://www.w3.org/2000/svg\" height=\"24px\"viewBox=\"0 0 24 24\"\n",
              "       width=\"24px\">\n",
              "    <path d=\"M0 0h24v24H0V0z\" fill=\"none\"/>\n",
              "    <path d=\"M18.56 5.44l.94 2.06.94-2.06 2.06-.94-2.06-.94-.94-2.06-.94 2.06-2.06.94zm-11 1L8.5 8.5l.94-2.06 2.06-.94-2.06-.94L8.5 2.5l-.94 2.06-2.06.94zm10 10l.94 2.06.94-2.06 2.06-.94-2.06-.94-.94-2.06-.94 2.06-2.06.94z\"/><path d=\"M17.41 7.96l-1.37-1.37c-.4-.4-.92-.59-1.43-.59-.52 0-1.04.2-1.43.59L10.3 9.45l-7.72 7.72c-.78.78-.78 2.05 0 2.83L4 21.41c.39.39.9.59 1.41.59.51 0 1.02-.2 1.41-.59l7.78-7.78 2.81-2.81c.8-.78.8-2.07 0-2.86zM5.41 20L4 18.59l7.72-7.72 1.47 1.35L5.41 20z\"/>\n",
              "  </svg>\n",
              "      </button>\n",
              "      \n",
              "  <style>\n",
              "    .colab-df-container {\n",
              "      display:flex;\n",
              "      flex-wrap:wrap;\n",
              "      gap: 12px;\n",
              "    }\n",
              "\n",
              "    .colab-df-convert {\n",
              "      background-color: #E8F0FE;\n",
              "      border: none;\n",
              "      border-radius: 50%;\n",
              "      cursor: pointer;\n",
              "      display: none;\n",
              "      fill: #1967D2;\n",
              "      height: 32px;\n",
              "      padding: 0 0 0 0;\n",
              "      width: 32px;\n",
              "    }\n",
              "\n",
              "    .colab-df-convert:hover {\n",
              "      background-color: #E2EBFA;\n",
              "      box-shadow: 0px 1px 2px rgba(60, 64, 67, 0.3), 0px 1px 3px 1px rgba(60, 64, 67, 0.15);\n",
              "      fill: #174EA6;\n",
              "    }\n",
              "\n",
              "    [theme=dark] .colab-df-convert {\n",
              "      background-color: #3B4455;\n",
              "      fill: #D2E3FC;\n",
              "    }\n",
              "\n",
              "    [theme=dark] .colab-df-convert:hover {\n",
              "      background-color: #434B5C;\n",
              "      box-shadow: 0px 1px 3px 1px rgba(0, 0, 0, 0.15);\n",
              "      filter: drop-shadow(0px 1px 2px rgba(0, 0, 0, 0.3));\n",
              "      fill: #FFFFFF;\n",
              "    }\n",
              "  </style>\n",
              "\n",
              "      <script>\n",
              "        const buttonEl =\n",
              "          document.querySelector('#df-ace4c42c-6154-400a-893e-9ca2d9b3990f button.colab-df-convert');\n",
              "        buttonEl.style.display =\n",
              "          google.colab.kernel.accessAllowed ? 'block' : 'none';\n",
              "\n",
              "        async function convertToInteractive(key) {\n",
              "          const element = document.querySelector('#df-ace4c42c-6154-400a-893e-9ca2d9b3990f');\n",
              "          const dataTable =\n",
              "            await google.colab.kernel.invokeFunction('convertToInteractive',\n",
              "                                                     [key], {});\n",
              "          if (!dataTable) return;\n",
              "\n",
              "          const docLinkHtml = 'Like what you see? Visit the ' +\n",
              "            '<a target=\"_blank\" href=https://colab.research.google.com/notebooks/data_table.ipynb>data table notebook</a>'\n",
              "            + ' to learn more about interactive tables.';\n",
              "          element.innerHTML = '';\n",
              "          dataTable['output_type'] = 'display_data';\n",
              "          await google.colab.output.renderOutput(dataTable, element);\n",
              "          const docLink = document.createElement('div');\n",
              "          docLink.innerHTML = docLinkHtml;\n",
              "          element.appendChild(docLink);\n",
              "        }\n",
              "      </script>\n",
              "    </div>\n",
              "  </div>\n",
              "  "
            ]
          },
          "metadata": {},
          "execution_count": 60
        }
      ],
      "source": [
        "song_data[\"audio_mode\"] = song_data[\"audio_mode\"].astype(\"category\")\n",
        "song_data = pd.get_dummies(song_data, columns=[\"audio_mode\"])\n",
        "song_data.head()"
      ]
    },
    {
      "cell_type": "code",
      "execution_count": 61,
      "metadata": {
        "id": "hFjoK8zBJd6v",
        "colab": {
          "base_uri": "https://localhost:8080/",
          "height": 421
        },
        "outputId": "167cfff5-7291-48ab-bbd6-cb3f0103ef48"
      },
      "outputs": [
        {
          "output_type": "execute_result",
          "data": {
            "text/plain": [
              "                    song_name  song_popularity  song_duration_ms  \\\n",
              "0  Boulevard of Broken Dreams             73.0          262333.0   \n",
              "1                  In The End             66.0          216933.0   \n",
              "2           Seven Nation Army             76.0          231733.0   \n",
              "3                  By The Way             74.0          216933.0   \n",
              "4           How You Remind Me             56.0          223826.0   \n",
              "\n",
              "   acousticness  danceability  energy  instrumentalness  liveness  loudness  \\\n",
              "0      0.005520         0.496   0.682          0.000029    0.0589    -4.095   \n",
              "1      0.010300         0.542   0.853          0.000000    0.1080    -6.407   \n",
              "2      0.008170         0.737   0.463          0.447000    0.2550    -7.828   \n",
              "3      0.026400         0.451   0.970          0.003550    0.1020    -4.938   \n",
              "4      0.000954         0.447   0.766          0.000000    0.1130    -5.065   \n",
              "\n",
              "   speechiness  ...  key_9.0  key_10.0  key_11.0  audio_mode_0.0  \\\n",
              "0       0.0294  ...        0         0         0               0   \n",
              "1       0.0498  ...        0         0         0               1   \n",
              "2       0.0792  ...        0         0         0               0   \n",
              "3       0.1070  ...        0         0         0               0   \n",
              "4       0.0313  ...        0         1         0               0   \n",
              "\n",
              "   audio_mode_1.0  time_signature_0.0  time_signature_1.0  time_signature_3.0  \\\n",
              "0               1                   0                   0                   0   \n",
              "1               0                   0                   0                   0   \n",
              "2               1                   0                   0                   0   \n",
              "3               1                   0                   0                   0   \n",
              "4               1                   0                   0                   0   \n",
              "\n",
              "   time_signature_4.0  time_signature_5.0  \n",
              "0                   1                   0  \n",
              "1                   1                   0  \n",
              "2                   1                   0  \n",
              "3                   1                   0  \n",
              "4                   1                   0  \n",
              "\n",
              "[5 rows x 33 columns]"
            ],
            "text/html": [
              "\n",
              "  <div id=\"df-b3710557-6352-4f47-969b-60abafca9348\">\n",
              "    <div class=\"colab-df-container\">\n",
              "      <div>\n",
              "<style scoped>\n",
              "    .dataframe tbody tr th:only-of-type {\n",
              "        vertical-align: middle;\n",
              "    }\n",
              "\n",
              "    .dataframe tbody tr th {\n",
              "        vertical-align: top;\n",
              "    }\n",
              "\n",
              "    .dataframe thead th {\n",
              "        text-align: right;\n",
              "    }\n",
              "</style>\n",
              "<table border=\"1\" class=\"dataframe\">\n",
              "  <thead>\n",
              "    <tr style=\"text-align: right;\">\n",
              "      <th></th>\n",
              "      <th>song_name</th>\n",
              "      <th>song_popularity</th>\n",
              "      <th>song_duration_ms</th>\n",
              "      <th>acousticness</th>\n",
              "      <th>danceability</th>\n",
              "      <th>energy</th>\n",
              "      <th>instrumentalness</th>\n",
              "      <th>liveness</th>\n",
              "      <th>loudness</th>\n",
              "      <th>speechiness</th>\n",
              "      <th>...</th>\n",
              "      <th>key_9.0</th>\n",
              "      <th>key_10.0</th>\n",
              "      <th>key_11.0</th>\n",
              "      <th>audio_mode_0.0</th>\n",
              "      <th>audio_mode_1.0</th>\n",
              "      <th>time_signature_0.0</th>\n",
              "      <th>time_signature_1.0</th>\n",
              "      <th>time_signature_3.0</th>\n",
              "      <th>time_signature_4.0</th>\n",
              "      <th>time_signature_5.0</th>\n",
              "    </tr>\n",
              "  </thead>\n",
              "  <tbody>\n",
              "    <tr>\n",
              "      <th>0</th>\n",
              "      <td>Boulevard of Broken Dreams</td>\n",
              "      <td>73.0</td>\n",
              "      <td>262333.0</td>\n",
              "      <td>0.005520</td>\n",
              "      <td>0.496</td>\n",
              "      <td>0.682</td>\n",
              "      <td>0.000029</td>\n",
              "      <td>0.0589</td>\n",
              "      <td>-4.095</td>\n",
              "      <td>0.0294</td>\n",
              "      <td>...</td>\n",
              "      <td>0</td>\n",
              "      <td>0</td>\n",
              "      <td>0</td>\n",
              "      <td>0</td>\n",
              "      <td>1</td>\n",
              "      <td>0</td>\n",
              "      <td>0</td>\n",
              "      <td>0</td>\n",
              "      <td>1</td>\n",
              "      <td>0</td>\n",
              "    </tr>\n",
              "    <tr>\n",
              "      <th>1</th>\n",
              "      <td>In The End</td>\n",
              "      <td>66.0</td>\n",
              "      <td>216933.0</td>\n",
              "      <td>0.010300</td>\n",
              "      <td>0.542</td>\n",
              "      <td>0.853</td>\n",
              "      <td>0.000000</td>\n",
              "      <td>0.1080</td>\n",
              "      <td>-6.407</td>\n",
              "      <td>0.0498</td>\n",
              "      <td>...</td>\n",
              "      <td>0</td>\n",
              "      <td>0</td>\n",
              "      <td>0</td>\n",
              "      <td>1</td>\n",
              "      <td>0</td>\n",
              "      <td>0</td>\n",
              "      <td>0</td>\n",
              "      <td>0</td>\n",
              "      <td>1</td>\n",
              "      <td>0</td>\n",
              "    </tr>\n",
              "    <tr>\n",
              "      <th>2</th>\n",
              "      <td>Seven Nation Army</td>\n",
              "      <td>76.0</td>\n",
              "      <td>231733.0</td>\n",
              "      <td>0.008170</td>\n",
              "      <td>0.737</td>\n",
              "      <td>0.463</td>\n",
              "      <td>0.447000</td>\n",
              "      <td>0.2550</td>\n",
              "      <td>-7.828</td>\n",
              "      <td>0.0792</td>\n",
              "      <td>...</td>\n",
              "      <td>0</td>\n",
              "      <td>0</td>\n",
              "      <td>0</td>\n",
              "      <td>0</td>\n",
              "      <td>1</td>\n",
              "      <td>0</td>\n",
              "      <td>0</td>\n",
              "      <td>0</td>\n",
              "      <td>1</td>\n",
              "      <td>0</td>\n",
              "    </tr>\n",
              "    <tr>\n",
              "      <th>3</th>\n",
              "      <td>By The Way</td>\n",
              "      <td>74.0</td>\n",
              "      <td>216933.0</td>\n",
              "      <td>0.026400</td>\n",
              "      <td>0.451</td>\n",
              "      <td>0.970</td>\n",
              "      <td>0.003550</td>\n",
              "      <td>0.1020</td>\n",
              "      <td>-4.938</td>\n",
              "      <td>0.1070</td>\n",
              "      <td>...</td>\n",
              "      <td>0</td>\n",
              "      <td>0</td>\n",
              "      <td>0</td>\n",
              "      <td>0</td>\n",
              "      <td>1</td>\n",
              "      <td>0</td>\n",
              "      <td>0</td>\n",
              "      <td>0</td>\n",
              "      <td>1</td>\n",
              "      <td>0</td>\n",
              "    </tr>\n",
              "    <tr>\n",
              "      <th>4</th>\n",
              "      <td>How You Remind Me</td>\n",
              "      <td>56.0</td>\n",
              "      <td>223826.0</td>\n",
              "      <td>0.000954</td>\n",
              "      <td>0.447</td>\n",
              "      <td>0.766</td>\n",
              "      <td>0.000000</td>\n",
              "      <td>0.1130</td>\n",
              "      <td>-5.065</td>\n",
              "      <td>0.0313</td>\n",
              "      <td>...</td>\n",
              "      <td>0</td>\n",
              "      <td>1</td>\n",
              "      <td>0</td>\n",
              "      <td>0</td>\n",
              "      <td>1</td>\n",
              "      <td>0</td>\n",
              "      <td>0</td>\n",
              "      <td>0</td>\n",
              "      <td>1</td>\n",
              "      <td>0</td>\n",
              "    </tr>\n",
              "  </tbody>\n",
              "</table>\n",
              "<p>5 rows × 33 columns</p>\n",
              "</div>\n",
              "      <button class=\"colab-df-convert\" onclick=\"convertToInteractive('df-b3710557-6352-4f47-969b-60abafca9348')\"\n",
              "              title=\"Convert this dataframe to an interactive table.\"\n",
              "              style=\"display:none;\">\n",
              "        \n",
              "  <svg xmlns=\"http://www.w3.org/2000/svg\" height=\"24px\"viewBox=\"0 0 24 24\"\n",
              "       width=\"24px\">\n",
              "    <path d=\"M0 0h24v24H0V0z\" fill=\"none\"/>\n",
              "    <path d=\"M18.56 5.44l.94 2.06.94-2.06 2.06-.94-2.06-.94-.94-2.06-.94 2.06-2.06.94zm-11 1L8.5 8.5l.94-2.06 2.06-.94-2.06-.94L8.5 2.5l-.94 2.06-2.06.94zm10 10l.94 2.06.94-2.06 2.06-.94-2.06-.94-.94-2.06-.94 2.06-2.06.94z\"/><path d=\"M17.41 7.96l-1.37-1.37c-.4-.4-.92-.59-1.43-.59-.52 0-1.04.2-1.43.59L10.3 9.45l-7.72 7.72c-.78.78-.78 2.05 0 2.83L4 21.41c.39.39.9.59 1.41.59.51 0 1.02-.2 1.41-.59l7.78-7.78 2.81-2.81c.8-.78.8-2.07 0-2.86zM5.41 20L4 18.59l7.72-7.72 1.47 1.35L5.41 20z\"/>\n",
              "  </svg>\n",
              "      </button>\n",
              "      \n",
              "  <style>\n",
              "    .colab-df-container {\n",
              "      display:flex;\n",
              "      flex-wrap:wrap;\n",
              "      gap: 12px;\n",
              "    }\n",
              "\n",
              "    .colab-df-convert {\n",
              "      background-color: #E8F0FE;\n",
              "      border: none;\n",
              "      border-radius: 50%;\n",
              "      cursor: pointer;\n",
              "      display: none;\n",
              "      fill: #1967D2;\n",
              "      height: 32px;\n",
              "      padding: 0 0 0 0;\n",
              "      width: 32px;\n",
              "    }\n",
              "\n",
              "    .colab-df-convert:hover {\n",
              "      background-color: #E2EBFA;\n",
              "      box-shadow: 0px 1px 2px rgba(60, 64, 67, 0.3), 0px 1px 3px 1px rgba(60, 64, 67, 0.15);\n",
              "      fill: #174EA6;\n",
              "    }\n",
              "\n",
              "    [theme=dark] .colab-df-convert {\n",
              "      background-color: #3B4455;\n",
              "      fill: #D2E3FC;\n",
              "    }\n",
              "\n",
              "    [theme=dark] .colab-df-convert:hover {\n",
              "      background-color: #434B5C;\n",
              "      box-shadow: 0px 1px 3px 1px rgba(0, 0, 0, 0.15);\n",
              "      filter: drop-shadow(0px 1px 2px rgba(0, 0, 0, 0.3));\n",
              "      fill: #FFFFFF;\n",
              "    }\n",
              "  </style>\n",
              "\n",
              "      <script>\n",
              "        const buttonEl =\n",
              "          document.querySelector('#df-b3710557-6352-4f47-969b-60abafca9348 button.colab-df-convert');\n",
              "        buttonEl.style.display =\n",
              "          google.colab.kernel.accessAllowed ? 'block' : 'none';\n",
              "\n",
              "        async function convertToInteractive(key) {\n",
              "          const element = document.querySelector('#df-b3710557-6352-4f47-969b-60abafca9348');\n",
              "          const dataTable =\n",
              "            await google.colab.kernel.invokeFunction('convertToInteractive',\n",
              "                                                     [key], {});\n",
              "          if (!dataTable) return;\n",
              "\n",
              "          const docLinkHtml = 'Like what you see? Visit the ' +\n",
              "            '<a target=\"_blank\" href=https://colab.research.google.com/notebooks/data_table.ipynb>data table notebook</a>'\n",
              "            + ' to learn more about interactive tables.';\n",
              "          element.innerHTML = '';\n",
              "          dataTable['output_type'] = 'display_data';\n",
              "          await google.colab.output.renderOutput(dataTable, element);\n",
              "          const docLink = document.createElement('div');\n",
              "          docLink.innerHTML = docLinkHtml;\n",
              "          element.appendChild(docLink);\n",
              "        }\n",
              "      </script>\n",
              "    </div>\n",
              "  </div>\n",
              "  "
            ]
          },
          "metadata": {},
          "execution_count": 61
        }
      ],
      "source": [
        "song_data[\"time_signature\"] = song_data[\"time_signature\"].astype(\"category\")\n",
        "song_data = pd.get_dummies(song_data, columns=[\"time_signature\"])\n",
        "song_data.head()"
      ]
    },
    {
      "cell_type": "markdown",
      "metadata": {
        "id": "e8cBcobTJkNV"
      },
      "source": [
        "## Models"
      ]
    },
    {
      "cell_type": "code",
      "execution_count": 62,
      "metadata": {
        "id": "6y00RDZFJfzD"
      },
      "outputs": [],
      "source": [
        "song_data.drop([\"song_popularity\",\"song_name\"],axis=1,inplace=True)"
      ]
    },
    {
      "cell_type": "code",
      "execution_count": 63,
      "metadata": {
        "id": "rTKKkKMPJncJ",
        "colab": {
          "base_uri": "https://localhost:8080/"
        },
        "outputId": "24e0bd8c-72ec-4750-ff07-d61c032100ba"
      },
      "outputs": [
        {
          "output_type": "execute_result",
          "data": {
            "text/plain": [
              "Index(['song_duration_ms', 'acousticness', 'danceability', 'energy',\n",
              "       'instrumentalness', 'liveness', 'loudness', 'speechiness', 'tempo',\n",
              "       'audio_valence', 'popularity'],\n",
              "      dtype='object')"
            ]
          },
          "metadata": {},
          "execution_count": 63
        }
      ],
      "source": [
        "song_data.columns[song_data.isnull().any()]"
      ]
    },
    {
      "cell_type": "code",
      "execution_count": 64,
      "metadata": {
        "id": "JI1QZsFJJpDb"
      },
      "outputs": [],
      "source": [
        "#fill nan values\n",
        "song_data['song_duration_ms'] = song_data['song_duration_ms'].fillna(np.mean(song_data['song_duration_ms']))\n",
        "song_data['acousticness'] = song_data['acousticness'].fillna(np.mean(song_data['acousticness']))\n",
        "song_data['danceability'] = song_data['danceability'].fillna(np.mean(song_data['danceability']))\n",
        "song_data['energy'] = song_data['energy'].fillna(np.mean(song_data['energy']))\n",
        "song_data['instrumentalness'] = song_data['instrumentalness'].fillna(np.mean(song_data['instrumentalness']))\n",
        "song_data['liveness'] = song_data['liveness'].fillna(np.mean(song_data['liveness']))\n",
        "song_data['loudness'] = song_data['loudness'].fillna(np.mean(song_data['loudness']))\n",
        "song_data['speechiness'] = song_data['speechiness'].fillna(np.mean(song_data['speechiness']))\n",
        "song_data['tempo'] = song_data['tempo'].fillna(np.mean(song_data['tempo']))\n",
        "song_data['audio_valence'] = song_data['audio_valence'].fillna(np.mean(song_data['audio_valence']))\n",
        "song_data['popularity'] = song_data['popularity'].fillna(np.mean(song_data['popularity']))"
      ]
    },
    {
      "cell_type": "code",
      "execution_count": 65,
      "metadata": {
        "id": "Y64dSFEJJrgn",
        "colab": {
          "base_uri": "https://localhost:8080/"
        },
        "outputId": "710ebe6d-88d9-4b6a-c3bf-15ce70335f69"
      },
      "outputs": [
        {
          "output_type": "execute_result",
          "data": {
            "text/plain": [
              "Index([], dtype='object')"
            ]
          },
          "metadata": {},
          "execution_count": 65
        }
      ],
      "source": [
        "song_data.columns[song_data.isnull().any()]"
      ]
    },
    {
      "cell_type": "code",
      "execution_count": 66,
      "metadata": {
        "id": "P1Uz4PZFJtZi"
      },
      "outputs": [],
      "source": [
        "def change_type(var):\n",
        "    song_data[var] = song_data[var].astype(int)"
      ]
    },
    {
      "cell_type": "code",
      "execution_count": 67,
      "metadata": {
        "id": "xw8IcBsEJu9f"
      },
      "outputs": [],
      "source": [
        "column= [\"sentiment\",\"key_0.0\",\"key_1.0\",\"key_2.0\",\"key_3.0\",\"key_4.0\",\"key_5.0\",\"key_6.0\",\"key_7.0\",\"key_8.0\",\"key_9.0\",\"key_10.0\",\"key_11.0\",\"audio_mode_0.0\",\"audio_mode_1.0\",\"time_signature_0.0\",\"time_signature_1.0\",\"time_signature_3.0\",\"time_signature_4.0\",\"time_signature_5.0\"]\n",
        "for i in column:\n",
        "    change_type(i)"
      ]
    },
    {
      "cell_type": "code",
      "execution_count": 68,
      "metadata": {
        "id": "gmMO1aU5JwnT",
        "colab": {
          "base_uri": "https://localhost:8080/"
        },
        "outputId": "81bad552-bacd-494f-efcf-dc27d35e963b"
      },
      "outputs": [
        {
          "output_type": "stream",
          "name": "stdout",
          "text": [
            "x_train:  (30, 15068)\n",
            "x_test:  (30, 3767)\n",
            "y_train:  (15068,)\n",
            "y_test:  (3767,)\n"
          ]
        }
      ],
      "source": [
        "#data preparation\n",
        "y = song_data[\"popularity\"].values\n",
        "x_data=song_data.drop([\"popularity\"],axis=1)\n",
        "#normalization\n",
        "x = (x_data - np.min(x_data))/(np.max(x_data)-np.min(x_data)).values#train test split\n",
        "from sklearn.model_selection import train_test_split\n",
        "x_train, x_test, y_train, y_test = train_test_split(x,y,test_size = 0.2,random_state=42)\n",
        "x_train = x_train.T\n",
        "x_test = x_test.T\n",
        "y_train = y_train.astype(int).T\n",
        "y_test = y_test.astype(int).T\n",
        "print(\"x_train: \",x_train.shape)\n",
        "print(\"x_test: \",x_test.shape)\n",
        "print(\"y_train: \",y_train.shape)\n",
        "print(\"y_test: \",y_test.shape)"
      ]
    },
    {
      "cell_type": "markdown",
      "metadata": {
        "id": "HAzYtuu4J3qb"
      },
      "source": [
        "## Logistic Regression"
      ]
    },
    {
      "cell_type": "code",
      "execution_count": 69,
      "metadata": {
        "id": "i-3GFRWdJy_-"
      },
      "outputs": [],
      "source": [
        "# parameter initialize and sigmoid function\n",
        "def initialize_weights_and_bias(dimension):\n",
        "    w=np.full((dimension,1),0.01)\n",
        "    b=0.0\n",
        "    return w,b\n",
        "\n",
        "def sigmoid(z):\n",
        "    y_head = 1/(1+ np.exp(-z))\n",
        "    return y_head"
      ]
    },
    {
      "cell_type": "code",
      "execution_count": 70,
      "metadata": {
        "id": "oFyRjJF2J7MG"
      },
      "outputs": [],
      "source": [
        "def forward_backward_propagation(w,b,x_train,y_train):\n",
        "    # forward propagation\n",
        "    z = np.dot(w.T,x_train) + b\n",
        "    y_head = sigmoid(z)\n",
        "    loss = -y_train*np.log(y_head)-(1-y_train)*np.log(1-y_head)\n",
        "    cost = (np.sum(loss))/x_train.shape[1]      \n",
        "    # backward propagation\n",
        "    derivative_weight = (np.dot(x_train,((y_head-y_train).T)))/x_train.shape[1] \n",
        "    derivative_bias = np.sum(y_head-y_train)/x_train.shape[1]                 \n",
        "    gradients = {\"derivative_weight\": derivative_weight,\"derivative_bias\": derivative_bias}\n",
        "    return cost,gradients"
      ]
    },
    {
      "cell_type": "code",
      "execution_count": 71,
      "metadata": {
        "id": "263TRWwsJ9G5"
      },
      "outputs": [],
      "source": [
        "# Updating(learning) parameters\n",
        "def update(w, b, x_train, y_train, learning_rate,number_of_iterarion):\n",
        "    cost_list = []\n",
        "    cost_list2 = []\n",
        "    index = []\n",
        "\n",
        "    for i in range(number_of_iterarion):\n",
        "        # make forward and backward propagation and find cost and gradients\n",
        "        cost,gradients = forward_backward_propagation(w,b,x_train,y_train)\n",
        "        cost_list.append(cost)\n",
        "        # update\n",
        "        w = w - learning_rate * gradients[\"derivative_weight\"]\n",
        "        b = b - learning_rate * gradients[\"derivative_bias\"]\n",
        "        if i % 10 == 0:\n",
        "            cost_list2.append(cost)\n",
        "            index.append(i)\n",
        "            print (\"Cost after iteration %i: %f\" %(i, cost))\n",
        "    \n",
        "    parameters = {\"weight\": w,\"bias\": b}\n",
        "    plt.plot(index,cost_list2)\n",
        "    plt.xticks(index,rotation='vertical')\n",
        "    plt.xlabel(\"Number of Iterarion\")\n",
        "    plt.ylabel(\"Cost\")\n",
        "    plt.show()\n",
        "    return parameters, gradients, cost_list"
      ]
    },
    {
      "cell_type": "code",
      "execution_count": 72,
      "metadata": {
        "id": "P8JbdG8hKCBC"
      },
      "outputs": [],
      "source": [
        "def predict(w,b,x_test):\n",
        "    z = sigmoid(np.dot(w.T,x_test)+b)\n",
        "    Y_prediction = np.zeros((1,x_test.shape[1]))\n",
        "\n",
        "    for i in range(z.shape[1]):\n",
        "        if z[0,i]<= 0.5:\n",
        "            Y_prediction[0,i] = 0\n",
        "        else:\n",
        "            Y_prediction[0,i] = 1\n",
        "\n",
        "    return Y_prediction"
      ]
    },
    {
      "cell_type": "code",
      "execution_count": 73,
      "metadata": {
        "id": "efSTJN5LKECD",
        "colab": {
          "base_uri": "https://localhost:8080/",
          "height": 670
        },
        "outputId": "0ecb1795-6ebd-493d-de20-d02a78182b83"
      },
      "outputs": [
        {
          "output_type": "stream",
          "name": "stdout",
          "text": [
            "Cost after iteration 0: 0.708576\n",
            "Cost after iteration 10: 0.687642\n",
            "Cost after iteration 20: 0.671039\n",
            "Cost after iteration 30: 0.657858\n",
            "Cost after iteration 40: 0.647377\n",
            "Cost after iteration 50: 0.639024\n",
            "Cost after iteration 60: 0.632350\n",
            "Cost after iteration 70: 0.627004\n",
            "Cost after iteration 80: 0.622708\n",
            "Cost after iteration 90: 0.619246\n",
            "Cost after iteration 100: 0.616447\n",
            "Cost after iteration 110: 0.614178\n",
            "Cost after iteration 120: 0.612332\n",
            "Cost after iteration 130: 0.610825\n",
            "Cost after iteration 140: 0.609590\n",
            "Cost after iteration 150: 0.608575\n",
            "Cost after iteration 160: 0.607737\n",
            "Cost after iteration 170: 0.607042\n",
            "Cost after iteration 180: 0.606463\n",
            "Cost after iteration 190: 0.605978\n"
          ]
        },
        {
          "output_type": "display_data",
          "data": {
            "text/plain": [
              "<Figure size 432x288 with 1 Axes>"
            ],
            "image/png": "[encoded data removed]"
          },
          "metadata": {
            "needs_background": "light"
          }
        },
        {
          "output_type": "stream",
          "name": "stdout",
          "text": [
            "train accuracy: 71.0711441465357 %\n",
            "test accuracy: 71.8608972657287 %\n"
          ]
        }
      ],
      "source": [
        "def logistic_regression(x_train, y_train, x_test, y_test, learning_rate ,  num_iterations):\n",
        "    # initialize\n",
        "    dimension =  x_train.shape[0]\n",
        "    w,b = initialize_weights_and_bias(dimension)\n",
        "    #update\n",
        "    parameters, gradients, cost_list = update(w, b, x_train, y_train, learning_rate,num_iterations)\n",
        "    y_prediction_test = predict(parameters[\"weight\"],parameters[\"bias\"],x_test)\n",
        "    y_prediction_train = predict(parameters[\"weight\"],parameters[\"bias\"],x_train)\n",
        "\n",
        "    print(\"train accuracy: {} %\".format(100 - np.mean(np.abs(y_prediction_train - y_train)) * 100))\n",
        "    print(\"test accuracy: {} %\".format(100 - np.mean(np.abs(y_prediction_test - y_test)) * 100))\n",
        "    \n",
        "logistic_regression(x_train, y_train, x_test, y_test,learning_rate =0.01, num_iterations = 200)"
      ]
    },
    {
      "cell_type": "markdown",
      "metadata": {
        "id": "0N8emUUcKKT1"
      },
      "source": [
        "## ROC Curve with Logistic Regression"
      ]
    },
    {
      "cell_type": "code",
      "execution_count": 74,
      "metadata": {
        "id": "qHpGMo5hKG2b"
      },
      "outputs": [],
      "source": [
        "x,y = song_data.loc[:,song_data.columns != 'popularity'], song_data.loc[:,'popularity']\n",
        "x_train, x_test, y_train, y_test = train_test_split(x, y, test_size = 0.2, random_state=42)\n",
        "y=y.astype(int)\n",
        "y_train= y_train.astype(int)\n",
        "y_test= y_test.astype(int)"
      ]
    },
    {
      "cell_type": "code",
      "execution_count": 75,
      "metadata": {
        "id": "7mbFSlxTKNXO",
        "colab": {
          "base_uri": "https://localhost:8080/",
          "height": 295
        },
        "outputId": "d05c8811-d068-440f-959d-54d4ee433a63"
      },
      "outputs": [
        {
          "output_type": "display_data",
          "data": {
            "text/plain": [
              "<Figure size 432x288 with 1 Axes>"
            ],
            "image/png": "[encoded data removed]"
          },
          "metadata": {
            "needs_background": "light"
          }
        }
      ],
      "source": [
        "# ROC Curve with logistic regression\n",
        "from sklearn.metrics import roc_curve\n",
        "from sklearn.linear_model import LogisticRegression\n",
        "from sklearn.metrics import confusion_matrix, classification_report\n",
        "logreg = LogisticRegression()\n",
        "logreg.fit(x_train,y_train)\n",
        "y_pred_prob = logreg.predict_proba(x_test)[:,1]\n",
        "fpr, tpr, thresholds = roc_curve(y_test, y_pred_prob)\n",
        "\n",
        "# Plot ROC curve\n",
        "plt.plot([0, 1], [0, 1], 'k--')\n",
        "plt.plot(fpr, tpr,color=\"red\")\n",
        "plt.xlabel('False Positive Rate')\n",
        "plt.ylabel('True Positive Rate')\n",
        "plt.title('ROC')\n",
        "plt.show()"
      ]
    },
    {
      "cell_type": "code",
      "execution_count": 76,
      "metadata": {
        "id": "F_K_Bh8aKQ9u",
        "colab": {
          "base_uri": "https://localhost:8080/"
        },
        "outputId": "5aa24651-454b-4c05-8087-5d1d706515c7"
      },
      "outputs": [
        {
          "output_type": "stream",
          "name": "stdout",
          "text": [
            "Cross_val Scores:  [0.71068348 0.71068348 0.71068348 0.71068348 0.71068348 0.71068348\n",
            " 0.71068348 0.71068348 0.71115538 0.71049137]\n",
            "Cross_val scores average:  0.710711456320262\n"
          ]
        }
      ],
      "source": [
        "from sklearn.model_selection import cross_val_score\n",
        "k = 10\n",
        "cv_result = cross_val_score(logreg,x_train,y_train,cv=k)\n",
        "cross_val_log=np.sum(cv_result)/k\n",
        "print('Cross_val Scores: ',cv_result)\n",
        "print('Cross_val scores average: ',np.sum(cv_result)/k)"
      ]
    },
    {
      "cell_type": "code",
      "execution_count": 77,
      "metadata": {
        "id": "UWLdpLQMKTlI",
        "colab": {
          "base_uri": "https://localhost:8080/"
        },
        "outputId": "1f06aa1f-0012-4962-c776-2d9af1b3fa7e"
      },
      "outputs": [
        {
          "output_type": "stream",
          "name": "stdout",
          "text": [
            "Tuned hyperparameters : {'C': 0.001, 'penalty': 'l2'}\n",
            "Best Accuracy: 0.710711438916891\n"
          ]
        }
      ],
      "source": [
        "#GridSearchCV with Logreg\n",
        "from sklearn.model_selection import GridSearchCV\n",
        "param_grid = {'C': np.logspace(-3, 3, 7), 'penalty': ['l1', 'l2']}\n",
        "logreg = LogisticRegression()\n",
        "logreg_cv = GridSearchCV(logreg,param_grid,cv=3)\n",
        "logreg_cv.fit(x_train,y_train)\n",
        "print(\"Tuned hyperparameters : {}\".format(logreg_cv.best_params_))\n",
        "print(\"Best Accuracy: {}\".format(logreg_cv.best_score_))\n",
        "##numpy.logspace(start, stop, num=50, endpoint=True, base=10.0, dtype=None, axis=0)"
      ]
    },
    {
      "cell_type": "code",
      "execution_count": 78,
      "metadata": {
        "id": "0k365gfzKV4q"
      },
      "outputs": [],
      "source": [
        "Logistic_score=logreg_cv.best_score_\n",
        "CrossVal_Logistic_score=cross_val_log"
      ]
    },
    {
      "cell_type": "markdown",
      "metadata": {
        "id": "2CrmpXCkKaQY"
      },
      "source": [
        "## Ridge and Lasso Regression"
      ]
    },
    {
      "cell_type": "code",
      "execution_count": 79,
      "metadata": {
        "id": "grxo4iCaKYEo"
      },
      "outputs": [],
      "source": [
        "from sklearn.metrics import mean_squared_error\n",
        "def root_mean_squared_error(y_true, y_pred):\n",
        "    return np.sqrt(mean_squared_error(y_true, y_pred))"
      ]
    },
    {
      "cell_type": "code",
      "execution_count": 80,
      "metadata": {
        "id": "dsRf63YuKeDT",
        "colab": {
          "base_uri": "https://localhost:8080/"
        },
        "outputId": "6f9a9425-42b7-4b56-a723-eb399ed1dab8"
      },
      "outputs": [
        {
          "output_type": "stream",
          "name": "stdout",
          "text": [
            "Test accuracy: 0.4362279864537237\n"
          ]
        }
      ],
      "source": [
        "# Ridge\n",
        "from sklearn.linear_model import Ridge\n",
        "ridge = Ridge(alpha = 0.1)\n",
        "ridge.fit(x_train,y_train)\n",
        "ridge_predict = ridge.predict(x_test)\n",
        "#print('Ridge score: ',ridge.score(x_test,y_test))\n",
        "print(\"Test accuracy:\",root_mean_squared_error(y_test,ridge_predict))"
      ]
    },
    {
      "cell_type": "code",
      "execution_count": 81,
      "metadata": {
        "id": "MjT6YZmKKgI4",
        "colab": {
          "base_uri": "https://localhost:8080/"
        },
        "outputId": "88b3a29a-38cf-49c0-d573-1bc3a6a9c1a4"
      },
      "outputs": [
        {
          "output_type": "stream",
          "name": "stdout",
          "text": [
            "Lasso coefficients:  [ 7.28240116e-08 -0.00000000e+00  0.00000000e+00 -0.00000000e+00\n",
            " -0.00000000e+00 -0.00000000e+00  9.39174849e-03  0.00000000e+00\n",
            " -2.44883491e-04 -0.00000000e+00  0.00000000e+00  0.00000000e+00\n",
            "  0.00000000e+00 -0.00000000e+00 -0.00000000e+00  0.00000000e+00\n",
            "  0.00000000e+00  0.00000000e+00 -0.00000000e+00  0.00000000e+00\n",
            " -0.00000000e+00 -0.00000000e+00  0.00000000e+00  0.00000000e+00\n",
            "  0.00000000e+00 -0.00000000e+00 -0.00000000e+00 -0.00000000e+00\n",
            "  0.00000000e+00  0.00000000e+00]\n",
            "Test accuracy: 0.44670700443313444\n"
          ]
        }
      ],
      "source": [
        "# Lasso\n",
        "from sklearn.linear_model import Lasso\n",
        "x = np.array(song_data.loc[:,['danceability','energy','audio_valence','tempo','song_duration_ms','acousticness','instrumentalness','liveness','loudness','speechiness']])\n",
        "lasso = Lasso(alpha = 0.1)\n",
        "lasso.fit(x_train,y_train)\n",
        "lasso_predict = lasso.predict(x_test)\n",
        "print('Lasso coefficients: ',lasso.coef_)\n",
        "print(\"Test accuracy:\",root_mean_squared_error(y_test,lasso_predict))"
      ]
    },
    {
      "cell_type": "code",
      "execution_count": 82,
      "metadata": {
        "id": "FG_t6QkSKu6Z"
      },
      "outputs": [],
      "source": [
        "Lasso_Score=root_mean_squared_error(y_test,lasso_predict)"
      ]
    },
    {
      "cell_type": "code",
      "execution_count": 83,
      "metadata": {
        "id": "Z7SU7sewLDJB"
      },
      "outputs": [],
      "source": [
        "x= ['song_duration_ms', 'acousticness', 'danceability',\n",
        "     'energy', 'instrumentalness', 'key', 'liveness',\n",
        "     'loudness', 'audio_mode', 'speechiness', 'tempo', \n",
        "     'time_signature', 'audio_valence']\n",
        "y= ['popularity']"
      ]
    },
    {
      "cell_type": "code",
      "execution_count": 84,
      "metadata": {
        "id": "NO3MzlKHLFJy"
      },
      "outputs": [],
      "source": [
        "from sklearn import linear_model\n",
        "from sklearn.pipeline import Pipeline\n",
        "from sklearn.preprocessing import PolynomialFeatures\n",
        "from sklearn.model_selection import GridSearchCV, train_test_split\n",
        "import sklearn.metrics as metrics\n",
        "\n",
        "def test(models, data, iterations = 100):\n",
        "    results = {}\n",
        "    for i in models:\n",
        "        r2_train = []\n",
        "        r2_test = []\n",
        "        for j in range(iterations):\n",
        "            r2_test.append(metrics.r2_score(y_test,\n",
        "                                            models[i].fit(x_train, \n",
        "                                                         y_train).predict(x_test)))\n",
        "            r2_train.append(metrics.r2_score(y_train, \n",
        "                                             models[i].fit(x_train, \n",
        "                                                          y_train).predict(x_train)))\n",
        "        results[i] = [np.mean(r2_train), np.mean(r2_test)]\n",
        "    return pd.DataFrame(results)"
      ]
    },
    {
      "cell_type": "code",
      "execution_count": 85,
      "metadata": {
        "id": "NG7EZJ6ZLIOL",
        "colab": {
          "base_uri": "https://localhost:8080/",
          "height": 112
        },
        "outputId": "99b34d83-b37f-4b58-f207-b285f6c14ca0"
      },
      "outputs": [
        {
          "output_type": "execute_result",
          "data": {
            "text/plain": [
              "        OLS     Lasso     Ridge\n",
              "0  0.067470  0.000090  0.067464\n",
              "1  0.058923 -0.000383  0.058942"
            ],
            "text/html": [
              "\n",
              "  <div id=\"df-0fb3b61c-e630-4adf-a28d-dbaabf9278f6\">\n",
              "    <div class=\"colab-df-container\">\n",
              "      <div>\n",
              "<style scoped>\n",
              "    .dataframe tbody tr th:only-of-type {\n",
              "        vertical-align: middle;\n",
              "    }\n",
              "\n",
              "    .dataframe tbody tr th {\n",
              "        vertical-align: top;\n",
              "    }\n",
              "\n",
              "    .dataframe thead th {\n",
              "        text-align: right;\n",
              "    }\n",
              "</style>\n",
              "<table border=\"1\" class=\"dataframe\">\n",
              "  <thead>\n",
              "    <tr style=\"text-align: right;\">\n",
              "      <th></th>\n",
              "      <th>OLS</th>\n",
              "      <th>Lasso</th>\n",
              "      <th>Ridge</th>\n",
              "    </tr>\n",
              "  </thead>\n",
              "  <tbody>\n",
              "    <tr>\n",
              "      <th>0</th>\n",
              "      <td>0.067470</td>\n",
              "      <td>0.000090</td>\n",
              "      <td>0.067464</td>\n",
              "    </tr>\n",
              "    <tr>\n",
              "      <th>1</th>\n",
              "      <td>0.058923</td>\n",
              "      <td>-0.000383</td>\n",
              "      <td>0.058942</td>\n",
              "    </tr>\n",
              "  </tbody>\n",
              "</table>\n",
              "</div>\n",
              "      <button class=\"colab-df-convert\" onclick=\"convertToInteractive('df-0fb3b61c-e630-4adf-a28d-dbaabf9278f6')\"\n",
              "              title=\"Convert this dataframe to an interactive table.\"\n",
              "              style=\"display:none;\">\n",
              "        \n",
              "  <svg xmlns=\"http://www.w3.org/2000/svg\" height=\"24px\"viewBox=\"0 0 24 24\"\n",
              "       width=\"24px\">\n",
              "    <path d=\"M0 0h24v24H0V0z\" fill=\"none\"/>\n",
              "    <path d=\"M18.56 5.44l.94 2.06.94-2.06 2.06-.94-2.06-.94-.94-2.06-.94 2.06-2.06.94zm-11 1L8.5 8.5l.94-2.06 2.06-.94-2.06-.94L8.5 2.5l-.94 2.06-2.06.94zm10 10l.94 2.06.94-2.06 2.06-.94-2.06-.94-.94-2.06-.94 2.06-2.06.94z\"/><path d=\"M17.41 7.96l-1.37-1.37c-.4-.4-.92-.59-1.43-.59-.52 0-1.04.2-1.43.59L10.3 9.45l-7.72 7.72c-.78.78-.78 2.05 0 2.83L4 21.41c.39.39.9.59 1.41.59.51 0 1.02-.2 1.41-.59l7.78-7.78 2.81-2.81c.8-.78.8-2.07 0-2.86zM5.41 20L4 18.59l7.72-7.72 1.47 1.35L5.41 20z\"/>\n",
              "  </svg>\n",
              "      </button>\n",
              "      \n",
              "  <style>\n",
              "    .colab-df-container {\n",
              "      display:flex;\n",
              "      flex-wrap:wrap;\n",
              "      gap: 12px;\n",
              "    }\n",
              "\n",
              "    .colab-df-convert {\n",
              "      background-color: #E8F0FE;\n",
              "      border: none;\n",
              "      border-radius: 50%;\n",
              "      cursor: pointer;\n",
              "      display: none;\n",
              "      fill: #1967D2;\n",
              "      height: 32px;\n",
              "      padding: 0 0 0 0;\n",
              "      width: 32px;\n",
              "    }\n",
              "\n",
              "    .colab-df-convert:hover {\n",
              "      background-color: #E2EBFA;\n",
              "      box-shadow: 0px 1px 2px rgba(60, 64, 67, 0.3), 0px 1px 3px 1px rgba(60, 64, 67, 0.15);\n",
              "      fill: #174EA6;\n",
              "    }\n",
              "\n",
              "    [theme=dark] .colab-df-convert {\n",
              "      background-color: #3B4455;\n",
              "      fill: #D2E3FC;\n",
              "    }\n",
              "\n",
              "    [theme=dark] .colab-df-convert:hover {\n",
              "      background-color: #434B5C;\n",
              "      box-shadow: 0px 1px 3px 1px rgba(0, 0, 0, 0.15);\n",
              "      filter: drop-shadow(0px 1px 2px rgba(0, 0, 0, 0.3));\n",
              "      fill: #FFFFFF;\n",
              "    }\n",
              "  </style>\n",
              "\n",
              "      <script>\n",
              "        const buttonEl =\n",
              "          document.querySelector('#df-0fb3b61c-e630-4adf-a28d-dbaabf9278f6 button.colab-df-convert');\n",
              "        buttonEl.style.display =\n",
              "          google.colab.kernel.accessAllowed ? 'block' : 'none';\n",
              "\n",
              "        async function convertToInteractive(key) {\n",
              "          const element = document.querySelector('#df-0fb3b61c-e630-4adf-a28d-dbaabf9278f6');\n",
              "          const dataTable =\n",
              "            await google.colab.kernel.invokeFunction('convertToInteractive',\n",
              "                                                     [key], {});\n",
              "          if (!dataTable) return;\n",
              "\n",
              "          const docLinkHtml = 'Like what you see? Visit the ' +\n",
              "            '<a target=\"_blank\" href=https://colab.research.google.com/notebooks/data_table.ipynb>data table notebook</a>'\n",
              "            + ' to learn more about interactive tables.';\n",
              "          element.innerHTML = '';\n",
              "          dataTable['output_type'] = 'display_data';\n",
              "          await google.colab.output.renderOutput(dataTable, element);\n",
              "          const docLink = document.createElement('div');\n",
              "          docLink.innerHTML = docLinkHtml;\n",
              "          element.appendChild(docLink);\n",
              "        }\n",
              "      </script>\n",
              "    </div>\n",
              "  </div>\n",
              "  "
            ]
          },
          "metadata": {},
          "execution_count": 85
        }
      ],
      "source": [
        "models = {'OLS': linear_model.LinearRegression(),\n",
        "         'Lasso': linear_model.Lasso(),\n",
        "         'Ridge': linear_model.Ridge(),}\n",
        "test(models,song_data)"
      ]
    },
    {
      "cell_type": "code",
      "execution_count": 86,
      "metadata": {
        "id": "iG-0Cp9YLKI4",
        "colab": {
          "base_uri": "https://localhost:8080/",
          "height": 112
        },
        "outputId": "559c2a8b-2f1e-49dd-9bd7-e4f2e31642c9"
      },
      "outputs": [
        {
          "output_type": "execute_result",
          "data": {
            "text/plain": [
              "        OLS     Lasso     Ridge\n",
              "0  0.067470  0.000090  0.067464\n",
              "1  0.058923 -0.000383  0.058942"
            ],
            "text/html": [
              "\n",
              "  <div id=\"df-347072fa-0ead-4b11-952f-5a8b90b0fc1f\">\n",
              "    <div class=\"colab-df-container\">\n",
              "      <div>\n",
              "<style scoped>\n",
              "    .dataframe tbody tr th:only-of-type {\n",
              "        vertical-align: middle;\n",
              "    }\n",
              "\n",
              "    .dataframe tbody tr th {\n",
              "        vertical-align: top;\n",
              "    }\n",
              "\n",
              "    .dataframe thead th {\n",
              "        text-align: right;\n",
              "    }\n",
              "</style>\n",
              "<table border=\"1\" class=\"dataframe\">\n",
              "  <thead>\n",
              "    <tr style=\"text-align: right;\">\n",
              "      <th></th>\n",
              "      <th>OLS</th>\n",
              "      <th>Lasso</th>\n",
              "      <th>Ridge</th>\n",
              "    </tr>\n",
              "  </thead>\n",
              "  <tbody>\n",
              "    <tr>\n",
              "      <th>0</th>\n",
              "      <td>0.067470</td>\n",
              "      <td>0.000090</td>\n",
              "      <td>0.067464</td>\n",
              "    </tr>\n",
              "    <tr>\n",
              "      <th>1</th>\n",
              "      <td>0.058923</td>\n",
              "      <td>-0.000383</td>\n",
              "      <td>0.058942</td>\n",
              "    </tr>\n",
              "  </tbody>\n",
              "</table>\n",
              "</div>\n",
              "      <button class=\"colab-df-convert\" onclick=\"convertToInteractive('df-347072fa-0ead-4b11-952f-5a8b90b0fc1f')\"\n",
              "              title=\"Convert this dataframe to an interactive table.\"\n",
              "              style=\"display:none;\">\n",
              "        \n",
              "  <svg xmlns=\"http://www.w3.org/2000/svg\" height=\"24px\"viewBox=\"0 0 24 24\"\n",
              "       width=\"24px\">\n",
              "    <path d=\"M0 0h24v24H0V0z\" fill=\"none\"/>\n",
              "    <path d=\"M18.56 5.44l.94 2.06.94-2.06 2.06-.94-2.06-.94-.94-2.06-.94 2.06-2.06.94zm-11 1L8.5 8.5l.94-2.06 2.06-.94-2.06-.94L8.5 2.5l-.94 2.06-2.06.94zm10 10l.94 2.06.94-2.06 2.06-.94-2.06-.94-.94-2.06-.94 2.06-2.06.94z\"/><path d=\"M17.41 7.96l-1.37-1.37c-.4-.4-.92-.59-1.43-.59-.52 0-1.04.2-1.43.59L10.3 9.45l-7.72 7.72c-.78.78-.78 2.05 0 2.83L4 21.41c.39.39.9.59 1.41.59.51 0 1.02-.2 1.41-.59l7.78-7.78 2.81-2.81c.8-.78.8-2.07 0-2.86zM5.41 20L4 18.59l7.72-7.72 1.47 1.35L5.41 20z\"/>\n",
              "  </svg>\n",
              "      </button>\n",
              "      \n",
              "  <style>\n",
              "    .colab-df-container {\n",
              "      display:flex;\n",
              "      flex-wrap:wrap;\n",
              "      gap: 12px;\n",
              "    }\n",
              "\n",
              "    .colab-df-convert {\n",
              "      background-color: #E8F0FE;\n",
              "      border: none;\n",
              "      border-radius: 50%;\n",
              "      cursor: pointer;\n",
              "      display: none;\n",
              "      fill: #1967D2;\n",
              "      height: 32px;\n",
              "      padding: 0 0 0 0;\n",
              "      width: 32px;\n",
              "    }\n",
              "\n",
              "    .colab-df-convert:hover {\n",
              "      background-color: #E2EBFA;\n",
              "      box-shadow: 0px 1px 2px rgba(60, 64, 67, 0.3), 0px 1px 3px 1px rgba(60, 64, 67, 0.15);\n",
              "      fill: #174EA6;\n",
              "    }\n",
              "\n",
              "    [theme=dark] .colab-df-convert {\n",
              "      background-color: #3B4455;\n",
              "      fill: #D2E3FC;\n",
              "    }\n",
              "\n",
              "    [theme=dark] .colab-df-convert:hover {\n",
              "      background-color: #434B5C;\n",
              "      box-shadow: 0px 1px 3px 1px rgba(0, 0, 0, 0.15);\n",
              "      filter: drop-shadow(0px 1px 2px rgba(0, 0, 0, 0.3));\n",
              "      fill: #FFFFFF;\n",
              "    }\n",
              "  </style>\n",
              "\n",
              "      <script>\n",
              "        const buttonEl =\n",
              "          document.querySelector('#df-347072fa-0ead-4b11-952f-5a8b90b0fc1f button.colab-df-convert');\n",
              "        buttonEl.style.display =\n",
              "          google.colab.kernel.accessAllowed ? 'block' : 'none';\n",
              "\n",
              "        async function convertToInteractive(key) {\n",
              "          const element = document.querySelector('#df-347072fa-0ead-4b11-952f-5a8b90b0fc1f');\n",
              "          const dataTable =\n",
              "            await google.colab.kernel.invokeFunction('convertToInteractive',\n",
              "                                                     [key], {});\n",
              "          if (!dataTable) return;\n",
              "\n",
              "          const docLinkHtml = 'Like what you see? Visit the ' +\n",
              "            '<a target=\"_blank\" href=https://colab.research.google.com/notebooks/data_table.ipynb>data table notebook</a>'\n",
              "            + ' to learn more about interactive tables.';\n",
              "          element.innerHTML = '';\n",
              "          dataTable['output_type'] = 'display_data';\n",
              "          await google.colab.output.renderOutput(dataTable, element);\n",
              "          const docLink = document.createElement('div');\n",
              "          docLink.innerHTML = docLinkHtml;\n",
              "          element.appendChild(docLink);\n",
              "        }\n",
              "      </script>\n",
              "    </div>\n",
              "  </div>\n",
              "  "
            ]
          },
          "metadata": {},
          "execution_count": 86
        }
      ],
      "source": [
        "test(models,song_data)"
      ]
    },
    {
      "cell_type": "markdown",
      "metadata": {
        "id": "wnHt0krOLViB"
      },
      "source": [
        "## KNN Algorithm"
      ]
    },
    {
      "cell_type": "code",
      "execution_count": 87,
      "metadata": {
        "id": "soe0hjdXLQTz",
        "colab": {
          "base_uri": "https://localhost:8080/"
        },
        "outputId": "9c82f0e6-7178-4e20-a519-fcfd84511ea3"
      },
      "outputs": [
        {
          "output_type": "stream",
          "name": "stdout",
          "text": [
            "Prediction: [1 0 0 ... 0 0 0]\n"
          ]
        }
      ],
      "source": [
        "# KNN prediction\n",
        "from sklearn.neighbors import KNeighborsClassifier\n",
        "knn = KNeighborsClassifier(n_neighbors = 3)\n",
        "x,y = song_data.loc[:,song_data.columns != 'popularity'], song_data.loc[:,'popularity']\n",
        "y=y.astype(int)\n",
        "knn.fit(x,y)\n",
        "prediction = knn.predict(x)\n",
        "print('Prediction: {}'.format(prediction))"
      ]
    },
    {
      "cell_type": "code",
      "execution_count": 88,
      "metadata": {
        "id": "vkC7_pBcLZhL",
        "colab": {
          "base_uri": "https://localhost:8080/"
        },
        "outputId": "88a4bf8c-633e-4637-a2f9-44d2e547b631"
      },
      "outputs": [
        {
          "output_type": "stream",
          "name": "stdout",
          "text": [
            "With KNN (K=3) train accuracy is:  0.9954871250331829\n",
            "With KNN (K=3) test accuracy is:  0.7905495088930183\n"
          ]
        }
      ],
      "source": [
        "#KNN Test\n",
        "knn = KNeighborsClassifier(n_neighbors = 1)\n",
        "knn.fit(x_train,y_train)\n",
        "prediction = knn.predict(x_test)\n",
        "print('With KNN (K=3) train accuracy is: ',knn.score(x_train,y_train))\n",
        "print('With KNN (K=3) test accuracy is: ',knn.score(x_test,y_test))"
      ]
    },
    {
      "cell_type": "code",
      "execution_count": 89,
      "metadata": {
        "id": "QAiloM51Lcle",
        "colab": {
          "base_uri": "https://localhost:8080/",
          "height": 421
        },
        "outputId": "eb091796-29f2-4b34-c9e4-4eb8c1f20498"
      },
      "outputs": [
        {
          "output_type": "display_data",
          "data": {
            "text/plain": [
              "<Figure size 720x432 with 1 Axes>"
            ],
            "image/png": "[encoded data removed]"
          },
          "metadata": {
            "needs_background": "light"
          }
        },
        {
          "output_type": "stream",
          "name": "stdout",
          "text": [
            "Best accuracy is 0.7905495088930183 with K = 1\n"
          ]
        }
      ],
      "source": [
        "neig = np.arange(1, 25)\n",
        "train_accuracy = []\n",
        "test_accuracy = []\n",
        "\n",
        "for i, k in enumerate(neig):\n",
        "    knn = KNeighborsClassifier(n_neighbors=k)\n",
        "    knn.fit(x_train,y_train)\n",
        "    train_accuracy.append(knn.score(x_train, y_train))\n",
        "    test_accuracy.append(knn.score(x_test, y_test))\n",
        "\n",
        "plt.figure(figsize=[10,6])\n",
        "plt.plot(neig, test_accuracy, label = 'Testing Accuracy')\n",
        "plt.plot(neig, train_accuracy, label = 'Training Accuracy')\n",
        "plt.legend()\n",
        "plt.title('Knn k value VS Accuracy')\n",
        "plt.xlabel('Number of Neighbors')\n",
        "plt.ylabel('Accuracy')\n",
        "plt.xticks(neig)\n",
        "plt.savefig('graph.png')\n",
        "plt.show()\n",
        "print(\"Best accuracy is {} with K = {}\".format(np.max(test_accuracy),1+test_accuracy.index(np.max(test_accuracy))))"
      ]
    },
    {
      "cell_type": "code",
      "execution_count": 90,
      "metadata": {
        "id": "4hyD8N2lLhGY",
        "colab": {
          "base_uri": "https://localhost:8080/"
        },
        "outputId": "e9565f2e-9554-499c-85d1-4e3cdc813366"
      },
      "outputs": [
        {
          "output_type": "stream",
          "name": "stdout",
          "text": [
            "Cross_val Scores:  [0.72594559 0.71267419 0.71001991 0.7146649  0.70670206 0.7146649\n",
            " 0.71930989 0.71333776 0.71181939 0.71779548]\n",
            "Cross_val scores average:  0.7146934051011173\n"
          ]
        }
      ],
      "source": [
        "from sklearn.model_selection import cross_val_score\n",
        "k = 10\n",
        "cv_result = cross_val_score(knn,x_train,y_train,cv=k)  \n",
        "cv_result_knn=np.sum(cv_result)/k\n",
        "print('Cross_val Scores: ',cv_result)\n",
        "print('Cross_val scores average: ',np.sum(cv_result)/k)"
      ]
    },
    {
      "cell_type": "code",
      "execution_count": 91,
      "metadata": {
        "id": "sbjHpnN8MHNR",
        "colab": {
          "base_uri": "https://localhost:8080/"
        },
        "outputId": "a8741b50-bc25-47d9-9ee6-c855dcb45bf7"
      },
      "outputs": [
        {
          "output_type": "stream",
          "name": "stdout",
          "text": [
            "Tuned hyperparameter k: {'n_neighbors': 2}\n",
            "Best accuracy: 0.7602875191763926\n"
          ]
        }
      ],
      "source": [
        "from sklearn.model_selection import GridSearchCV\n",
        "grid = {'n_neighbors': np.arange(1,50)}\n",
        "knn = KNeighborsClassifier()\n",
        "knn_cv = GridSearchCV(knn, grid, cv=3) \n",
        "knn_cv.fit(x,y)\n",
        "print(\"Tuned hyperparameter k: {}\".format(knn_cv.best_params_)) \n",
        "print(\"Best accuracy: {}\".format(knn_cv.best_score_))"
      ]
    },
    {
      "cell_type": "code",
      "execution_count": 92,
      "metadata": {
        "id": "a_3v-r06MJfk"
      },
      "outputs": [],
      "source": [
        "KKN_Score= max(test_accuracy)\n",
        "CrossVal_KKN_Score=cv_result_knn"
      ]
    },
    {
      "cell_type": "markdown",
      "metadata": {
        "id": "6C3wNMQJTUVk"
      },
      "source": [
        "## SVM"
      ]
    },
    {
      "cell_type": "code",
      "execution_count": 93,
      "metadata": {
        "id": "PQpa59tdTTMI",
        "colab": {
          "base_uri": "https://localhost:8080/"
        },
        "outputId": "6655fadd-785b-416b-f39a-311c5e0f25be"
      },
      "outputs": [
        {
          "output_type": "stream",
          "name": "stdout",
          "text": [
            "Train accuracy of svm algo: 0.710711441465357\n",
            "Test accuracy of svm algo: 0.718608972657287\n"
          ]
        }
      ],
      "source": [
        "from sklearn.svm import SVC\n",
        "svm= SVC(random_state=1)  #kernel='rbf'\n",
        "svm.fit(x_train,y_train)\n",
        "print(\"Train accuracy of svm algo:\",svm.score(x_train,y_train))\n",
        "print(\"Test accuracy of svm algo:\",svm.score(x_test,y_test))"
      ]
    },
    {
      "cell_type": "code",
      "execution_count": 94,
      "metadata": {
        "id": "LCv7kNe-TXlc",
        "colab": {
          "base_uri": "https://localhost:8080/"
        },
        "outputId": "1e9d08da-4c7d-4847-aa24-c620414092ae"
      },
      "outputs": [
        {
          "output_type": "stream",
          "name": "stdout",
          "text": [
            "Cross_val Scores:  [0.71068348 0.71068348 0.71068348 0.71068348 0.71068348 0.71068348\n",
            " 0.71068348 0.71068348 0.71115538 0.71049137]\n",
            "Cross_val scores average:  0.710711456320262\n"
          ]
        }
      ],
      "source": [
        "from sklearn.model_selection import cross_val_score\n",
        "k = 10\n",
        "cv_result = cross_val_score(svm,x_train,y_train,cv=k) \n",
        "cv_result_svm= np.sum(cv_result)/k\n",
        "print('Cross_val Scores: ',cv_result)\n",
        "print('Cross_val scores average: ',np.sum(cv_result)/k)"
      ]
    },
    {
      "cell_type": "code",
      "execution_count": 95,
      "metadata": {
        "id": "shORaqFqTjm1"
      },
      "outputs": [],
      "source": [
        "SVM_score= svm.score(x_test,y_test)\n",
        "CrossVal_SVM_score=cv_result_svm"
      ]
    },
    {
      "cell_type": "markdown",
      "metadata": {
        "id": "fujJi7JfTtzt"
      },
      "source": [
        "# Naive Bayes"
      ]
    },
    {
      "cell_type": "code",
      "execution_count": 97,
      "metadata": {
        "colab": {
          "base_uri": "https://localhost:8080/"
        },
        "id": "-cOu_fXCTxmz",
        "outputId": "1f6623e2-845b-4ec5-9c3b-e15153277285"
      },
      "outputs": [
        {
          "output_type": "stream",
          "name": "stdout",
          "text": [
            "Train accuracy of naive bayes: 0.710711441465357\n",
            "Test accuracy of naive bayes: 0.718608972657287\n"
          ]
        }
      ],
      "source": [
        "from sklearn.naive_bayes import GaussianNB\n",
        "nb= GaussianNB()\n",
        "nb.fit(x_train,y_train)\n",
        "print(\"Train accuracy of naive bayes:\",nb.score(x_train,y_train))\n",
        "print(\"Test accuracy of naive bayes:\",nb.score(x_test,y_test))"
      ]
    },
    {
      "cell_type": "code",
      "execution_count": 98,
      "metadata": {
        "id": "nE8ue5zjTyqa"
      },
      "outputs": [],
      "source": [
        "Naive_bayes_score=nb.score(x_test,y_test)"
      ]
    },
    {
      "cell_type": "markdown",
      "metadata": {
        "id": "RNEJk04DT3bw"
      },
      "source": [
        "# Decision Tree Classifier"
      ]
    },
    {
      "cell_type": "code",
      "execution_count": 99,
      "metadata": {
        "colab": {
          "base_uri": "https://localhost:8080/"
        },
        "id": "5OQEfERDT51v",
        "outputId": "8e013380-a351-45fa-a431-2703f7549b46"
      },
      "outputs": [
        {
          "output_type": "stream",
          "name": "stdout",
          "text": [
            "Train ccuracy of decision tree: 0.9960844173082029\n",
            "Test accuracy of decision tree: 0.8173612954605787\n"
          ]
        }
      ],
      "source": [
        "from sklearn.metrics import accuracy_score,recall_score,precision_score,confusion_matrix,f1_score\n",
        "from sklearn.tree import DecisionTreeClassifier\n",
        "\n",
        "dt= DecisionTreeClassifier()\n",
        "dt.fit(x_train,y_train)\n",
        "y_pred=dt.predict(x_test)\n",
        "DecisionTree_score=dt.score(x_test,y_test)\n",
        "print(\"Train ccuracy of decision tree:\",dt.score(x_train,y_train))\n",
        "print(\"Test accuracy of decision tree:\",dt.score(x_test,y_test))"
      ]
    },
    {
      "cell_type": "code",
      "execution_count": 100,
      "metadata": {
        "colab": {
          "base_uri": "https://localhost:8080/"
        },
        "id": "YRTn4FVgT83m",
        "outputId": "047622b2-5e42-4c52-82a5-1b506d2d505e"
      },
      "outputs": [
        {
          "output_type": "stream",
          "name": "stdout",
          "text": [
            "Cross_val Scores:  [0.78832117 0.79628401 0.79296616 0.78433975 0.78898474 0.77571334\n",
            " 0.79296616 0.79230259 0.79548473 0.8001328 ]\n",
            "Cross_val scores average:  0.7907495432999256\n"
          ]
        }
      ],
      "source": [
        "from sklearn.model_selection import cross_val_score\n",
        "k =10\n",
        "cv_result = cross_val_score(dt,x_train,y_train,cv=k) # uses R^2 as score \n",
        "print('Cross_val Scores: ',cv_result)\n",
        "print('Cross_val scores average: ',np.sum(cv_result)/k)"
      ]
    },
    {
      "cell_type": "markdown",
      "metadata": {
        "id": "PJkNN9IRT_a8"
      },
      "source": [
        "# Random Forest Classifier"
      ]
    },
    {
      "cell_type": "code",
      "execution_count": 101,
      "metadata": {
        "colab": {
          "base_uri": "https://localhost:8080/"
        },
        "id": "yWbeyr29UCTg",
        "outputId": "796facb1-26f6-43bc-8c0d-907ddd011146"
      },
      "outputs": [
        {
          "output_type": "stream",
          "name": "stdout",
          "text": [
            "Train ccuracy of random forest 0.9960844173082029\n",
            "Test accuracy of random forest 0.8975311919299177\n"
          ]
        }
      ],
      "source": [
        "from sklearn.ensemble import RandomForestClassifier\n",
        "rf=RandomForestClassifier(n_estimators=150,random_state = 3)\n",
        "rf.fit(x_train,y_train)\n",
        "print(\"Train ccuracy of random forest\",rf.score(x_train,y_train))\n",
        "print(\"Test accuracy of random forest\",rf.score(x_test,y_test))\n",
        "RandomForestClassifier_score=rf.score(x_test,y_test)\n",
        "y_pred=rf.predict(x_test)\n",
        "t_true=y_test"
      ]
    },
    {
      "cell_type": "code",
      "execution_count": 102,
      "metadata": {
        "colab": {
          "base_uri": "https://localhost:8080/"
        },
        "id": "ioBfARlJUEeM",
        "outputId": "ae332e3f-a810-4b2f-bfc6-feaea539ba02"
      },
      "outputs": [
        {
          "output_type": "stream",
          "name": "stdout",
          "text": [
            "Cross_val Scores:  [0.88188454 0.87657598 0.8871931  0.86994028 0.88453882 0.8606503\n",
            " 0.87524884 0.88586596 0.88047809 0.87981408]\n",
            "Cross_val scores average:  0.8782189974893614\n"
          ]
        }
      ],
      "source": [
        "from sklearn.model_selection import cross_val_score\n",
        "k = 10\n",
        "cv_result = cross_val_score(rf,x_train,y_train,cv=k) # uses R^2 as score \n",
        "cv_result_randomforest=np.sum(cv_result)/k\n",
        "print('Cross_val Scores: ',cv_result)\n",
        "print('Cross_val scores average: ',np.sum(cv_result)/k)"
      ]
    },
    {
      "cell_type": "code",
      "execution_count": 103,
      "metadata": {
        "id": "PG-UkbNIUGt6"
      },
      "outputs": [],
      "source": [
        "CrossVal_RandomForestClassifier_score=cv_result_randomforest"
      ]
    },
    {
      "cell_type": "markdown",
      "metadata": {
        "id": "vbPK7v3mUJIL"
      },
      "source": [
        "# Confusion Matrix with Random Forest"
      ]
    },
    {
      "cell_type": "code",
      "execution_count": 104,
      "metadata": {
        "colab": {
          "base_uri": "https://localhost:8080/"
        },
        "id": "32CnfwNsUMvf",
        "outputId": "6b707b70-80d5-41f7-dc86-c85e63e310a0"
      },
      "outputs": [
        {
          "output_type": "stream",
          "name": "stdout",
          "text": [
            "Confusion matrix: \n",
            " [[2657   50]\n",
            " [ 339  721]]\n",
            "Classification report: \n",
            "               precision    recall  f1-score   support\n",
            "\n",
            "           0       0.89      0.98      0.93      2707\n",
            "           1       0.94      0.68      0.79      1060\n",
            "\n",
            "    accuracy                           0.90      3767\n",
            "   macro avg       0.91      0.83      0.86      3767\n",
            "weighted avg       0.90      0.90      0.89      3767\n",
            "\n"
          ]
        }
      ],
      "source": [
        "from sklearn.metrics import classification_report, confusion_matrix\n",
        "from sklearn.ensemble import RandomForestClassifier\n",
        "\n",
        "rf = RandomForestClassifier(random_state = 4)\n",
        "rf.fit(x_train,y_train)\n",
        "y_pred = rf.predict(x_test)\n",
        "cm = confusion_matrix(y_test,y_pred)\n",
        "print('Confusion matrix: \\n',cm)\n",
        "print('Classification report: \\n',classification_report(y_test,y_pred))"
      ]
    },
    {
      "cell_type": "code",
      "execution_count": 105,
      "metadata": {
        "colab": {
          "base_uri": "https://localhost:8080/",
          "height": 265
        },
        "id": "5E06-wyDUPYK",
        "outputId": "c57d24ed-6496-4d41-e7f5-1aa8611030af"
      },
      "outputs": [
        {
          "output_type": "display_data",
          "data": {
            "text/plain": [
              "<Figure size 432x288 with 2 Axes>"
            ],
            "image/png": "[encoded data removed]"
          },
          "metadata": {
            "needs_background": "light"
          }
        }
      ],
      "source": [
        "sns.heatmap(cm,annot=True,fmt=\"d\") \n",
        "plt.show()"
      ]
    },
    {
      "cell_type": "code",
      "execution_count": 106,
      "metadata": {
        "colab": {
          "base_uri": "https://localhost:8080/"
        },
        "id": "JnwA_ac4USW3",
        "outputId": "bddaddd3-c59c-44ae-f6fa-300886d196d1"
      },
      "outputs": [
        {
          "output_type": "stream",
          "name": "stdout",
          "text": [
            "The train accuracy for Random Forest and Logistic Regression is: 0.9945580037164853\n",
            "The test accuracy for Random Forest and Logistic Regression is: 0.8962038757632068\n"
          ]
        }
      ],
      "source": [
        "#Voting Classifier\n",
        "from sklearn.ensemble import VotingClassifier\n",
        "ensemble=VotingClassifier(estimators=[('Random Forest', rf), ('Logistic Regression', logreg)], \n",
        "                       voting='soft', weights=[2,1]).fit(x_train,y_train)\n",
        "print('The train accuracy for Random Forest and Logistic Regression is:',ensemble.score(x_train,y_train))\n",
        "print('The test accuracy for Random Forest and Logistic Regression is:',ensemble.score(x_test,y_test))"
      ]
    },
    {
      "cell_type": "code",
      "execution_count": 107,
      "metadata": {
        "colab": {
          "base_uri": "https://localhost:8080/"
        },
        "id": "9VwB3lkcUUS5",
        "outputId": "c0f85fa7-5ef5-4799-de8d-60adb4b265a8"
      },
      "outputs": [
        {
          "output_type": "stream",
          "name": "stdout",
          "text": [
            "Cross_val Scores:  [0.87193099 0.87259456 0.86595886 0.87553933 0.87952207]\n",
            "Cross_val scores average:  0.873109161340451\n"
          ]
        }
      ],
      "source": [
        "from sklearn.model_selection import cross_val_score\n",
        "k = 5\n",
        "cv_result = cross_val_score(ensemble,x_train,y_train,cv=k) # uses R^2 as score \n",
        "print('Cross_val Scores: ',cv_result)\n",
        "print('Cross_val scores average: ',np.sum(cv_result)/k)"
      ]
    },
    {
      "cell_type": "markdown",
      "metadata": {
        "id": "2Db1bea1UZau"
      },
      "source": [
        "# FEATURE IMPORTANCE"
      ]
    },
    {
      "cell_type": "code",
      "execution_count": 108,
      "metadata": {
        "colab": {
          "base_uri": "https://localhost:8080/"
        },
        "id": "ul16Y6o7UcIe",
        "outputId": "a6f7e7bb-0479-4ba0-e419-7e29fda25e47"
      },
      "outputs": [
        {
          "output_type": "stream",
          "name": "stdout",
          "text": [
            "[0.03084784 0.03440775 0.03660862 0.0357445  0.07002617 0.03365998\n",
            " 0.03947832 0.03292364 0.0322207  0.03804725 0.00797322 0.0339162\n",
            " 0.05621367 0.02346043 0.04681247 0.0297273  0.02952081 0.03617721\n",
            " 0.03618861 0.04270945 0.02778091 0.03299024 0.03556062 0.02488744\n",
            " 0.05150216 0.         0.04568272 0.02480155 0.024476   0.00565428]\n"
          ]
        }
      ],
      "source": [
        "# plot feature importance manually\n",
        "from numpy import loadtxt\n",
        "from xgboost import XGBClassifier\n",
        "from matplotlib import pyplot\n",
        "\n",
        "# fit model no training data\n",
        "model = XGBClassifier()\n",
        "model.fit(x_train, y_train)\n",
        "# feature importance\n",
        "print(model.feature_importances_)\n",
        "# plot\n",
        "#pyplot.bar(range(len(model.feature_importances_)), model.feature_importances_)\n",
        "#pyplot.show()"
      ]
    },
    {
      "cell_type": "code",
      "execution_count": 109,
      "metadata": {
        "colab": {
          "base_uri": "https://localhost:8080/",
          "height": 458
        },
        "id": "dWJjpK5tUe5y",
        "outputId": "e3424255-0109-4db8-e3af-92f9e487a91d"
      },
      "outputs": [
        {
          "output_type": "display_data",
          "data": {
            "text/plain": [
              "<Figure size 720x504 with 1 Axes>"
            ],
            "image/png": "[encoded data removed]"
          },
          "metadata": {
            "needs_background": "light"
          }
        }
      ],
      "source": [
        "from numpy import loadtxt\n",
        "from xgboost import XGBClassifier\n",
        "from xgboost import plot_importance\n",
        "from matplotlib import pyplot\n",
        "\n",
        "model = XGBClassifier()\n",
        "model.fit(x_train, y_train)\n",
        "\n",
        "# plot feature importance\n",
        "ax = plot_importance(model)\n",
        "fig = ax.figure\n",
        "fig.set_size_inches(10, 7)\n",
        "#plot_importance(model)\n",
        "pyplot.show()"
      ]
    },
    {
      "cell_type": "code",
      "execution_count": 110,
      "metadata": {
        "colab": {
          "base_uri": "https://localhost:8080/"
        },
        "id": "AedCJa1hUjJH",
        "outputId": "f33e80e5-ba62-4582-a47a-3be29dea8d66"
      },
      "outputs": [
        {
          "output_type": "stream",
          "name": "stdout",
          "text": [
            "Accuracy: 83.28%\n",
            "Thresh=0.000, n=30, Accuracy: 83.28%\n",
            "Thresh=0.006, n=29, Accuracy: 83.28%\n",
            "Thresh=0.008, n=28, Accuracy: 82.82%\n",
            "Thresh=0.023, n=27, Accuracy: 82.82%\n",
            "Thresh=0.024, n=26, Accuracy: 83.67%\n",
            "Thresh=0.025, n=25, Accuracy: 83.04%\n",
            "Thresh=0.025, n=24, Accuracy: 82.13%\n",
            "Thresh=0.028, n=23, Accuracy: 82.77%\n",
            "Thresh=0.030, n=22, Accuracy: 82.96%\n",
            "Thresh=0.030, n=21, Accuracy: 83.01%\n",
            "Thresh=0.031, n=20, Accuracy: 82.69%\n",
            "Thresh=0.032, n=19, Accuracy: 82.93%\n",
            "Thresh=0.033, n=18, Accuracy: 82.64%\n",
            "Thresh=0.033, n=17, Accuracy: 82.64%\n",
            "Thresh=0.034, n=16, Accuracy: 82.05%\n",
            "Thresh=0.034, n=15, Accuracy: 81.79%\n",
            "Thresh=0.034, n=14, Accuracy: 81.28%\n",
            "Thresh=0.036, n=13, Accuracy: 81.31%\n",
            "Thresh=0.036, n=12, Accuracy: 80.97%\n",
            "Thresh=0.036, n=11, Accuracy: 81.05%\n",
            "Thresh=0.036, n=10, Accuracy: 80.54%\n",
            "Thresh=0.037, n=9, Accuracy: 79.67%\n",
            "Thresh=0.038, n=8, Accuracy: 78.95%\n",
            "Thresh=0.039, n=7, Accuracy: 76.69%\n",
            "Thresh=0.043, n=6, Accuracy: 72.71%\n",
            "Thresh=0.046, n=5, Accuracy: 72.74%\n",
            "Thresh=0.047, n=4, Accuracy: 72.55%\n",
            "Thresh=0.052, n=3, Accuracy: 72.79%\n",
            "Thresh=0.056, n=2, Accuracy: 70.88%\n",
            "Thresh=0.070, n=1, Accuracy: 72.15%\n"
          ]
        }
      ],
      "source": [
        "from numpy import sort\n",
        "from sklearn.metrics import accuracy_score\n",
        "from sklearn.feature_selection import SelectFromModel\n",
        "\n",
        "model = XGBClassifier()\n",
        "model.fit(x_train, y_train)\n",
        "y_pred = model.predict(x_test)\n",
        "predictions = [round(value) for value in y_pred]\n",
        "accuracy = accuracy_score(y_test, predictions)\n",
        "print(\"Accuracy: %.2f%%\" % (accuracy * 100.0))\n",
        "\n",
        "thresholds = sort(model.feature_importances_) # Fit model using each importance as a threshold\n",
        "\n",
        "for thresh in thresholds:\n",
        "    # select features using threshold\n",
        "    selection = SelectFromModel(model, threshold=thresh, prefit=True) # if prefit=True, you should call transform directly.\n",
        "    select_X_train = selection.transform(x_train)\n",
        "    # train model \n",
        "    selection_model = XGBClassifier()\n",
        "    selection_model.fit(select_X_train, y_train)\n",
        "    # evaluate model\n",
        "    select_X_test = selection.transform(x_test)\n",
        "    y_pred = selection_model.predict(select_X_test)\n",
        "    predictions = [round(value) for value in y_pred]\n",
        "    accuracy = accuracy_score(y_test, predictions)\n",
        "    print(\"Thresh=%.3f, n=%d, Accuracy: %.2f%%\" % (thresh, select_X_train.shape[1], accuracy*100.0))"
      ]
    },
    {
      "cell_type": "markdown",
      "metadata": {
        "id": "oZegkpLLUmZE"
      },
      "source": [
        "# Comparison Of Performance"
      ]
    },
    {
      "cell_type": "code",
      "execution_count": 113,
      "metadata": {
        "colab": {
          "base_uri": "https://localhost:8080/",
          "height": 269
        },
        "id": "Wz5rD0ZdUo30",
        "outputId": "169459a6-1af8-4fc9-ff25-295ed61ee1f8"
      },
      "outputs": [
        {
          "output_type": "execute_result",
          "data": {
            "text/plain": [
              "                    Model  Accuracy\n",
              "0  RandomForestClassifier  0.897531\n",
              "2  DesicionTreeClassifier  0.817361\n",
              "3      K-NearestNeighbors  0.790550\n",
              "1                     SVM  0.718609\n",
              "5              NaiveBayes  0.718609\n",
              "4       LogisticRegession  0.710711\n",
              "6                   Lasso  0.446707"
            ],
            "text/html": [
              "\n",
              "  <div id=\"df-9bc26dd0-c712-48e7-b164-9237db19ea0f\">\n",
              "    <div class=\"colab-df-container\">\n",
              "      <div>\n",
              "<style scoped>\n",
              "    .dataframe tbody tr th:only-of-type {\n",
              "        vertical-align: middle;\n",
              "    }\n",
              "\n",
              "    .dataframe tbody tr th {\n",
              "        vertical-align: top;\n",
              "    }\n",
              "\n",
              "    .dataframe thead th {\n",
              "        text-align: right;\n",
              "    }\n",
              "</style>\n",
              "<table border=\"1\" class=\"dataframe\">\n",
              "  <thead>\n",
              "    <tr style=\"text-align: right;\">\n",
              "      <th></th>\n",
              "      <th>Model</th>\n",
              "      <th>Accuracy</th>\n",
              "    </tr>\n",
              "  </thead>\n",
              "  <tbody>\n",
              "    <tr>\n",
              "      <th>0</th>\n",
              "      <td>RandomForestClassifier</td>\n",
              "      <td>0.897531</td>\n",
              "    </tr>\n",
              "    <tr>\n",
              "      <th>2</th>\n",
              "      <td>DesicionTreeClassifier</td>\n",
              "      <td>0.817361</td>\n",
              "    </tr>\n",
              "    <tr>\n",
              "      <th>3</th>\n",
              "      <td>K-NearestNeighbors</td>\n",
              "      <td>0.790550</td>\n",
              "    </tr>\n",
              "    <tr>\n",
              "      <th>1</th>\n",
              "      <td>SVM</td>\n",
              "      <td>0.718609</td>\n",
              "    </tr>\n",
              "    <tr>\n",
              "      <th>5</th>\n",
              "      <td>NaiveBayes</td>\n",
              "      <td>0.718609</td>\n",
              "    </tr>\n",
              "    <tr>\n",
              "      <th>4</th>\n",
              "      <td>LogisticRegession</td>\n",
              "      <td>0.710711</td>\n",
              "    </tr>\n",
              "    <tr>\n",
              "      <th>6</th>\n",
              "      <td>Lasso</td>\n",
              "      <td>0.446707</td>\n",
              "    </tr>\n",
              "  </tbody>\n",
              "</table>\n",
              "</div>\n",
              "      <button class=\"colab-df-convert\" onclick=\"convertToInteractive('df-9bc26dd0-c712-48e7-b164-9237db19ea0f')\"\n",
              "              title=\"Convert this dataframe to an interactive table.\"\n",
              "              style=\"display:none;\">\n",
              "        \n",
              "  <svg xmlns=\"http://www.w3.org/2000/svg\" height=\"24px\"viewBox=\"0 0 24 24\"\n",
              "       width=\"24px\">\n",
              "    <path d=\"M0 0h24v24H0V0z\" fill=\"none\"/>\n",
              "    <path d=\"M18.56 5.44l.94 2.06.94-2.06 2.06-.94-2.06-.94-.94-2.06-.94 2.06-2.06.94zm-11 1L8.5 8.5l.94-2.06 2.06-.94-2.06-.94L8.5 2.5l-.94 2.06-2.06.94zm10 10l.94 2.06.94-2.06 2.06-.94-2.06-.94-.94-2.06-.94 2.06-2.06.94z\"/><path d=\"M17.41 7.96l-1.37-1.37c-.4-.4-.92-.59-1.43-.59-.52 0-1.04.2-1.43.59L10.3 9.45l-7.72 7.72c-.78.78-.78 2.05 0 2.83L4 21.41c.39.39.9.59 1.41.59.51 0 1.02-.2 1.41-.59l7.78-7.78 2.81-2.81c.8-.78.8-2.07 0-2.86zM5.41 20L4 18.59l7.72-7.72 1.47 1.35L5.41 20z\"/>\n",
              "  </svg>\n",
              "      </button>\n",
              "      \n",
              "  <style>\n",
              "    .colab-df-container {\n",
              "      display:flex;\n",
              "      flex-wrap:wrap;\n",
              "      gap: 12px;\n",
              "    }\n",
              "\n",
              "    .colab-df-convert {\n",
              "      background-color: #E8F0FE;\n",
              "      border: none;\n",
              "      border-radius: 50%;\n",
              "      cursor: pointer;\n",
              "      display: none;\n",
              "      fill: #1967D2;\n",
              "      height: 32px;\n",
              "      padding: 0 0 0 0;\n",
              "      width: 32px;\n",
              "    }\n",
              "\n",
              "    .colab-df-convert:hover {\n",
              "      background-color: #E2EBFA;\n",
              "      box-shadow: 0px 1px 2px rgba(60, 64, 67, 0.3), 0px 1px 3px 1px rgba(60, 64, 67, 0.15);\n",
              "      fill: #174EA6;\n",
              "    }\n",
              "\n",
              "    [theme=dark] .colab-df-convert {\n",
              "      background-color: #3B4455;\n",
              "      fill: #D2E3FC;\n",
              "    }\n",
              "\n",
              "    [theme=dark] .colab-df-convert:hover {\n",
              "      background-color: #434B5C;\n",
              "      box-shadow: 0px 1px 3px 1px rgba(0, 0, 0, 0.15);\n",
              "      filter: drop-shadow(0px 1px 2px rgba(0, 0, 0, 0.3));\n",
              "      fill: #FFFFFF;\n",
              "    }\n",
              "  </style>\n",
              "\n",
              "      <script>\n",
              "        const buttonEl =\n",
              "          document.querySelector('#df-9bc26dd0-c712-48e7-b164-9237db19ea0f button.colab-df-convert');\n",
              "        buttonEl.style.display =\n",
              "          google.colab.kernel.accessAllowed ? 'block' : 'none';\n",
              "\n",
              "        async function convertToInteractive(key) {\n",
              "          const element = document.querySelector('#df-9bc26dd0-c712-48e7-b164-9237db19ea0f');\n",
              "          const dataTable =\n",
              "            await google.colab.kernel.invokeFunction('convertToInteractive',\n",
              "                                                     [key], {});\n",
              "          if (!dataTable) return;\n",
              "\n",
              "          const docLinkHtml = 'Like what you see? Visit the ' +\n",
              "            '<a target=\"_blank\" href=https://colab.research.google.com/notebooks/data_table.ipynb>data table notebook</a>'\n",
              "            + ' to learn more about interactive tables.';\n",
              "          element.innerHTML = '';\n",
              "          dataTable['output_type'] = 'display_data';\n",
              "          await google.colab.output.renderOutput(dataTable, element);\n",
              "          const docLink = document.createElement('div');\n",
              "          docLink.innerHTML = docLinkHtml;\n",
              "          element.appendChild(docLink);\n",
              "        }\n",
              "      </script>\n",
              "    </div>\n",
              "  </div>\n",
              "  "
            ]
          },
          "metadata": {},
          "execution_count": 113
        }
      ],
      "source": [
        "model_performances=pd.DataFrame({'Model':['RandomForestClassifier','SVM','DesicionTreeClassifier','K-NearestNeighbors','LogisticRegession','NaiveBayes','Lasso'],\n",
        "                                 'Accuracy':[RandomForestClassifier_score,SVM_score,DecisionTree_score,KKN_Score,Logistic_score,Naive_bayes_score,Lasso_Score]})\n",
        "model_performances.sort_values(by = \"Accuracy\",ascending=False)"
      ]
    },
    {
      "cell_type": "code",
      "execution_count": 114,
      "metadata": {
        "colab": {
          "base_uri": "https://localhost:8080/",
          "height": 388
        },
        "id": "p1D-7vDKUrc9",
        "outputId": "73b3105d-f71e-48a8-bac4-4000b4ca9f7b"
      },
      "outputs": [
        {
          "output_type": "display_data",
          "data": {
            "text/plain": [
              "<Figure size 288x432 with 1 Axes>"
            ],
            "image/png": "[encoded data removed]"
          },
          "metadata": {
            "needs_background": "light"
          }
        }
      ],
      "source": [
        "model_list= list(model_performances['Model'].unique())\n",
        "accuracy_list= list(model_performances['Accuracy'].sort_values(ascending=False))\n",
        "f,ax = plt.subplots(figsize = (4,6))\n",
        "sns.barplot(x=accuracy_list,y=model_list,color='green',alpha = 0.5)\n",
        "ax.set(xlabel='Test Accuracies', ylabel='Models')\n",
        "plt.show()"
      ]
    },
    {
      "cell_type": "code",
      "execution_count": 115,
      "metadata": {
        "colab": {
          "base_uri": "https://localhost:8080/",
          "height": 369
        },
        "id": "6z5o5-R3UvPa",
        "outputId": "7ed01e98-6932-468b-be38-ebe591426824"
      },
      "outputs": [
        {
          "output_type": "display_data",
          "data": {
            "text/plain": [
              "<Figure size 864x360 with 1 Axes>"
            ],
            "image/png": "[encoded data removed]"
          },
          "metadata": {
            "needs_background": "light"
          }
        }
      ],
      "source": [
        "labels = ['RF','SVM', 'K-NN', 'LR']\n",
        "accuracy = [0.897531,0.885054, 0.789488,0.710711]\n",
        "validation = [0.878750, 0.875631, 0.714693, 0.710711]\n",
        "\n",
        "x = np.arange(len(labels))\n",
        "width = 0.35\n",
        "\n",
        "fig, ax = plt.subplots(figsize=(12, 5))\n",
        "rects1 = ax.bar(x - width/2,accuracy, width, label='Accuracy')\n",
        "rects2 = ax.bar(x + width/2, validation, width, label='Validation')\n",
        "\n",
        "ax.set_xticks(x)\n",
        "ax.set_xticklabels(labels)\n",
        "ax.legend()\n",
        "\n",
        "def autolabel(rects):\n",
        "    for rect in rects:\n",
        "        height = rect.get_height()\n",
        "        ax.annotate('{}'.format(height),\n",
        "                    xy=(rect.get_x() + rect.get_width() / 2, height),\n",
        "                    xytext=(0, 2),\n",
        "                    textcoords=\"offset points\",\n",
        "                    ha='center', va='bottom')\n",
        "        \n",
        "autolabel(rects1)\n",
        "autolabel(rects2)\n",
        "fig.tight_layout()\n",
        "plt.show()"
      ]
    },
    {
      "cell_type": "markdown",
      "metadata": {
        "id": "X6XyZ6Y3UySz"
      },
      "source": [
        "# Conclusion\n",
        "\n",
        "First we tried to predict popular songs using audio features then we added song name texts’ polarity to it and tried to improve our model. We also fitted the model using each importance as a threshold. Although accusticness is the most important of these features did not lead us to a strong result.\n",
        "\n",
        "We had 18835 songs available. Decision Tree algorithms which mainly given better results when we don’t have so much data got the best result with RF. There were no strong linear correlations in our data, so linear methods did not fit well. In LR, We built the model using the gradient decent and this gave the best result in 200 iterations which was a moderate result. As in many popularity studies, we achieved the second best result with SVM. Adding Polarity to features value has almost not changed the result at all . For the future work, the following questions can be asked. Nowadays, the industrialization of popular music has became more common all over the world and most musicians are using computers when they create their songs. So are songs started to be more similar and less unique? Does these affect our predictions in a positive way? With industrialization, prediction of the popular and trendy items are getting easier? Could the prediction increase if we had data with all the songs are created by a computer?"
      ]
    }
  ],
  "metadata": {
    "colab": {
      "provenance": [],
      "authorship_tag": "ABX9TyM9gHK4T/ql3EA7ApX9coBt",
      "include_colab_link": true
    },
    "kernelspec": {
      "display_name": "Python 3",
      "name": "python3"
    },
    "language_info": {
      "name": "python"
    }
  },
  "nbformat": 4,
  "nbformat_minor": 0
}